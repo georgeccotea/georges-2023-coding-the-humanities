{
 "cells": [
  {
   "cell_type": "markdown",
   "metadata": {
    "id": "X8NI2UYxmAxm"
   },
   "source": [
    "# Python basics: Variables\n",
    "\n",
    "This notebook contains information about variables in Python. Use it as a reference whenever needed. Some additional materials for this week can be found in [1. Variables supplemental materials](1_Variables_supplemental.ipynb)"
   ]
  },
  {
   "cell_type": "markdown",
   "metadata": {
    "id": "ptTHd2UqmAxo"
   },
   "source": [
    "### The Zen of Python\n",
    "\n",
    "The 20 principles that influences the design of Python. \n",
    "\n",
    "Written in the 1999, they have been included as the 20th entry of the Python Enhancement Proposals (a.k.a. [PEP 20](https://www.python.org/dev/peps/pep-0020/))."
   ]
  },
  {
   "cell_type": "code",
   "execution_count": null,
   "metadata": {
    "id": "EgKhcsNImAxq"
   },
   "outputs": [],
   "source": [
    "# easter egg\n",
    "import this"
   ]
  },
  {
   "cell_type": "markdown",
   "metadata": {
    "id": "K7yP9VRcmAxr"
   },
   "source": [
    "> *In December 1989, Van Rossum had been looking for a 'hobby' programming project that would keep him occupied during the week around Christmas\" as his office was closed when he decided to write an interpreter for a \"new scripting language he had been thinking about lately: a descendant of ABC that would appeal to Unix/C hackers\". He attributes choosing the name \"Python\" to \"being in a slightly irreverent mood (and a big fan of Monty Python's Flying Circus)\".* \n",
    "\n",
    "Taken from: https://en.wikipedia.org/wiki/Guido_van_Rossum"
   ]
  },
  {
   "cell_type": "markdown",
   "metadata": {
    "id": "JxsAcPsGmAxs"
   },
   "source": [
    "## Getting Started\n",
    "_See the previous [0. Hello World notebook](0_HelloWorld.ipynb) to check if your Python installation is up and running_\n",
    "\n",
    "The simplest way is to type commands directly in the **Interactive** IPython shell:"
   ]
  },
  {
   "cell_type": "code",
   "execution_count": null,
   "metadata": {
    "id": "YdFO7KTxmAxt"
   },
   "outputs": [],
   "source": [
    "print(\"Are we having fun yet?\")"
   ]
  },
  {
   "cell_type": "markdown",
   "metadata": {
    "id": "ZuIak2fwmQSP"
   },
   "source": [
    "If you are using **Google Colab**, you can bring up an interactive shell by using !bash and then asking it to run Python 3 (type python3 into the input field once bash loads, and then execute commands):"
   ]
  },
  {
   "cell_type": "code",
   "execution_count": null,
   "metadata": {
    "id": "0VVoKA3YmRda"
   },
   "outputs": [],
   "source": [
    "!bash"
   ]
  },
  {
   "cell_type": "markdown",
   "metadata": {
    "id": "CIMcx-QHmans"
   },
   "source": [
    "This is great for testing purposes, or for exploratory analysis, but it is very inefficient if you want to reuse the same program multiple times. Instead, what you will do in this course is to write your instructions in a Jupyter Notebook, in which you can also explain your code to the reader using text blocks, and which can be loaded by Google Colab or Jupyter Notebook in Anaconda."
   ]
  },
  {
   "cell_type": "markdown",
   "metadata": {
    "id": "BZxSNCNtmAxt"
   },
   "source": [
    "The basic interface of Jupyter notebooks:"
   ]
  },
  {
   "cell_type": "markdown",
   "metadata": {
    "id": "wY7z_gBUmAxu"
   },
   "source": [
    "![alt text](https://github.com/bloemj/2022-coding-the-humanities/blob/master/notebooks/images/notebook-ui.png?raw=1)"
   ]
  },
  {
   "cell_type": "markdown",
   "metadata": {
    "id": "dnEQeu_9mAxu"
   },
   "source": [
    "Hint: Save your work periodically! All your unsaved code is lost when your browser with Google Colab or your Python interpretor crashes/stalls!"
   ]
  },
  {
   "cell_type": "markdown",
   "metadata": {
    "id": "IVFjzAAimAxw"
   },
   "source": [
    "## Variables\n",
    "\n",
    "Variables are reserved **memory locations** used by a computer program. You use them to store data that you want your code to process."
   ]
  },
  {
   "cell_type": "code",
   "execution_count": null,
   "metadata": {
    "id": "tNWs8yObkwSz"
   },
   "outputs": [],
   "source": [
    "myuni = \"University of Amsterdam\"\n",
    "\n",
    "print(\"My affiliation is: \" + myuni)"
   ]
  },
  {
   "cell_type": "markdown",
   "metadata": {
    "id": "FwAUJqjYkwSz"
   },
   "source": [
    "Each variable is associated with an **identifier** (i.e. a name). Python restricts the naming possibilities of a variable:\n",
    "\n",
    "- identifier characters may be letters, digits or underscores...\n",
    "\n",
    "- ... but the first character cannot be a number\n",
    "\n",
    "- Python keywords (= words that have a special function/meaning in the Python language) cannot be used as identifiers"
   ]
  },
  {
   "cell_type": "markdown",
   "metadata": {
    "id": "qcOmr7rvmAxx"
   },
   "source": [
    "A list of these special keywords can be retrieved by importing the `keywords` module and by printing the `kwlist` attribute. "
   ]
  },
  {
   "cell_type": "code",
   "execution_count": null,
   "metadata": {
    "id": "7zlxy3mHmAxy"
   },
   "outputs": [],
   "source": [
    "# list of Python keywords\n",
    "import keyword\n",
    "print(keyword.kwlist)"
   ]
  },
  {
   "cell_type": "markdown",
   "metadata": {
    "id": "KDRLgtr7mAxz"
   },
   "source": [
    "We're not going to use all these keywords in the code we're writing for this course. You'll get to know the most imortant ones soon enough. Luckily, Jupyter provides some syntax highlighting to let you know that you're typing a Python keyword, and to make you code easier to grasp.\n",
    "\n",
    "If you use one of these keywords as the name for a variable, the Python interpreter, which checks and compiles your code so that the computer can run it, will raise an error. "
   ]
  },
  {
   "cell_type": "code",
   "execution_count": null,
   "metadata": {
    "id": "OOy_sqxKmAxz"
   },
   "outputs": [],
   "source": [
    "# Nope.\n",
    "None = 10"
   ]
  },
  {
   "cell_type": "code",
   "execution_count": null,
   "metadata": {
    "id": "CeYIyT5vmAx0"
   },
   "outputs": [],
   "source": [
    "# This syntax is NOT valid\n",
    "pass = True"
   ]
  },
  {
   "cell_type": "markdown",
   "metadata": {
    "id": "QiRXsrhQmAx0"
   },
   "source": [
    "Warning! The Python interpreter does not always return such an error. It is possible to declare variables with names such as `list` or `id`, even though these are built-in functions of Python. This probably gives unwanted results in the rest of your code. Avoid _hijacking_ them! "
   ]
  },
  {
   "cell_type": "code",
   "execution_count": null,
   "metadata": {
    "id": "vUHU0-d9mAx1"
   },
   "outputs": [],
   "source": [
    "# Valid!\n",
    "oceans11 = \"https://www.imdb.com/title/tt0240772/\""
   ]
  },
  {
   "cell_type": "code",
   "execution_count": null,
   "metadata": {
    "id": "5NG9MpHymAx1"
   },
   "outputs": [],
   "source": [
    "# Not valid\n",
    "101dalmatians = \"https://www.imdb.com/title/tt0115433/\""
   ]
  },
  {
   "cell_type": "code",
   "execution_count": null,
   "metadata": {
    "id": "KwEkFbSCmAx2"
   },
   "outputs": [],
   "source": [
    "# Valid\n",
    "hundred_and_one_dalmatians = \"https://www.imdb.com/title/tt0115433/\""
   ]
  },
  {
   "cell_type": "markdown",
   "metadata": {
    "id": "2zXmXJjJmAx2"
   },
   "source": [
    "Keep in mind that all code you write is case sensitive. Although the following is allowed,\n",
    "\n",
    "```python\n",
    "# Very bad coding example\n",
    "true = False  # the keyword True has a capital letter\n",
    "```\n",
    "\n",
    "it is better to stay away from naming your variables this way! What counts is that you give the variable a name that makes sense. But, make sure that they start with a lowercase letter! (= naming convention)"
   ]
  },
  {
   "cell_type": "markdown",
   "metadata": {
    "id": "Pbuw6-3fmAx2"
   },
   "source": [
    "### Declaring variables\n",
    "\n",
    "Python does not require variables to be declared explicitly, unlike what is common in some other programming languages. In Python, variables are created when you first assign a value to them and you can declare them on the go and where needed.\n",
    "\n",
    "The symbol `=` is used to assign values to variables. "
   ]
  },
  {
   "cell_type": "code",
   "execution_count": 1,
   "metadata": {
    "id": "HstJJsPamAx3"
   },
   "outputs": [],
   "source": [
    "# Let's associate the value 55 to the variable named \"lucky_number\"\n",
    "lucky_number = 55"
   ]
  },
  {
   "cell_type": "code",
   "execution_count": 2,
   "metadata": {
    "id": "_eYFc0G3mAx3"
   },
   "outputs": [
    {
     "data": {
      "text/plain": "55"
     },
     "execution_count": 2,
     "metadata": {},
     "output_type": "execute_result"
    }
   ],
   "source": [
    "lucky_number"
   ]
  },
  {
   "cell_type": "markdown",
   "metadata": {
    "id": "vriubYbimAx4"
   },
   "source": [
    "This variable is now declared and has been assigned the number 55. When you run the cell in this notebook, the variable is kept in the notebook's memory. This means that we can call it in other cells we run _after_ the cell in which we declared the variable. "
   ]
  },
  {
   "cell_type": "markdown",
   "metadata": {
    "id": "NcX--6p6mAx4"
   },
   "source": [
    "One of the built-in functions of Python is the `type()` function, by which you can inspect the type of value that is assigned to the variable. You can use this function on any Python 'object'. "
   ]
  },
  {
   "cell_type": "code",
   "execution_count": 3,
   "metadata": {
    "id": "Pd3xBsXzmAx4"
   },
   "outputs": [
    {
     "data": {
      "text/plain": "int"
     },
     "execution_count": 3,
     "metadata": {},
     "output_type": "execute_result"
    }
   ],
   "source": [
    "# The type of value of the variable can be inspected with the function type()\n",
    "type(lucky_number)"
   ]
  },
  {
   "cell_type": "markdown",
   "metadata": {
    "id": "eo7LK8rimAx4"
   },
   "source": [
    "### Changing variables\n",
    "You can change the value that is assigned to a variable. In Python, this is NOT restricted to a change within the same datatype. "
   ]
  },
  {
   "cell_type": "code",
   "execution_count": 4,
   "metadata": {
    "id": "Xekp7V9GmAx4"
   },
   "outputs": [
    {
     "name": "stdout",
     "output_type": "stream",
     "text": [
      "55 <class 'int'>\n",
      "55 <class 'str'>\n"
     ]
    }
   ],
   "source": [
    "# Let's print the initial value of the variable and its type\n",
    "print(lucky_number, type(lucky_number))\n",
    "\n",
    "# Now convert our numerical variable into a digit (i.e. into text)\n",
    "lucky_number = str(lucky_number)\n",
    "\n",
    "# Do the same printing\n",
    "print(lucky_number, type(lucky_number))\n"
   ]
  },
  {
   "cell_type": "code",
   "execution_count": 7,
   "metadata": {
    "id": "vm4AOh_FmAx5"
   },
   "outputs": [
    {
     "data": {
      "text/plain": "'55'"
     },
     "execution_count": 7,
     "metadata": {},
     "output_type": "execute_result"
    }
   ],
   "source": [
    "lucky_number"
   ]
  },
  {
   "cell_type": "markdown",
   "metadata": {
    "id": "Yp9ZHJXamAx5"
   },
   "source": [
    "As you saw above, converting any datatype to a text (=string) can be done using the `str()` function. This is for instance usefull if you want to dynamically format the messages that are printed. "
   ]
  },
  {
   "cell_type": "code",
   "execution_count": 5,
   "metadata": {
    "id": "0nBI5XG6mAx5"
   },
   "outputs": [
    {
     "name": "stdout",
     "output_type": "stream",
     "text": [
      "My lucky number is 55\n"
     ]
    }
   ],
   "source": [
    "message = \"My lucky number is \" + lucky_number  # this only works if lucky_number is of type str()\n",
    "print(message)\n"
   ]
  },
  {
   "cell_type": "code",
   "execution_count": 13,
   "metadata": {
    "id": "827G0uZmmAx5"
   },
   "outputs": [
    {
     "name": "stdout",
     "output_type": "stream",
     "text": [
      "My unlucky number is 13\n"
     ]
    }
   ],
   "source": [
    "unlucky_number = 13\n",
    "message = \"My unlucky number is \" + str(unlucky_number)  # what is the datatype of unlucky_number?\n",
    "print(message)"
   ]
  },
  {
   "cell_type": "markdown",
   "metadata": {
    "id": "KtfFGIadmAx7"
   },
   "source": [
    "How can the error above be fixed?"
   ]
  },
  {
   "cell_type": "markdown",
   "metadata": {
    "id": "E3AhPD8amAx7"
   },
   "source": [
    "---"
   ]
  },
  {
   "cell_type": "markdown",
   "metadata": {
    "id": "k7nyhryYmAx7"
   },
   "source": [
    "## Built-in data types\n",
    "\n",
    "Python natively supports the following basic types:\n",
    "\n",
    "- **Boolean**: *bool*\n",
    "\n",
    "- **None**: *NoneType*\n",
    "\n",
    "- **Numerical**: *int*, *float*, *long*, *complex*\n",
    "\n",
    "- **Sequence**: *string*, *list*, *tuple*\n",
    "\n",
    "- **Set**: *set*, *frozenset*\n",
    "\n",
    "- **Dictionaries**\n"
   ]
  },
  {
   "cell_type": "markdown",
   "metadata": {
    "id": "HkkC6WNsmAx7"
   },
   "source": [
    "#### Mutable vs. Immutable objects\n",
    "\n",
    "Python data types can be organized by distinguishing those types whose objects can change after their creation (**Mutable**) and those that do not admit such possibility (**Immutable**). If a variable is of a mutable datatype, you can _overwrite_ its value, instead of creating a new object. Assigning a new value to an existing variable is always possible. \n",
    "\n",
    "| Immutables|   Mutables|\n",
    "|:---------:|:---------:|\n",
    "|  Numerical|          -|\n",
    "|     String|          -|\n",
    "|      Tuple|       List|\n",
    "|  Frozenset|        Set|\n",
    "|          -| Dictionary|\n"
   ]
  },
  {
   "cell_type": "markdown",
   "metadata": {
    "id": "MInY1pyomAx7"
   },
   "source": [
    "### NoneType\n",
    "\n",
    "It has one sole value: `None`. It is used to represent the absence of a value.\n"
   ]
  },
  {
   "cell_type": "markdown",
   "metadata": {
    "id": "ZhQswr1NmAx8"
   },
   "source": [
    "### bool\n",
    "\n",
    "Boolean logical values, can be `True` or `False`.\n",
    "\n",
    "To be used to represent the truth or falsity of some condition."
   ]
  },
  {
   "cell_type": "markdown",
   "metadata": {
    "id": "KrvKab04mAx8"
   },
   "source": [
    "#### Boolean Operators\n",
    "\n",
    "- **and**: conjunction\n",
    "- **or**: inclusive disjunction\n",
    "- **not**: negation"
   ]
  },
  {
   "cell_type": "code",
   "execution_count": null,
   "metadata": {
    "id": "RgvO2P5DmAx8"
   },
   "outputs": [],
   "source": [
    "True and False or True"
   ]
  },
  {
   "cell_type": "code",
   "execution_count": null,
   "metadata": {
    "id": "L4HP6n01mAx8"
   },
   "outputs": [],
   "source": [
    "not True == False"
   ]
  },
  {
   "cell_type": "code",
   "execution_count": null,
   "metadata": {
    "id": "v3rxqdH4mAx9"
   },
   "outputs": [],
   "source": [
    "# Why does this give an error?\n",
    "True == not False"
   ]
  },
  {
   "cell_type": "code",
   "execution_count": null,
   "metadata": {
    "id": "dQEQea5VmAx9"
   },
   "outputs": [],
   "source": [
    "True == (not False)"
   ]
  },
  {
   "cell_type": "markdown",
   "metadata": {
    "id": "QJfCmr0imAx9"
   },
   "source": [
    "### Numerical Types\n",
    "\n",
    "- **int**: integers, e.g. `42`\n",
    "- **long**: long integers of non-limited length, e.g. `15L`\n",
    "- **float**: floating-point numbers, e.g. `8.75638`\n",
    "- **complex**: complex numbers, e.g. `1.23+4.56j`\n",
    "\n",
    "Most likely, the only two datatypes you'll be using are integer (`int()`) and float (`float()`).\n",
    "\n"
   ]
  },
  {
   "cell_type": "markdown",
   "metadata": {
    "id": "j7SHu6NNmAx9"
   },
   "source": [
    "#### Using Python as a Calculator\n",
    "\n",
    "The simplest way to perform calculations with Python is by using the interactive shell as a fancy calculator. \n",
    "\n",
    "Some of the operations supported by all the numeric types are:"
   ]
  },
  {
   "cell_type": "code",
   "execution_count": 14,
   "metadata": {
    "id": "gMMNfzMhmAx-"
   },
   "outputs": [
    {
     "data": {
      "text/plain": "8"
     },
     "execution_count": 14,
     "metadata": {},
     "output_type": "execute_result"
    }
   ],
   "source": [
    "# addition\n",
    "3 + 5"
   ]
  },
  {
   "cell_type": "code",
   "execution_count": 15,
   "metadata": {
    "id": "bYJcbGoomAx-"
   },
   "outputs": [
    {
     "data": {
      "text/plain": "4"
     },
     "execution_count": 15,
     "metadata": {},
     "output_type": "execute_result"
    }
   ],
   "source": [
    "# difference\n",
    "9 - 5"
   ]
  },
  {
   "cell_type": "code",
   "execution_count": 16,
   "metadata": {
    "id": "6I7SRNHHmAx-"
   },
   "outputs": [
    {
     "data": {
      "text/plain": "450"
     },
     "execution_count": 16,
     "metadata": {},
     "output_type": "execute_result"
    }
   ],
   "source": [
    "# product\n",
    "9 * 50"
   ]
  },
  {
   "cell_type": "code",
   "execution_count": 17,
   "metadata": {
    "id": "8BATUPmTmAx-"
   },
   "outputs": [
    {
     "data": {
      "text/plain": "4.5"
     },
     "execution_count": 17,
     "metadata": {},
     "output_type": "execute_result"
    }
   ],
   "source": [
    "# quotient\n",
    "9 / 2"
   ]
  },
  {
   "cell_type": "code",
   "execution_count": 18,
   "metadata": {
    "id": "tO9O0Xa4mAyB"
   },
   "outputs": [
    {
     "data": {
      "text/plain": "9"
     },
     "execution_count": 18,
     "metadata": {},
     "output_type": "execute_result"
    }
   ],
   "source": [
    "# x to the power of y\n",
    "3 ** 2"
   ]
  },
  {
   "cell_type": "markdown",
   "metadata": {
    "id": "Wd9KcfeamAyB"
   },
   "source": [
    "Alternatively, use the built-in function `pow()` ([manual](https://docs.python.org/3.8/library/functions.html#pow))"
   ]
  },
  {
   "cell_type": "code",
   "execution_count": 19,
   "metadata": {
    "id": "9zMIXug6mAyC"
   },
   "outputs": [
    {
     "data": {
      "text/plain": "9"
     },
     "execution_count": 19,
     "metadata": {},
     "output_type": "execute_result"
    }
   ],
   "source": [
    "pow(3, 2)"
   ]
  },
  {
   "cell_type": "code",
   "execution_count": 20,
   "metadata": {
    "id": "HHYV_MUomAyC"
   },
   "outputs": [
    {
     "data": {
      "text/plain": "1.77"
     },
     "execution_count": 20,
     "metadata": {},
     "output_type": "execute_result"
    }
   ],
   "source": [
    "# Round a number to a given precision in decimal digits (default 0 digits)\n",
    "round(1.765432, 2)"
   ]
  },
  {
   "cell_type": "markdown",
   "metadata": {
    "id": "DhTlM6CUmAyD"
   },
   "source": [
    "---"
   ]
  },
  {
   "cell_type": "markdown",
   "metadata": {
    "id": "GUCH2yFpmAyD"
   },
   "source": [
    "### Quiz\n",
    "\n",
    "Calculate the number of seconds we're going to spend in this classroom together."
   ]
  },
  {
   "cell_type": "code",
   "execution_count": 25,
   "metadata": {
    "id": "YznnllDzmAyD"
   },
   "outputs": [
    {
     "data": {
      "text/plain": "7200"
     },
     "execution_count": 25,
     "metadata": {},
     "output_type": "execute_result"
    }
   ],
   "source": [
    "# your code here\n",
    "seconds=pow(60,2)\n",
    "timeInClass=2*seconds\n",
    "timeInClass"
   ]
  },
  {
   "cell_type": "markdown",
   "metadata": {
    "id": "2SxlzhghmAyD"
   },
   "source": [
    "---"
   ]
  },
  {
   "cell_type": "markdown",
   "metadata": {
    "id": "OdGDe0KbmAyE"
   },
   "source": [
    "## Changing variables\n",
    "While the previous operators produce new variables, the following perform the operation **in-place**. \n",
    "\n",
    "That is, the variable itself is changed in the result of the process."
   ]
  },
  {
   "cell_type": "code",
   "execution_count": 26,
   "metadata": {
    "id": "cMPYHxWlmAyE"
   },
   "outputs": [
    {
     "data": {
      "text/plain": "8"
     },
     "execution_count": 26,
     "metadata": {},
     "output_type": "execute_result"
    }
   ],
   "source": [
    "# Our variable\n",
    "magic_number = 8\n",
    "magic_number"
   ]
  },
  {
   "cell_type": "code",
   "execution_count": 27,
   "metadata": {
    "id": "h94rfMISmAyE"
   },
   "outputs": [
    {
     "data": {
      "text/plain": "11"
     },
     "execution_count": 27,
     "metadata": {},
     "output_type": "execute_result"
    }
   ],
   "source": [
    "# In place addition\n",
    "magic_number += 3\n",
    "magic_number"
   ]
  },
  {
   "cell_type": "code",
   "execution_count": 28,
   "metadata": {
    "id": "SdRh9HVPmAyF"
   },
   "outputs": [
    {
     "data": {
      "text/plain": "14"
     },
     "execution_count": 28,
     "metadata": {},
     "output_type": "execute_result"
    }
   ],
   "source": [
    "# Is the same as\n",
    "# In place addition\n",
    "magic_number = magic_number + 3\n",
    "magic_number"
   ]
  },
  {
   "cell_type": "code",
   "execution_count": 29,
   "metadata": {
    "id": "m_tcBfN-mAyF"
   },
   "outputs": [
    {
     "data": {
      "text/plain": "11"
     },
     "execution_count": 29,
     "metadata": {},
     "output_type": "execute_result"
    }
   ],
   "source": [
    "# In place subtraction\n",
    "magic_number -= 3\n",
    "magic_number"
   ]
  },
  {
   "cell_type": "code",
   "execution_count": 30,
   "metadata": {
    "id": "xDjozll6mAyF"
   },
   "outputs": [
    {
     "data": {
      "text/plain": "33"
     },
     "execution_count": 30,
     "metadata": {},
     "output_type": "execute_result"
    }
   ],
   "source": [
    "# In place multiplication\n",
    "magic_number *= 3\n",
    "magic_number"
   ]
  },
  {
   "cell_type": "code",
   "execution_count": 31,
   "metadata": {
    "id": "xoG69qPImAyG"
   },
   "outputs": [
    {
     "data": {
      "text/plain": "11.0"
     },
     "execution_count": 31,
     "metadata": {},
     "output_type": "execute_result"
    }
   ],
   "source": [
    "# In place division. What's the datatype after this operation?\n",
    "magic_number /= 3\n",
    "magic_number"
   ]
  },
  {
   "cell_type": "markdown",
   "metadata": {
    "id": "eY8vfIm-mAyG"
   },
   "source": [
    "### Relational Operators\n",
    "\n",
    "Comparisons are supported by all objects. The main comparison operators are:\n",
    "\n",
    "|   Operator|                Semantics|\n",
    "|:---------:|:-----------------------:|\n",
    "|         ==|                    equal|\n",
    "|         !=|                not equal|\n",
    "|          <|                less-than|\n",
    "|         <=|    less-than or equal to|\n",
    "|          >|             greater-then|\n",
    "|         >=| greater-then or equal to|\n",
    "|         is| object identity|\n",
    "|         is not| negated object identity|\n",
    "\n",
    "Relational operators are used to **test conditions**, and the output is a boolean value"
   ]
  },
  {
   "cell_type": "code",
   "execution_count": 32,
   "metadata": {
    "id": "NRWeAtvRmAyG"
   },
   "outputs": [
    {
     "data": {
      "text/plain": "False"
     },
     "execution_count": 32,
     "metadata": {},
     "output_type": "execute_result"
    }
   ],
   "source": [
    "# Is 7 bigger than 9?\n",
    "7 > 9"
   ]
  },
  {
   "cell_type": "code",
   "execution_count": 33,
   "metadata": {
    "id": "P55BfwjOmAyH"
   },
   "outputs": [
    {
     "data": {
      "text/plain": "True"
     },
     "execution_count": 33,
     "metadata": {},
     "output_type": "execute_result"
    }
   ],
   "source": [
    "# Is 10 smaller than or equal to 10?\n",
    "10 <= 10"
   ]
  },
  {
   "cell_type": "code",
   "execution_count": 34,
   "metadata": {
    "id": "9STDLb1LmAyH"
   },
   "outputs": [
    {
     "data": {
      "text/plain": "True"
     },
     "execution_count": 34,
     "metadata": {},
     "output_type": "execute_result"
    }
   ],
   "source": [
    "10 != \"10\""
   ]
  },
  {
   "cell_type": "markdown",
   "metadata": {
    "id": "y264OyLomAyH"
   },
   "source": [
    "NOTE: `is` checks if two things **are the same object, and have the same identity in memory**, not just if they are equal"
   ]
  },
  {
   "cell_type": "code",
   "execution_count": 35,
   "metadata": {
    "id": "l-Dj5xBRmAyH"
   },
   "outputs": [
    {
     "name": "stdout",
     "output_type": "stream",
     "text": [
      "True\n",
      "False\n"
     ]
    },
    {
     "name": "stderr",
     "output_type": "stream",
     "text": [
      "<>:3: SyntaxWarning: \"is\" with a literal. Did you mean \"==\"?\n",
      "<>:3: SyntaxWarning: \"is\" with a literal. Did you mean \"==\"?\n",
      "/var/folders/pw/0jnrbf6s3txb6ccbwcplvk7h0000gn/T/ipykernel_5186/3631824940.py:3: SyntaxWarning: \"is\" with a literal. Did you mean \"==\"?\n",
      "  print(False is 0)\n"
     ]
    }
   ],
   "source": [
    "# The value 0 (of any numerical type) is considered to be False, but 0 is not False\n",
    "print(False == 0)\n",
    "print(False is 0)"
   ]
  },
  {
   "cell_type": "code",
   "execution_count": 36,
   "metadata": {
    "id": "0M0LckUPmAyI"
   },
   "outputs": [
    {
     "name": "stdout",
     "output_type": "stream",
     "text": [
      "True\n",
      "False\n"
     ]
    },
    {
     "name": "stderr",
     "output_type": "stream",
     "text": [
      "<>:2: SyntaxWarning: \"is\" with a literal. Did you mean \"==\"?\n",
      "<>:2: SyntaxWarning: \"is\" with a literal. Did you mean \"==\"?\n",
      "/var/folders/pw/0jnrbf6s3txb6ccbwcplvk7h0000gn/T/ipykernel_5186/4074305726.py:2: SyntaxWarning: \"is\" with a literal. Did you mean \"==\"?\n",
      "  print(True is 1)\n"
     ]
    }
   ],
   "source": [
    "print(True == 1)\n",
    "print(True is 1)"
   ]
  },
  {
   "cell_type": "code",
   "execution_count": null,
   "metadata": {
    "id": "PblcQSVjmAyI"
   },
   "outputs": [],
   "source": [
    "unassigned = None\n",
    "print(unassigned is None)"
   ]
  },
  {
   "cell_type": "code",
   "execution_count": null,
   "metadata": {
    "id": "zQRbeEDCmAyI"
   },
   "outputs": [],
   "source": [
    "assigned = 0\n",
    "print(assigned == False)\n",
    "print(assigned is False)"
   ]
  },
  {
   "cell_type": "markdown",
   "metadata": {
    "id": "wIFEfhP9mAyJ"
   },
   "source": [
    "### Quiz\n",
    "\n",
    "When to use the `is` statement? And how does it differ from `==`? Can you illustrate this with an example? How is this related to Python's memory management?\n",
    "\n",
    "Hint: More info on the `id()` function in this ([thread](https://stackoverflow.com/questions/132988/is-there-a-difference-between-and-is))"
   ]
  },
  {
   "cell_type": "code",
   "execution_count": null,
   "metadata": {
    "id": "8CSR-W6zmAyJ"
   },
   "outputs": [],
   "source": [
    "# Test this out. When is the identity of an object changed?\n",
    "# "
   ]
  },
  {
   "cell_type": "markdown",
   "metadata": {
    "id": "E6osLX-MmAyJ"
   },
   "source": [
    "---"
   ]
  },
  {
   "cell_type": "markdown",
   "metadata": {
    "id": "bbse84_WmAyJ"
   },
   "source": [
    "## Iterables / sequences\n",
    "\n",
    "We will focus on two types of sequences: **lists** this week, and **strings** next week (see the [documentation](https://docs.python.org/3.8/library/stdtypes.html#sequence-types-list-tuple-range) for the full list). \n",
    "\n",
    "Most sequence types support the following operations (where `s` and `t` are sequences, `n`, `i` and `j` integers):\n",
    "\n",
    "|   Operation|                Result|\n",
    "|:----------:|:-----------------------:|\n",
    "|      x in s|  True if an item of s is equal to x|\n",
    "|  x not in s|  False if an item of s is equal to x|\n",
    "|       s + t| Concatenation of s and t|\n",
    "|       s * n|   add s to itself n times (negative n are treated as 0)|\n",
    "|        s\\[i\\]|\tith item of s, origin 0|\n",
    "|      s\\[i:j\\]|   slice of s from i to j|\n",
    "|    s\\[i:j:k\\]| slice of s from i to j with step k|\n",
    "|      len(s)| length of s|\t \n",
    "|      min(s)| smallest item of s|\n",
    "|      max(s)| largest item of s|\n",
    "|  s.index(x)| index of the first occurrence of x in s |\n",
    "|  s.count(x)| total number of occurrences of x in s|"
   ]
  },
  {
   "cell_type": "markdown",
   "metadata": {
    "id": "WzTk_X4rmAyK"
   },
   "source": [
    "### Lists\n",
    "\n",
    "\n",
    "Lists are **ordered** **mutable** sequences of **heterogeneous** elements.\n",
    "\n",
    "In the Python language, lists are defined by square brackets `[]` and their elements are separated by commas."
   ]
  },
  {
   "cell_type": "code",
   "execution_count": 37,
   "metadata": {
    "id": "OPHL6EKnmAyK"
   },
   "outputs": [
    {
     "name": "stdout",
     "output_type": "stream",
     "text": [
      "['text', 'text', 'text', 23, '42', 92, 'another text', [1, 2, 3]]\n"
     ]
    }
   ],
   "source": [
    "# Lists can contain different types of objects,\n",
    "# even another list like [1,2,3]\n",
    "\n",
    "demo_list = [\"text\", \"text\", \"text\", 23, \"42\", 92, 'another text', [1,2,3]]\n",
    "\n",
    "print(demo_list)"
   ]
  },
  {
   "cell_type": "code",
   "execution_count": 43,
   "metadata": {
    "id": "hl692GQRmAyK"
   },
   "outputs": [
    {
     "name": "stdout",
     "output_type": "stream",
     "text": [
      "8\n",
      "3\n"
     ]
    }
   ],
   "source": [
    "# The len() function returns the length of the list\n",
    "wholeList = len(demo_list)\n",
    "#[7] counts the 7th element in the list!!!\n",
    "seventhItem = len(demo_list[7])\n",
    "print(wholeList)\n",
    "print(seventhItem)"
   ]
  },
  {
   "cell_type": "code",
   "execution_count": 39,
   "metadata": {
    "id": "Vy9eKYEvmAyK"
   },
   "outputs": [
    {
     "data": {
      "text/plain": "True"
     },
     "execution_count": 39,
     "metadata": {},
     "output_type": "execute_result"
    }
   ],
   "source": [
    "# Membership verification (return a boolean value)\n",
    "\"text\" in demo_list"
   ]
  },
  {
   "cell_type": "code",
   "execution_count": 44,
   "metadata": {
    "id": "6uHL_NC0mAyL"
   },
   "outputs": [
    {
     "data": {
      "text/plain": "3"
     },
     "execution_count": 44,
     "metadata": {},
     "output_type": "execute_result"
    }
   ],
   "source": [
    "# Count the number of occurences of an element in the list\n",
    "demo_list.count(\"text\")"
   ]
  },
  {
   "cell_type": "code",
   "execution_count": 45,
   "metadata": {
    "id": "Jh8SxO7FmAyL"
   },
   "outputs": [
    {
     "data": {
      "text/plain": "False"
     },
     "execution_count": 45,
     "metadata": {},
     "output_type": "execute_result"
    }
   ],
   "source": [
    "42 in demo_list  # Why?"
   ]
  },
  {
   "cell_type": "code",
   "execution_count": null,
   "metadata": {
    "id": "61GQp85AmAyL"
   },
   "outputs": [],
   "source": []
  },
  {
   "cell_type": "markdown",
   "metadata": {
    "id": "IhgK3tGHmAyM"
   },
   "source": [
    "#### List concatenation"
   ]
  },
  {
   "cell_type": "code",
   "execution_count": 46,
   "metadata": {
    "id": "coeup2rxmAyM"
   },
   "outputs": [
    {
     "data": {
      "text/plain": "['Example',\n 'concatenation',\n 'text',\n 'text',\n 'text',\n 23,\n '42',\n 92,\n 'another text',\n [1, 2, 3]]"
     },
     "execution_count": 46,
     "metadata": {},
     "output_type": "execute_result"
    }
   ],
   "source": [
    "# Concatenation\n",
    "new_demo_list = [\"Example\", \"concatenation\"]\n",
    "\n",
    "new_demo_list += demo_list\n",
    "new_demo_list"
   ]
  },
  {
   "cell_type": "code",
   "execution_count": 47,
   "metadata": {
    "id": "JHIqHmhAmAyN"
   },
   "outputs": [
    {
     "data": {
      "text/plain": "['text',\n 'text',\n 'text',\n 23,\n '42',\n 92,\n 'another text',\n [1, 2, 3],\n 'text',\n 'text',\n 'text',\n 23,\n '42',\n 92,\n 'another text',\n [1, 2, 3],\n 'text',\n 'text',\n 'text',\n 23,\n '42',\n 92,\n 'another text',\n [1, 2, 3]]"
     },
     "execution_count": 47,
     "metadata": {},
     "output_type": "execute_result"
    }
   ],
   "source": [
    "# Repetition\n",
    "new_demo_list = demo_list * 3\n",
    "new_demo_list"
   ]
  },
  {
   "cell_type": "markdown",
   "metadata": {
    "id": "Jz9IMwYXmAyN"
   },
   "source": [
    "#### Lists are ordered"
   ]
  },
  {
   "cell_type": "code",
   "execution_count": 48,
   "metadata": {
    "id": "-7xaQAElmAyO"
   },
   "outputs": [
    {
     "data": {
      "text/plain": "'text'"
     },
     "execution_count": 48,
     "metadata": {},
     "output_type": "execute_result"
    }
   ],
   "source": [
    "# Lists are ordered, elements can be recalled by using their index\n",
    "# Remember that the index of the first element is 0\n",
    "\n",
    "demo_list[0]"
   ]
  },
  {
   "cell_type": "code",
   "execution_count": 49,
   "metadata": {
    "id": "BanYs00ZmAyP"
   },
   "outputs": [
    {
     "data": {
      "text/plain": "[1, 2, 3]"
     },
     "execution_count": 49,
     "metadata": {},
     "output_type": "execute_result"
    }
   ],
   "source": [
    "# The index \"-1\" is associated with the last element\n",
    "\n",
    "demo_list[-1]  # As you can see when inspecting the original demo_list, there is a list in a list"
   ]
  },
  {
   "cell_type": "code",
   "execution_count": 50,
   "metadata": {
    "id": "NcD0AMSRmAyP"
   },
   "outputs": [
    {
     "data": {
      "text/plain": "3"
     },
     "execution_count": 50,
     "metadata": {},
     "output_type": "execute_result"
    }
   ],
   "source": [
    "# Check the position of the element \"23\"\n",
    "\n",
    "demo_list.index(23)  # Is this the third or the fourth element?"
   ]
  },
  {
   "cell_type": "markdown",
   "metadata": {
    "id": "0r9LpggwmAyQ"
   },
   "source": [
    "### Quiz"
   ]
  },
  {
   "cell_type": "code",
   "execution_count": 62,
   "metadata": {
    "id": "YeKmFSfemAyR"
   },
   "outputs": [
    {
     "name": "stdout",
     "output_type": "stream",
     "text": [
      "[1, 2, 3, 4, 5, 'One', 'Two', 'Three', 'Four', 'Five']\n",
      "8\n"
     ]
    },
    {
     "data": {
      "text/plain": "10"
     },
     "execution_count": 62,
     "metadata": {},
     "output_type": "execute_result"
    }
   ],
   "source": [
    "# Make one list out of these two lists using a Python operator or function:\n",
    "\n",
    "first_list = [1, 2, 3, 4, 5]\n",
    "second_list = [\"One\", \"Two\", \"Three\", \"Four\", \"Five\"]\n",
    "\n",
    "# Your code here\n",
    "all_elements = first_list + second_list\n",
    "print(all_elements)\n",
    "\n",
    "# What is the position of element \"Four\" in the new list?\n",
    "index = all_elements.index('Four')\n",
    "print(index)\n",
    "# How many elements does this new list contain? Hint: use len(all_elements)\n",
    "len(all_elements)\n"
   ]
  },
  {
   "cell_type": "code",
   "execution_count": 72,
   "metadata": {
    "id": "GvIANk4WmAyR"
   },
   "outputs": [
    {
     "name": "stdout",
     "output_type": "stream",
     "text": [
      "['🐜', '🐜', '🐜', '🐜', '🐜', '🐜', '🐜', '🐜', '🐜', '🐜', '🐜', '🐜', '🐜', '🐜', '🐜', '🐜', '🐜', '🐜', '🐜', '🐜', '🐜', '🐜', '🐜', '🐜', '🐜', '🐜', '🐜', '🐜', '🐜', '🐜', '🐜', '🐜', '🐜', '🐜', '🐜', '🐜', '🐜', '🐜', '🐜', '🐜', '🐜', '🐜', '🐜', '🐜', '🐜', '🐜', '🐜', '🐜', '🐜', '🐜', '🐜', '🐜', '🐜', '🐜', '🐜', '🐜', '🐜', '🐜', '🐜', '🐜', '🐜', '🐜', '🐜', '🐜', '🐜', '🐜', '🐜', '🐜', '🐜', '🐜', '🐜', '🐜', '🐜', '🐜', '🐜', '🐜', '🐜', '🐜', '🐜', '🐜', '🐜', '🐜', '🐜', '🐜', '🐜', '🐜', '🐜', '🐜', '🐜', '🐜', '🐜', '🐜', '🐜', '🐜', '🐜', '🐜', '🐜', '🐜', '🐜', '🐜', '🐜', '🐜', '🐜', '🐜', '🐜', '🐜', '🐜', '🐜', '🐜', '🐜', '🐜', '🐜', '🐜', '🐜', '🐜', '🐜', '🐜', '🐜', '🐜', '🐜', '🐜', '🐜', '🐜', '🐜', '🐜', '🐜', '🐜', '🐜', '🐜', '🐜', '🐜', '🐜', '🐜', '🐜', '🐜', '🐜', '🐜', '🐜', '🐜', '🐜', '🐜', '🐜', '🐜', '🐜', '🐜', '🐜', '🐜', '🐜', '🐜', '🐜', '🐜', '🐜', '🐜', '🐜', '🐜', '🐜', '🐜', '🐜', '🐜', '🐜', '🐜', '🐜', '🐜', '🐜', '🐜', '🐜', '🐜', '🐜', '🐜', '🐜', '🐜', '🐜', '🐜', '🐜', '🐜', '🐜', '🐜', '🐜', '🐜', '🐜', '🐜', '🐜', '🐜', '🐜', '🐜', '🐜', '🐜', '🐜', '🐜', '🐜', '🐜', '🐜', '🐜', '🐜', '🐜', '🐜', '🐜', '🐜', '🐜', '🐜']\n",
      "There are 200 ant(s) printed here\n"
     ]
    }
   ],
   "source": [
    "# This also works for strings (e.g. emojis). Print 200 ants in one paragraph:\n",
    "\n",
    "text = \"🐜\"\n",
    "paragraph = [text] * 200\n",
    "print(paragraph)\n",
    "\n",
    "#Fill in (and uncomment) by using the len() function on the paragraph.\n",
    "antcount = len(paragraph)\n",
    "print(\"There are \" + str(antcount) + \" ant(s) printed here\")"
   ]
  },
  {
   "cell_type": "markdown",
   "metadata": {
    "id": "WTTCR9IBmAyR"
   },
   "source": [
    "---"
   ]
  },
  {
   "cell_type": "markdown",
   "metadata": {
    "id": "b3jv3Jp5mAyS"
   },
   "source": [
    "#### Slicing\n",
    "\n",
    "\n",
    "Slicing is a **computationally fast** way to extract a portion of a sequence in order to create a new sequence. \n",
    "\n",
    "Slicing Notation works in the following way:\n",
    "\n",
    "\n",
    "```python\n",
    "sequence[start:stop:step]\n",
    "```"
   ]
  },
  {
   "cell_type": "markdown",
   "metadata": {
    "id": "M7h--pdemAyS"
   },
   "source": [
    "##### Slicing rules\n",
    "\n",
    "- The slice of the sequence `s` from `start` to `stop` is defined as the sequence of items with index `k` such that `start` <= `k` < `stop`. \n",
    "\n",
    "\n",
    "- If `start` or `stop` is greater than len(`s`), use len(`s`). \n",
    "\n",
    "\n",
    "- If `start` is omitted or `None`, use 0. \n",
    "\n",
    "\n",
    "- If `stop` is omitted or `None`, use len(`s`). \n",
    "\n",
    "\n",
    "- If `start` or `stop` is negative, the index is relative to the end of sequence."
   ]
  },
  {
   "cell_type": "markdown",
   "metadata": {
    "id": "ELFBXE9BmAyS"
   },
   "source": [
    "![alt text](https://github.com/bloemj/2022-coding-the-humanities/blob/master/notebooks/images/list-slicing.png?raw=1)"
   ]
  },
  {
   "cell_type": "code",
   "execution_count": 63,
   "metadata": {
    "id": "04u2-bChmAyT"
   },
   "outputs": [
    {
     "name": "stdout",
     "output_type": "stream",
     "text": [
      "['text', 'text', 'text', 23, '42', 92, 'another text', [1, 2, 3]]\n"
     ]
    }
   ],
   "source": [
    "print(demo_list)"
   ]
  },
  {
   "cell_type": "code",
   "execution_count": 64,
   "metadata": {
    "id": "EGqXF1smmAyT"
   },
   "outputs": [
    {
     "data": {
      "text/plain": "[23, '42']"
     },
     "execution_count": 64,
     "metadata": {},
     "output_type": "execute_result"
    }
   ],
   "source": [
    "# Slicing with positive indices \n",
    "demo_list[3:5]"
   ]
  },
  {
   "cell_type": "code",
   "execution_count": 65,
   "metadata": {
    "id": "u35EMz_tmAyT"
   },
   "outputs": [
    {
     "data": {
      "text/plain": "[92, 'another text']"
     },
     "execution_count": 65,
     "metadata": {},
     "output_type": "execute_result"
    }
   ],
   "source": [
    "# Slicing works with negative indices as well \n",
    "demo_list[-3:-1]"
   ]
  },
  {
   "cell_type": "code",
   "execution_count": null,
   "metadata": {
    "id": "CxGDcU82mAyU"
   },
   "outputs": [],
   "source": [
    "# Slicing works with a mixture of positive and negative indices\n",
    "demo_list[1:-2]"
   ]
  },
  {
   "cell_type": "code",
   "execution_count": null,
   "metadata": {
    "id": "0-1j3oUymAyU"
   },
   "outputs": [],
   "source": [
    "# If an index is omitted, Python reaches the first or the last element of the list\n",
    "demo_list[2:]"
   ]
  },
  {
   "cell_type": "code",
   "execution_count": null,
   "metadata": {
    "id": "mAUWpnIDmAyU"
   },
   "outputs": [],
   "source": [
    "# The same as above, with the first index omitted\n",
    "demo_list[:3]"
   ]
  },
  {
   "cell_type": "code",
   "execution_count": 66,
   "metadata": {
    "id": "VFNFjCRGmAyV"
   },
   "outputs": [
    {
     "data": {
      "text/plain": "['text', 23, 92, [1, 2, 3]]"
     },
     "execution_count": 66,
     "metadata": {},
     "output_type": "execute_result"
    }
   ],
   "source": [
    "# Slicing with steps\n",
    "demo_list[1::2]"
   ]
  },
  {
   "cell_type": "markdown",
   "metadata": {
    "id": "_sC6jmgFmAyV"
   },
   "source": [
    "---"
   ]
  },
  {
   "cell_type": "markdown",
   "metadata": {
    "id": "ur-eM7jbmAyV"
   },
   "source": [
    "### Quiz\n",
    "\n",
    "The following code creates a list whose length is a-priori unknown. Extract:\n",
    "\n",
    "    1. the last element of the list by using a positive index\n",
    "    2. the first element of the list by using a negative index\n",
    "    3. a new list of every element on an even index\n",
    "    4. this list reversed"
   ]
  },
  {
   "cell_type": "code",
   "execution_count": 155,
   "metadata": {
    "id": "278eQ4xamAyV"
   },
   "outputs": [
    {
     "data": {
      "text/plain": "[54, 79, 77, 88, 87, 46, 75, 37, 93, 91, 40, 63, 37, 97, 40]"
     },
     "execution_count": 155,
     "metadata": {},
     "output_type": "execute_result"
    }
   ],
   "source": [
    "import random  # built-in package\n",
    "\n",
    "random_number_list = []\n",
    "for i in range(15):\n",
    "    random_number = random.randint(1, 99)\n",
    "    if random_number > 32:\n",
    "      random_number_list.append(random_number)\n",
    "\n",
    "random_number_list\n"
   ]
  },
  {
   "cell_type": "code",
   "execution_count": 190,
   "metadata": {
    "id": "EaL9dMz7mAyW"
   },
   "outputs": [
    {
     "name": "stdout",
     "output_type": "stream",
     "text": [
      "The last element is: [40]\n"
     ]
    }
   ],
   "source": [
    "# Your code here for 1.\n",
    "listCount = len(random_number_list)\n",
    "lastElement = listCount-1\n",
    "positiveSlice = random_number_list[lastElement::]\n",
    "#print(\"The list has \" + str(lastElement) + \" elements\")\n",
    "print(\"The last element is: \" + str(positiveSlice))\n"
   ]
  },
  {
   "cell_type": "code",
   "execution_count": 191,
   "metadata": {
    "id": "nxw_YyPNmAyW"
   },
   "outputs": [
    {
     "name": "stdout",
     "output_type": "stream",
     "text": [
      "The last element is: [40]\n"
     ]
    }
   ],
   "source": [
    "# Your code here for 2.\n",
    "listCount = len(random_number_list)\n",
    "negativelastElement = (listCount + 1) * -1\n",
    "negativeSlice =  random_number_list[::negativelastElement]\n",
    "#print(negativelastElement)\n",
    "print(\"The last element is: \" + str(negativeSlice))"
   ]
  },
  {
   "cell_type": "code",
   "execution_count": 199,
   "metadata": {
    "id": "R2GFp-n6mAyX"
   },
   "outputs": [
    {
     "name": "stdout",
     "output_type": "stream",
     "text": [
      "[79, 88, 46, 37, 91, 63, 97]\n"
     ]
    }
   ],
   "source": [
    "# Your code here for 3.\n",
    "evenList = random_number_list[1::2]\n",
    "print(evenList)"
   ]
  },
  {
   "cell_type": "code",
   "execution_count": 197,
   "metadata": {
    "id": "2fmnB5JlmAyX"
   },
   "outputs": [
    {
     "name": "stdout",
     "output_type": "stream",
     "text": [
      "[40, 97, 37, 63, 40, 91, 93, 37, 75, 46, 87, 88, 77, 79, 54]\n"
     ]
    }
   ],
   "source": [
    "# Your code here for 4.\n",
    "reverseList = random_number_list[::-1]\n",
    "print (reverseList)"
   ]
  },
  {
   "cell_type": "markdown",
   "metadata": {
    "id": "ekwyqy5YmAyX"
   },
   "source": [
    "---"
   ]
  },
  {
   "cell_type": "markdown",
   "metadata": {
    "id": "40fTej_mmAyX"
   },
   "source": [
    "#### Lists are mutable\n",
    "\n",
    "Lists methods allows you to manipulate the elements stored in the list quickly and effectively. The method `.append()` on the list allows you to add an element at the end of that list. This is a method that you'll be using often!"
   ]
  },
  {
   "cell_type": "code",
   "execution_count": null,
   "metadata": {
    "id": "RdCV6F-RmAyY"
   },
   "outputs": [],
   "source": [
    "empty_list = []\n",
    "empty_list.append(\"appended\")\n",
    "\n",
    "print(empty_list)\n",
    "\n",
    "# Another element\n",
    "empty_list.append(\"second addition\")\n",
    "print(empty_list)"
   ]
  },
  {
   "cell_type": "markdown",
   "metadata": {
    "id": "LsgOruXgmAyY"
   },
   "source": [
    "The `.extend()` method allows you to add all the elements of a second list. It works the same as the `+=` operator we saw before. "
   ]
  },
  {
   "cell_type": "code",
   "execution_count": 200,
   "metadata": {
    "id": "TXR82VeamAyY"
   },
   "outputs": [
    {
     "name": "stdout",
     "output_type": "stream",
     "text": [
      "['Apple', 'Crisps', 'Soda', 'Stroopwafels', 'Apple', 'Banana', 'Orange']\n"
     ]
    }
   ],
   "source": [
    "groceries = [\"Apple\", \"Crisps\", \"Soda\", \"Stroopwafels\"]\n",
    "fruit = [\"Apple\", \"Banana\", \"Orange\"]\n",
    "\n",
    "groceries.extend(fruit)  # similar to +=\n",
    "print(groceries)"
   ]
  },
  {
   "cell_type": "markdown",
   "metadata": {
    "id": "TQoDTzkgmAyZ"
   },
   "source": [
    "The `.remove()` method allows you to remove a given elements from a list. \n",
    "\n",
    "What happens if there are duplicate elements that you want to have removed in a list?"
   ]
  },
  {
   "cell_type": "code",
   "execution_count": 201,
   "metadata": {
    "id": "_UUQs6fSmAyZ"
   },
   "outputs": [
    {
     "name": "stdout",
     "output_type": "stream",
     "text": [
      "['Crisps', 'Soda', 'Stroopwafels', 'Apple', 'Banana', 'Orange']\n"
     ]
    }
   ],
   "source": [
    "groceries.remove(\"Apple\")\n",
    "print(groceries)"
   ]
  },
  {
   "cell_type": "markdown",
   "metadata": {
    "id": "EgOxZU0HmAyZ"
   },
   "source": [
    "The method `.reverse()` reverses a list IN PLACE (i.e. the original list is modified)"
   ]
  },
  {
   "cell_type": "code",
   "execution_count": 202,
   "metadata": {
    "id": "DA6I1wqgmAyZ"
   },
   "outputs": [
    {
     "name": "stdout",
     "output_type": "stream",
     "text": [
      "[1, 2, 3, 4, 5, 6, 7, 8, 9]\n",
      "[9, 8, 7, 6, 5, 4, 3, 2, 1]\n"
     ]
    }
   ],
   "source": [
    "numbers = [1, 2, 3, 4, 5, 6, 7, 8, 9]\n",
    "print(numbers)\n",
    "\n",
    "numbers.reverse()\n",
    "print(numbers)"
   ]
  },
  {
   "cell_type": "markdown",
   "metadata": {
    "id": "Nq_6AEYRmAyZ"
   },
   "source": [
    "You can replace or delete parts of a list by slicing:"
   ]
  },
  {
   "cell_type": "code",
   "execution_count": 203,
   "metadata": {
    "id": "p_HecsA0mAyZ"
   },
   "outputs": [
    {
     "name": "stdout",
     "output_type": "stream",
     "text": [
      "[9, 8, 7, 6, 5, 4, 10, 11, 12]\n"
     ]
    }
   ],
   "source": [
    "# Replace elements\n",
    "\n",
    "numbers[-3:] = [10, 11, 12]\n",
    "print(numbers)"
   ]
  },
  {
   "cell_type": "code",
   "execution_count": 205,
   "metadata": {
    "id": "NXZb-M-XmAya"
   },
   "outputs": [
    {
     "name": "stdout",
     "output_type": "stream",
     "text": [
      "[9, 8, 7, 6, 12]\n"
     ]
    }
   ],
   "source": [
    "# Delete elements\n",
    "\n",
    "numbers[4:6] = []\n",
    "print(numbers)"
   ]
  },
  {
   "cell_type": "markdown",
   "metadata": {
    "id": "bFwtA9DomAya"
   },
   "source": [
    "Sorting a list is as easy as calling `.sort()` on it. This changes the list in place. However, the list elements must be of the same type!"
   ]
  },
  {
   "cell_type": "code",
   "execution_count": 208,
   "metadata": {
    "id": "lRu7GpAhmAya"
   },
   "outputs": [
    {
     "ename": "TypeError",
     "evalue": "'<' not supported between instances of 'int' and 'str'",
     "output_type": "error",
     "traceback": [
      "\u001B[0;31m---------------------------------------------------------------------------\u001B[0m",
      "\u001B[0;31mTypeError\u001B[0m                                 Traceback (most recent call last)",
      "Cell \u001B[0;32mIn[208], line 2\u001B[0m\n\u001B[1;32m      1\u001B[0m \u001B[38;5;66;03m# This renders a TypeError\u001B[39;00m\n\u001B[0;32m----> 2\u001B[0m \u001B[43m[\u001B[49m\u001B[38;5;124;43m\"\u001B[39;49m\u001B[38;5;124;43mtext\u001B[39;49m\u001B[38;5;124;43m\"\u001B[39;49m\u001B[43m,\u001B[49m\u001B[43m \u001B[49m\u001B[38;5;241;43m1\u001B[39;49m\u001B[43m,\u001B[49m\u001B[43m \u001B[49m\u001B[38;5;241;43m2\u001B[39;49m\u001B[43m,\u001B[49m\u001B[43m \u001B[49m\u001B[38;5;241;43m3\u001B[39;49m\u001B[43m]\u001B[49m\u001B[38;5;241;43m.\u001B[39;49m\u001B[43msort\u001B[49m\u001B[43m(\u001B[49m\u001B[43m)\u001B[49m\n",
      "\u001B[0;31mTypeError\u001B[0m: '<' not supported between instances of 'int' and 'str'"
     ]
    }
   ],
   "source": [
    "# This renders a TypeError\n",
    "[\"text\", 1, 2, 3].sort()"
   ]
  },
  {
   "cell_type": "code",
   "execution_count": 220,
   "metadata": {
    "id": "crrO66-8mAya"
   },
   "outputs": [
    {
     "data": {
      "text/plain": "[1, 8, 9, 33, 56, 220]"
     },
     "execution_count": 220,
     "metadata": {},
     "output_type": "execute_result"
    }
   ],
   "source": [
    "homogeneous_list = [1, 56, 33, 8, 220, 9]\n",
    "homogeneous_list.sort()\n",
    "\n",
    "homogeneous_list"
   ]
  },
  {
   "cell_type": "markdown",
   "metadata": {
    "id": "eo0V8ekxmAya"
   },
   "source": [
    "Lists of strings can be sorted as well. Useful if you want to sort from A-Z. \n",
    "\n",
    "Is the sort operation giving the expected result?"
   ]
  },
  {
   "cell_type": "code",
   "execution_count": 207,
   "metadata": {
    "id": "MrgBYr0bmAyb"
   },
   "outputs": [
    {
     "data": {
      "text/plain": "['Elephant', 'ant', 'canary', 'hippo', 'kangaroo', 'narwhal', 'raccoon', 'yak']"
     },
     "execution_count": 207,
     "metadata": {},
     "output_type": "execute_result"
    }
   ],
   "source": [
    "homogeneous_list = [\"canary\", \"hippo\", \"kangaroo\", \"narwhal\", \"Elephant\", \"raccoon\", \"yak\", \"ant\"]\n",
    "homogeneous_list.sort()\n",
    "homogeneous_list\n"
   ]
  },
  {
   "cell_type": "markdown",
   "metadata": {
    "id": "tLSqYWKrmAyb"
   },
   "source": [
    "---"
   ]
  },
  {
   "cell_type": "markdown",
   "metadata": {
    "id": "Ec2GKpW_mAyb"
   },
   "source": [
    "#### Lists of numbers\n",
    "\n",
    "Lists of numbers can be manipulated by additional functions, among which `max()`, `min()` and `sum()`"
   ]
  },
  {
   "cell_type": "code",
   "execution_count": null,
   "metadata": {
    "id": "M8yPjikimAyb"
   },
   "outputs": [],
   "source": [
    "some_numbers = [4, 8, 2, 6, 2, 9]\n",
    "\n",
    "print(max(some_numbers))\n",
    "print(min(some_numbers))\n",
    "print(sum(some_numbers))"
   ]
  },
  {
   "cell_type": "markdown",
   "metadata": {
    "id": "p2coAh49mAyb"
   },
   "source": [
    "### Quiz\n",
    "\n",
    "Get the minimum and maximum number of the list below _without_ using the `max()` and `min()` functions (e.g. by sorting and slicing). "
   ]
  },
  {
   "cell_type": "code",
   "execution_count": 227,
   "metadata": {
    "id": "uwmA95uZmAyc"
   },
   "outputs": [
    {
     "name": "stdout",
     "output_type": "stream",
     "text": [
      "[1, 8, 9, 21, 33, 56, 220]\n",
      "1\n",
      "220\n"
     ]
    }
   ],
   "source": [
    "numbers = [21, 1, 56, 33, 8, 220, 9]\n",
    "\n",
    "# Your code here\n",
    "numbers.sort()\n",
    "print(numbers)\n",
    "min = numbers[0]\n",
    "max = numbers[-1]\n",
    "print(min)\n",
    "print(max)"
   ]
  },
  {
   "cell_type": "markdown",
   "metadata": {
    "id": "0dQqbtoimAyc"
   },
   "source": [
    "Compute the average of `some_numbers`:"
   ]
  },
  {
   "cell_type": "code",
   "execution_count": 224,
   "metadata": {
    "id": "BqSV9TG5mAyc"
   },
   "outputs": [
    {
     "name": "stdout",
     "output_type": "stream",
     "text": [
      "5.166666666666667\n"
     ]
    }
   ],
   "source": [
    "some_numbers = [4, 8, 2, 6, 2, 9]\n",
    "\n",
    "# Your code here\n",
    "avg = sum(some_numbers)/len(some_numbers)\n",
    "print(avg)"
   ]
  },
  {
   "cell_type": "markdown",
   "metadata": {
    "id": "JkLOTBNjmAyc"
   },
   "source": [
    "Explain the sorting of the following list:"
   ]
  },
  {
   "cell_type": "code",
   "execution_count": 228,
   "metadata": {
    "id": "a_NF8eSOmAyc"
   },
   "outputs": [
    {
     "data": {
      "text/plain": "['1', '21', '220', '33', '56', '8', '9']"
     },
     "execution_count": 228,
     "metadata": {},
     "output_type": "execute_result"
    }
   ],
   "source": [
    "homogeneous_list = [\"21\", \"1\", \"56\", \"33\", \"8\", \"220\", \"9\"]\n",
    "homogeneous_list.sort()\n",
    "homogeneous_list"
   ]
  },
  {
   "cell_type": "markdown",
   "source": [
    "This is because the items in the list are strings and not integers. I would fix it this way:"
   ],
   "metadata": {
    "collapsed": false
   }
  },
  {
   "cell_type": "code",
   "execution_count": 233,
   "outputs": [
    {
     "ename": "SyntaxError",
     "evalue": "invalid syntax (577053823.py, line 2)",
     "output_type": "error",
     "traceback": [
      "\u001B[0;36m  Cell \u001B[0;32mIn[233], line 2\u001B[0;36m\u001B[0m\n\u001B[0;31m    homogeneous_list = str([::1])\u001B[0m\n\u001B[0m                            ^\u001B[0m\n\u001B[0;31mSyntaxError\u001B[0m\u001B[0;31m:\u001B[0m invalid syntax\n"
     ]
    }
   ],
   "source": [
    "#later me problem, brain not working, too much philosophy"
   ],
   "metadata": {
    "collapsed": false
   }
  },
  {
   "cell_type": "markdown",
   "metadata": {
    "id": "hG0TQMzOmAyr"
   },
   "source": [
    "---"
   ]
  },
  {
   "cell_type": "markdown",
   "metadata": {
    "id": "JZs8oKTMmAys"
   },
   "source": [
    "### Sets\n",
    "\n",
    "Sets are collections of **unordered** and **distinct/unique** objects.\n",
    "\n",
    "They are commonly used to test membership, to remove duplicates or to compute mathematical operations such as intersection, union, difference, and symmetric difference. Being unordered collections, they do not support indexing, slicing and any other sequence-like behavior. But, this  makes them extremely efficient.\n",
    "\n",
    "In Python, sets can be create beither by using the syntax  `set([])` or by using curly braces `{}`."
   ]
  },
  {
   "cell_type": "markdown",
   "metadata": {
    "id": "95RR_DssmAys"
   },
   "source": [
    "Sets mainly come in handy if you want to count the unique occurences in a list:"
   ]
  },
  {
   "cell_type": "code",
   "execution_count": 1,
   "metadata": {
    "id": "6YtsxauLmAys"
   },
   "outputs": [
    {
     "name": "stdout",
     "output_type": "stream",
     "text": [
      "['the', 'quick', 'brown', 'fox', 'jumps', 'over', 'the', 'lazy', 'dog']\n"
     ]
    },
    {
     "data": {
      "text/plain": "{'brown', 'dog', 'fox', 'jumps', 'lazy', 'over', 'quick', 'the'}"
     },
     "execution_count": 1,
     "metadata": {},
     "output_type": "execute_result"
    }
   ],
   "source": [
    "text = \"\"\"the quick brown fox jumps over the lazy dog\"\"\"\n",
    "words = text.split()  # 'the' is in there twice\n",
    "print(words)\n",
    "\n",
    "unique_words = set(words)\n",
    "unique_words"
   ]
  },
  {
   "cell_type": "markdown",
   "metadata": {
    "id": "-eGcr4ERmAyu"
   },
   "source": [
    "---"
   ]
  },
  {
   "cell_type": "markdown",
   "metadata": {
    "id": "B-zxqXotmAyx"
   },
   "source": [
    "---"
   ]
  },
  {
   "cell_type": "markdown",
   "metadata": {
    "id": "5suk_BdYmAyx"
   },
   "source": [
    "###  Type casting\n",
    "\n",
    "Sometimes, we may need to change the type of a variable. \n",
    "\n",
    "For instance, we may want to change a list into a set in order to delete all its repeated elements. A quick way to do so is to transform the list in a set, as shown above\n",
    "\n",
    "Another example may involve the `.join()` method that does not accept numbers. Conversion functions can be used to quickly switch numbers to strings. Sometimes, these conversion functions are built-in into a function, which is the case in the `print()` function. It is basically applying the `str()` function on every object that you give as argument.\n",
    "\n",
    "Note that not all types of variables can be switched to other types. In what follows we report some common conversion."
   ]
  },
  {
   "cell_type": "code",
   "execution_count": null,
   "metadata": {
    "id": "edqdGgg4mAyx"
   },
   "outputs": [],
   "source": [
    "# From number to string\n",
    "str(3.123424235454)"
   ]
  },
  {
   "cell_type": "code",
   "execution_count": null,
   "metadata": {
    "id": "mwUDKmWkmAyx"
   },
   "outputs": [],
   "source": [
    "# Sometimes you want to round the number\n",
    "str(round(3.123424235454, 2))"
   ]
  },
  {
   "cell_type": "code",
   "execution_count": null,
   "metadata": {
    "id": "5c8LaAY2mAyy"
   },
   "outputs": [],
   "source": [
    "# From string to integer\n",
    "int(\"3\")"
   ]
  },
  {
   "cell_type": "code",
   "execution_count": null,
   "metadata": {
    "id": "q9_tgwTmmAyy"
   },
   "outputs": [],
   "source": [
    "# From string to floating numer\n",
    "float(\"3\")"
   ]
  },
  {
   "cell_type": "code",
   "execution_count": null,
   "metadata": {
    "id": "ClFTmeO_mAyz"
   },
   "outputs": [],
   "source": [
    "# From list to tuple (list cannot be used as dictionary keys, tuples can)\n",
    "tuple([demo_list])"
   ]
  },
  {
   "cell_type": "code",
   "execution_count": null,
   "metadata": {
    "id": "VQv6E-53mAy0"
   },
   "outputs": [],
   "source": [
    "# From list to set\n",
    "set([1,2,3,1,2,3,3])"
   ]
  },
  {
   "cell_type": "code",
   "execution_count": null,
   "metadata": {
    "id": "kocD8ybAmAy1"
   },
   "outputs": [],
   "source": [
    "# From string to list\n",
    "print(list(\"this is a sentence\"))"
   ]
  },
  {
   "cell_type": "markdown",
   "metadata": {
    "id": "kvsp2sqqmAy1"
   },
   "source": [
    "### Quiz\n",
    "\n",
    "The list `numbers` contains 21 integers, ranging from -10 to 10, unsorted. \n",
    "\n",
    "Create a new list containing only the positive numbers from the list. Use `.sort()`, `len()` and `round()`"
   ]
  },
  {
   "cell_type": "code",
   "execution_count": 3,
   "metadata": {
    "id": "d4TvUuy2mAy1"
   },
   "outputs": [],
   "source": [
    "numbers = [-7, 1, 3, 8, 7, -2, 5, 4, -10, -4, -3, -6, 2, 9, 0, -5, -8, 10, -9, 6, -1]"
   ]
  },
  {
   "cell_type": "code",
   "execution_count": 4,
   "metadata": {
    "id": "WiGveyLpmAy2"
   },
   "outputs": [
    {
     "name": "stdout",
     "output_type": "stream",
     "text": [
      "[-10, -9, -8, -7, -6, -5, -4, -3, -2, -1, 0, 1, 2, 3, 4, 5, 6, 7, 8, 9, 10]\n"
     ]
    }
   ],
   "source": [
    "# Your code here\n",
    "numbers.sort()\n",
    "print(numbers)\n"
   ]
  },
  {
   "cell_type": "markdown",
   "metadata": {
    "id": "J89IuYlymAy2"
   },
   "source": [
    "---"
   ]
  },
  {
   "cell_type": "markdown",
   "metadata": {
    "id": "yXuBnZe-mAy2",
    "tags": []
   },
   "source": [
    "# Exercises\n",
    "\n",
    "## Reading\n",
    "* Check out number 8 of the Python Enhancement Proposals (PEP): https://www.python.org/dev/peps/pep-0008/. Try writing your code with PEP8 in mind. \n",
    "* [Python Cheat Sheet](https://www.cheatography.com/davechild/cheat-sheets/python/), which collects much of the syntax we used today.\n",
    "* Have a look at Python's built-in types: https://docs.python.org/3.8/library/stdtypes.html.\n",
    "\n",
    "## Tasks\n",
    "\n",
    "* Try out the quizzes that we did not get to in the lecture!\n",
    "\n",
    "### Exercise 1\n",
    "Artificial Intelligence models often learn potentially harmful biases, such as gender bias, from the data that they are trained on. Here are some (made-up) word associations from an AI model. Each number represents an association between two words that the AI model has learned from internet data, where a 0 is least associated and a 1 is most associated.\n",
    "\n",
    "Use Python operators to compute or check whether these association scores exhibit any gender bias for the listed professions, making reference to the variables defined below. Explain your answer."
   ]
  },
  {
   "cell_type": "code",
   "source": [
    "man_woman = 0.6\n",
    "professor_man = 0.8\n",
    "teacher_woman = 0.75\n",
    "professor_woman = 0.6\n",
    "teacher_man = 0.55\n",
    "lecturer_man = 0.7\n",
    "lecturer_woman = 0.7"
   ],
   "metadata": {
    "id": "czsJAbZK04Uh"
   },
   "execution_count": 26,
   "outputs": []
  },
  {
   "cell_type": "markdown",
   "source": [
    "Defining a function to check if there is a bias for the selected profession:"
   ],
   "metadata": {
    "collapsed": false
   }
  },
  {
   "cell_type": "code",
   "execution_count": 36,
   "outputs": [],
   "source": [
    "def biascheck(female,male):\n",
    "    if female > male:\n",
    "     print(\"There is a female bias for the profession\")\n",
    "    else:\n",
    "     print(\"There is a male leaning bias for the profession\")"
   ],
   "metadata": {
    "collapsed": false
   }
  },
  {
   "cell_type": "markdown",
   "source": [
    "a) Is there a bias for the profession of professor?"
   ],
   "metadata": {
    "collapsed": false
   }
  },
  {
   "cell_type": "code",
   "source": [
    "\n",
    "#Checking if professor_man are  professor_woman equal before running the function\n",
    "if professor_woman == professor_man:\n",
    "    print('There is no bias for the profession of professor')\n",
    "else:\n",
    "    biascheck(professor_woman, professor_man)\n",
    "\n"
   ],
   "metadata": {
    "id": "hxQlF7DEACHw"
   },
   "execution_count": 37,
   "outputs": [
    {
     "name": "stdout",
     "output_type": "stream",
     "text": [
      "There is a male leaning bias for the profession\n"
     ]
    }
   ]
  },
  {
   "cell_type": "markdown",
   "source": [
    "b) Is there a bias for the profession of teacher?"
   ],
   "metadata": {
    "collapsed": false
   }
  },
  {
   "cell_type": "code",
   "execution_count": 38,
   "outputs": [
    {
     "name": "stdout",
     "output_type": "stream",
     "text": [
      "There is a female bias for the profession\n"
     ]
    }
   ],
   "source": [
    "#Checking if the value is equal before running the function\n",
    "if teacher_woman == teacher_man:\n",
    "    print('There is no bias for the profession of teacher')\n",
    "else:\n",
    "    biascheck(teacher_woman, teacher_man)"
   ],
   "metadata": {
    "collapsed": false
   }
  },
  {
   "cell_type": "markdown",
   "source": [
    "c) Is there a bias for the profession of lecturer?"
   ],
   "metadata": {
    "collapsed": false
   }
  },
  {
   "cell_type": "code",
   "execution_count": 39,
   "outputs": [
    {
     "name": "stdout",
     "output_type": "stream",
     "text": [
      "There is no bias for the profession of lecturer\n"
     ]
    }
   ],
   "source": [
    "#Checking if the value is equal before running the function\n",
    "if lecturer_woman == lecturer_man:\n",
    "    print('There is no bias for the profession of lecturer')\n",
    "else:\n",
    "    biascheck(lecturer_woman, lecturer_man)"
   ],
   "metadata": {
    "collapsed": false
   }
  },
  {
   "cell_type": "markdown",
   "source": [
    "### Exercise 2\n",
    "\n",
    "During the lockdown, online versions of various games became quite popular. For example, people were playing quick online chess matches, where two players each take turns to make their move, but there is a time limit so they have to think quickly.\n",
    "\n",
    "With such games taking place on an online platform, it is easy to keep track of everything that goes on and save it in a database. For example, it might be interesting to see how long it takes people to make a move. In the example below, the time that each turn in an online game of chess took was recorded (in seconds). Unfortunately, this data was not saved in a very organized way - it's just a list of numbers, without player names. However, in chess, the player with the white pieces (W) moves first, and the player with the black pieces (B) moves second, so we can use this to know who did what.\n",
    "\n",
    "Use Python list slicing and other useful operators or functions to answer the following questions:\n",
    "\n",
    "*   Which player made the last move (and won), white or black?\n",
    "*   How long did the game take in minutes and seconds?\n",
    "*   What was the average time player W took to make moves?\n",
    "*   And player B?\n",
    "*   Who was faster?\n",
    "*   Who had the fastest move out of all moves made?\n",
    "*   On which turn was a move made that took 14.8 seconds?\n",
    "\n"
   ],
   "metadata": {
    "id": "fMR97oda3NvW"
   }
  },
  {
   "cell_type": "code",
   "source": [
    "chess_move_times = [5.3, 4.6, 8.6, 6, 2.3, 2.8, 16, 14.8, 26, 20.3, 4.7, 2.8, 7.1, 11, 1.9, 8.5, 4.6, 13.4, 8.9, 5.6, 3.8]"
   ],
   "metadata": {
    "id": "waZiYLGW-mzQ"
   },
   "execution_count": 57,
   "outputs": []
  },
  {
   "cell_type": "code",
   "source": [
    "# Creating lists for the moves of the players\n",
    "white = chess_move_times[0::2]\n",
    "black = chess_move_times[1::2]\n",
    "print(white)\n",
    "print(black)"
   ],
   "metadata": {
    "id": "Dsp-NFqU-sIH"
   },
   "execution_count": 61,
   "outputs": [
    {
     "name": "stdout",
     "output_type": "stream",
     "text": [
      "[5.3, 8.6, 2.3, 16, 26, 4.7, 7.1, 1.9, 4.6, 8.9, 3.8]\n",
      "[4.6, 6, 2.8, 14.8, 20.3, 2.8, 11, 8.5, 13.4, 5.6]\n"
     ]
    }
   ]
  },
  {
   "cell_type": "markdown",
   "source": [
    "a) Which player made the last move (and won), white or black?"
   ],
   "metadata": {
    "collapsed": false
   }
  },
  {
   "cell_type": "code",
   "execution_count": 63,
   "outputs": [
    {
     "name": "stdout",
     "output_type": "stream",
     "text": [
      "White made the last move and won\n"
     ]
    }
   ],
   "source": [
    "if len(white) > len(black):\n",
    "    print(\"White made the last move and won\")\n",
    "else:\n",
    "    print(\"Black made the last move and won\")"
   ],
   "metadata": {
    "collapsed": false
   }
  },
  {
   "cell_type": "markdown",
   "source": [
    "b) How long did the game take in minutes and seconds?"
   ],
   "metadata": {
    "collapsed": false
   }
  },
  {
   "cell_type": "code",
   "execution_count": 72,
   "outputs": [
    {
     "name": "stdout",
     "output_type": "stream",
     "text": [
      "The game took 56 minutes and 59 seconds\n"
     ]
    }
   ],
   "source": [
    "# Calculating the total time of the game\n",
    "decimalTime = sum(chess_move_times) / 60\n",
    "extractSeconds = (decimalTime % 1) * 60\n",
    "extractMinutes = extractSeconds - decimalTime\n",
    "print(\"The game took\", round(extractMinutes), \"minutes and\", round(extractSeconds), \"seconds\")"
   ],
   "metadata": {
    "collapsed": false
   }
  },
  {
   "cell_type": "markdown",
   "source": [
    "c) What was the average time player W took to make moves?"
   ],
   "metadata": {
    "collapsed": false
   }
  },
  {
   "cell_type": "code",
   "execution_count": 74,
   "outputs": [
    {
     "name": "stdout",
     "output_type": "stream",
     "text": [
      "The average time player W took to make moves is 8 seconds\n"
     ]
    }
   ],
   "source": [
    "# Calculating the average time of the white player\n",
    "averageTimeWhite = sum(white) / len(white)\n",
    "print(\"The average time player W took to make moves is\", round(averageTimeWhite), \"seconds\")"
   ],
   "metadata": {
    "collapsed": false
   }
  },
  {
   "cell_type": "markdown",
   "source": [
    "d) And player B?"
   ],
   "metadata": {
    "collapsed": false
   }
  },
  {
   "cell_type": "code",
   "execution_count": 75,
   "outputs": [
    {
     "name": "stdout",
     "output_type": "stream",
     "text": [
      "The average time player B took to make moves is 9 seconds\n"
     ]
    }
   ],
   "source": [
    "# Calculating the average time of the black player\n",
    "averageTimeBlack = sum(black) / len(black)\n",
    "print(\"The average time player B took to make moves is\", round(averageTimeBlack), \"seconds\")"
   ],
   "metadata": {
    "collapsed": false
   }
  },
  {
   "cell_type": "markdown",
   "source": [
    "e) Who was faster?"
   ],
   "metadata": {
    "collapsed": false
   }
  },
  {
   "cell_type": "code",
   "execution_count": 76,
   "outputs": [
    {
     "name": "stdout",
     "output_type": "stream",
     "text": [
      "Player W was faster\n"
     ]
    }
   ],
   "source": [
    "# Comparing the average time of the players\n",
    "if averageTimeWhite > averageTimeBlack:\n",
    "    print(\"Player B was faster\")\n",
    "else:\n",
    "    print(\"Player W was faster\")"
   ],
   "metadata": {
    "collapsed": false
   }
  },
  {
   "cell_type": "markdown",
   "source": [
    "f) Who had the fastest move out of all moves made?"
   ],
   "metadata": {
    "collapsed": false
   }
  },
  {
   "cell_type": "code",
   "execution_count": 77,
   "outputs": [
    {
     "name": "stdout",
     "output_type": "stream",
     "text": [
      "Player W had the fastest move\n"
     ]
    }
   ],
   "source": [
    "# Comparing the fastest move of the players\n",
    "if max(white) > max(black):\n",
    "    print(\"Player W had the fastest move\")\n",
    "else:\n",
    "    print(\"Player B had the fastest move\")"
   ],
   "metadata": {
    "collapsed": false
   }
  },
  {
   "cell_type": "markdown",
   "source": [
    "g) On which turn was a move made that took 14.8 seconds?"
   ],
   "metadata": {
    "collapsed": false
   }
  },
  {
   "cell_type": "code",
   "execution_count": 78,
   "outputs": [
    {
     "name": "stdout",
     "output_type": "stream",
     "text": [
      "The move that took 14.8 seconds was made on the Black player's turn\n"
     ]
    }
   ],
   "source": [
    "# Finding the 14.8 seconds move\n",
    "if 14.8 in white:\n",
    "    print(\"The move that took 14.8 seconds was made on the White player's turn\")\n",
    "else:\n",
    "    print(\"The move that took 14.8 seconds was made on the Black player's turn\")"
   ],
   "metadata": {
    "collapsed": false
   }
  },
  {
   "cell_type": "markdown",
   "metadata": {
    "id": "Z0ZI_N9ckwTM"
   },
   "source": [
    "\n",
    "\n",
    "## Graded Assignment Week 1\n",
    "\n",
    "### (tba)"
   ]
  },
  {
   "cell_type": "markdown",
   "metadata": {
    "id": "oJxlYRSOmAy6"
   },
   "source": [
    "---\n"
   ]
  }
 ],
 "metadata": {
  "colab": {
   "name": "1_Basics.ipynb",
   "provenance": []
  },
  "kernelspec": {
   "display_name": "Python 3 (ipykernel)",
   "language": "python",
   "name": "python3"
  },
  "language_info": {
   "codemirror_mode": {
    "name": "ipython",
    "version": 3
   },
   "file_extension": ".py",
   "mimetype": "text/x-python",
   "name": "python",
   "nbconvert_exporter": "python",
   "pygments_lexer": "ipython3",
   "version": "3.8.13"
  }
 },
 "nbformat": 4,
 "nbformat_minor": 0
}
