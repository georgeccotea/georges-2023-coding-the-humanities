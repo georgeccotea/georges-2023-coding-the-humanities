{
 "cells": [
  {
   "cell_type": "markdown",
   "metadata": {
    "id": "X8NI2UYxmAxm"
   },
   "source": [
    "# Text: Graded assignment\n",
    "\n",
    "This notebook contains the second graded collaborative assignment of the 2023 Coding the Humanities course, and it is based on the [2. Text](../2_Text.ipynb) course material."
   ]
  },
  {
   "cell_type": "markdown",
   "metadata": {
    "id": "tDox7v6Zydoa"
   },
   "source": [
    "This is a collaborative assignment. In the text cell below, please include all the names of your group members.\n",
    "\n",
    "Below that, answer the question using a mix of code cells and text cells in a way that would make your answers understandable to outsiders. To explain your code, you can use commenting (#) and/or text cells, similar to what you see in the course materials.\n",
    "\n",
    "If you used code or a solution from the internet (such as StackOverflow) or another external resource, please make reference to it (in any format). Unattributed copied code will be considered plagiarism and therefore fraud."
   ]
  },
  {
   "cell_type": "markdown",
   "metadata": {
    "id": "yrkCK50pyv99"
   },
   "source": [
    "**Authors of this answer:**"
   ]
  },
  {
   "cell_type": "markdown",
   "metadata": {
    "id": "vHoYErhC0H6l"
   },
   "source": [
    "## Assignment\n",
    "\n",
    "Below, you will find a string containing the winning songs of the Eurovision Song Contest since the year 2012. Answer the following questions using Python code as much as possible:"
   ]
  },
  {
   "cell_type": "code",
   "execution_count": 28,
   "metadata": {
    "id": "y3af0USf0K2A"
   },
   "outputs": [],
   "source": [
    "eurovision_winners = \"\"\"2012: loreen - euphoria (Sweden)\n",
    "2013: emmelie de forest - only teardrops (Denmark)\n",
    "2014: conchita wurst - rise like a phoenix (Austria)\n",
    "2015: mans zelmerlow - heroes (Sweden)\n",
    "2016: jamala - 1944 (Ukraine)\n",
    "2017: salvador sobral - amar pelos dois (Portugal)\n",
    "2018: netta - toy (Israel)\n",
    "2019: duncan laurence - arcade (Netherlands)\n",
    "2021: maneskin - zitti e buoni (Italy)\n",
    "2022: kalush orchestra - stefania (Ukraine)\n",
    "\"\"\""
   ]
  },
  {
   "cell_type": "markdown",
   "metadata": {},
   "source": [
    "1. Check if the string starts with 2012."
   ]
  },
  {
   "cell_type": "code",
   "execution_count": 29,
   "metadata": {},
   "outputs": [
    {
     "name": "stdout",
     "output_type": "stream",
     "text": [
      "True\n"
     ]
    }
   ],
   "source": [
    "# Checking if a string starts with 2012\n",
    "twenty_twelve = eurovision_winners.startswith(\"2012\")\n",
    "print(twenty_twelve)"
   ]
  },
  {
   "cell_type": "markdown",
   "metadata": {},
   "source": [
    "2. Print this text titlecased (every word starts with a capital letter, ignore the function words for now)."
   ]
  },
  {
   "cell_type": "code",
   "execution_count": 30,
   "metadata": {},
   "outputs": [
    {
     "name": "stdout",
     "output_type": "stream",
     "text": [
      "2012: Loreen - Euphoria (Sweden)\n",
      "2013: Emmelie De Forest - Only Teardrops (Denmark)\n",
      "2014: Conchita Wurst - Rise Like A Phoenix (Austria)\n",
      "2015: Mans Zelmerlow - Heroes (Sweden)\n",
      "2016: Jamala - 1944 (Ukraine)\n",
      "2017: Salvador Sobral - Amar Pelos Dois (Portugal)\n",
      "2018: Netta - Toy (Israel)\n",
      "2019: Duncan Laurence - Arcade (Netherlands)\n",
      "2021: Maneskin - Zitti E Buoni (Italy)\n",
      "2022: Kalush Orchestra - Stefania (Ukraine)\n",
      "\n"
     ]
    }
   ],
   "source": [
    "# Titlecase the string\n",
    "print(eurovision_winners.title())"
   ]
  },
  {
   "cell_type": "markdown",
   "metadata": {},
   "source": [
    "3. How many different songs are listed?"
   ]
  },
  {
   "cell_type": "code",
   "execution_count": 31,
   "metadata": {},
   "outputs": [
    {
     "name": "stdout",
     "output_type": "stream",
     "text": [
      "10\n"
     ]
    }
   ],
   "source": [
    "# Counting the different individual songs present in the string\n",
    "print(eurovision_winners.count(\" - \"))"
   ]
  },
  {
   "cell_type": "markdown",
   "metadata": {},
   "source": [
    "4. Convert the string to a list of words. Then, make a string out of the list in which each word is on a new line."
   ]
  },
  {
   "cell_type": "code",
   "execution_count": 38,
   "outputs": [
    {
     "name": "stdout",
     "output_type": "stream",
     "text": [
      "['2012:', 'loreen', '-', 'euphoria', '(Sweden)', '2013:', 'emmelie', 'de', 'forest', '-', 'only', 'teardrops', '(Denmark)', '2014:', 'conchita', 'wurst', '-', 'rise', 'like', 'a', 'phoenix', '(Austria)', '2015:', 'mans', 'zelmerlow', '-', 'heroes', '(Sweden)', '2016:', 'jamala', '-', '1944', '(Ukraine)', '2017:', 'salvador', 'sobral', '-', 'amar', 'pelos', 'dois', '(Portugal)', '2018:', 'netta', '-', 'toy', '(Israel)', '2019:', 'duncan', 'laurence', '-', 'arcade', '(Netherlands)', '2021:', 'maneskin', '-', 'zitti', 'e', 'buoni', '(Italy)', '2022:', 'kalush', 'orchestra', '-', 'stefania', '(Ukraine)']\n",
      "2012:\n",
      "loreen\n",
      "-\n",
      "euphoria\n",
      "(Sweden)\n",
      "2013:\n",
      "emmelie\n",
      "de\n",
      "forest\n",
      "-\n",
      "only\n",
      "teardrops\n",
      "(Denmark)\n",
      "2014:\n",
      "conchita\n",
      "wurst\n",
      "-\n",
      "rise\n",
      "like\n",
      "a\n",
      "phoenix\n",
      "(Austria)\n",
      "2015:\n",
      "mans\n",
      "zelmerlow\n",
      "-\n",
      "heroes\n",
      "(Sweden)\n",
      "2016:\n",
      "jamala\n",
      "-\n",
      "1944\n",
      "(Ukraine)\n",
      "2017:\n",
      "salvador\n",
      "sobral\n",
      "-\n",
      "amar\n",
      "pelos\n",
      "dois\n",
      "(Portugal)\n",
      "2018:\n",
      "netta\n",
      "-\n",
      "toy\n",
      "(Israel)\n",
      "2019:\n",
      "duncan\n",
      "laurence\n",
      "-\n",
      "arcade\n",
      "(Netherlands)\n",
      "2021:\n",
      "maneskin\n",
      "-\n",
      "zitti\n",
      "e\n",
      "buoni\n",
      "(Italy)\n",
      "2022:\n",
      "kalush\n",
      "orchestra\n",
      "-\n",
      "stefania\n",
      "(Ukraine)\n"
     ]
    }
   ],
   "source": [
    "# Convert the string to a list of words\n",
    "eurovisionList=eurovision_winners.split()\n",
    "print(eurovisionList)\n",
    "# Making a string with a new line for each word in the list\n",
    "eurovisionString = \"\\n\".join(eurovisionList)\n",
    "print(eurovisionString)"
   ],
   "metadata": {
    "collapsed": false
   }
  },
  {
   "cell_type": "markdown",
   "metadata": {},
   "source": [
    "5. One of the song titles is a year (a number). Find its index in the list you made in 4. and replace the string object for the number as integer from the list. You can type the year in your code only to obtain its index. Print the list."
   ]
  },
  {
   "cell_type": "code",
   "execution_count": 39,
   "metadata": {},
   "outputs": [
    {
     "name": "stdout",
     "output_type": "stream",
     "text": [
      "['2012:', 'loreen', '-', 'euphoria', '(Sweden)', '2013:', 'emmelie', 'de', 'forest', '-', 'only', 'teardrops', '(Denmark)', '2014:', 'conchita', 'wurst', '-', 'rise', 'like', 'a', 'phoenix', '(Austria)', '2015:', 'mans', 'zelmerlow', '-', 'heroes', '(Sweden)', '2016:', 'jamala', '-', 1944, '(Ukraine)', '2017:', 'salvador', 'sobral', '-', 'amar', 'pelos', 'dois', '(Portugal)', '2018:', 'netta', '-', 'toy', '(Israel)', '2019:', 'duncan', 'laurence', '-', 'arcade', '(Netherlands)', '2021:', 'maneskin', '-', 'zitti', 'e', 'buoni', '(Italy)', '2022:', 'kalush', 'orchestra', '-', 'stefania', '(Ukraine)']\n"
     ]
    }
   ],
   "source": [
    "# Finding the index of the '1944' in the list\n",
    "NineTeenindex = eurovisionList.index('1944')\n",
    "# Replacing the string object for the number as integer from the list\n",
    "eurovisionList[NineTeenindex] = 1944\n",
    "print(eurovisionList)"
   ]
  },
  {
   "cell_type": "markdown",
   "metadata": {},
   "source": [
    "6. Create a regular expression that returns the names of all the countries that won, and print them, without duplicates. As a reminder, you can use a regex tester website to help you: https://regex101.com/"
   ]
  },
  {
   "cell_type": "code",
   "execution_count": 18,
   "metadata": {},
   "outputs": [
    {
     "name": "stdout",
     "output_type": "stream",
     "text": [
      "{'Netherlands', 'Portugal', 'Denmark', 'Sweden', 'Italy', 'Ukraine', 'Israel', 'Austria'}\n"
     ]
    }
   ],
   "source": [
    "# Regex of the countries that won the Eurovision Song Contest each year\n",
    "import re\n",
    "countries = re.findall(r\"\\((.*?)\\)\", eurovision_winners)\n",
    "nonRepeatingCountries = set(countries)\n",
    "print  (nonRepeatingCountries)\n"
   ]
  }
 ],
 "metadata": {
  "colab": {
   "provenance": []
  },
  "kernelspec": {
   "display_name": "Python 3 (ipykernel)",
   "language": "python",
   "name": "python3"
  },
  "language_info": {
   "codemirror_mode": {
    "name": "ipython",
    "version": 3
   },
   "file_extension": ".py",
   "mimetype": "text/x-python",
   "name": "python",
   "nbconvert_exporter": "python",
   "pygments_lexer": "ipython3",
   "version": "3.8.13"
  }
 },
 "nbformat": 4,
 "nbformat_minor": 4
}
