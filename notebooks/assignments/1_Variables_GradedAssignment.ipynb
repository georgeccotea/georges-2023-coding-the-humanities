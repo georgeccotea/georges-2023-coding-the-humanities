{
 "nbformat": 4,
 "nbformat_minor": 0,
 "metadata": {
  "colab": {
   "provenance": []
  },
  "kernelspec": {
   "name": "python3",
   "display_name": "Python 3"
  },
  "language_info": {
   "name": "python"
  }
 },
 "cells": [
  {
   "cell_type": "markdown",
   "metadata": {
    "id": "X8NI2UYxmAxm"
   },
   "source": [
    "# Variables: Graded assignment\n",
    "\n",
    "This notebook contains the first graded collaborative assignment of the 2023 Coding the Humanities course, and it is based on the [1. Variables](1_Variables.ipynb) course material."
   ]
  },
  {
   "cell_type": "markdown",
   "source": [
    "This is a collaborative assignment. In the text cell below, please include all the names of your group members.\n",
    "\n",
    "Below that, answer the question using a mix of code cells and text cells in a way that would make your answers understandable to outsiders. To explain your code, you can use commenting (#) and/or text cells, similar to what you see in the course materials. Not all answers require code, some are text questions.\n",
    "\n",
    "If you used code or a solution from the internet (such as StackOverflow) or another external resource, please make reference to it (in any format). Unattributed copied code will be considered plagiarism and therefore fraud."
   ],
   "metadata": {
    "id": "tDox7v6Zydoa"
   }
  },
  {
   "cell_type": "markdown",
   "source": [
    "**Authors of this answer:**\n",
    "George, Mandy, Raluca, Daria and Gabrielle"
   ],
   "metadata": {
    "id": "yrkCK50pyv99"
   }
  },
  {
   "cell_type": "markdown",
   "source": [
    "## Assignment\n",
    "\n",
    "Below, you will find a list that contains an exerpt of text from Willard V.A. Quine's book \"Word and Object\" (1960). Each word is an item in the list. However, it is a bit messy as it was scanned from paper.\n",
    "\n",
    "1. Firstly, you see there is a page number in the sentence, but you think it was scanned incorrectly. You think it should be 744 instead of 244, and you try to correct this. Why does the solution below not work?"
   ],
   "metadata": {
    "id": "vHoYErhC0H6l"
   }
  },
  {
   "cell_type": "code",
   "source": [
    "rabbit_sentence = [\"Two\", \"pointings\", \"may\", \"be\", \"pointings\", \"to\", \"a\", \"numerically\", \"identical\", \"rabbit\", \",\", \"to\", \"numerically\", \"distinct\", \"rabbit\", \"parts\", \",\"\n",
    "                  , \"and\", \"to\", \"numerically\", \"distinct\", \"rabbit\", \"stages\", \";\", \"the\", \"inscrutability\", \"lies\", \"not\", \"in\", \"resemblance\", \",\", \"but\", \"in\", \"the\", \"anatomy\", \".\"\n",
    "                  , \"Strawson\", \"is\", \"making\", \"this\", \"point\", \"when\", \"he\", \"writes\", \"that\", '\"', \"feature\", \"-\", \"placing\", \"sentences\", \"do\", \"not\", \"introduce\", \"particulars\", \n",
    "                   \"into\", \"our\", \"discourse\", '\"', \"(\", '\"', \"Particular\", \"and\", \"general\", \",\", \"p.\", \"244\", \")\", \".\"]\n",
    "\n",
    "number_index = rabbit_sentence.index(\"244\")\n",
    "rabbit_sentence[number_index] += 500"
   ],
   "metadata": {
    "id": "y3af0USf0K2A"
   },
   "execution_count": 45,
   "outputs": [
    {
     "ename": "TypeError",
     "evalue": "can only concatenate str (not \"int\") to str",
     "output_type": "error",
     "traceback": [
      "\u001B[0;31m---------------------------------------------------------------------------\u001B[0m",
      "\u001B[0;31mTypeError\u001B[0m                                 Traceback (most recent call last)",
      "Cell \u001B[0;32mIn[45], line 7\u001B[0m\n\u001B[1;32m      1\u001B[0m rabbit_sentence \u001B[38;5;241m=\u001B[39m [\u001B[38;5;124m\"\u001B[39m\u001B[38;5;124mTwo\u001B[39m\u001B[38;5;124m\"\u001B[39m, \u001B[38;5;124m\"\u001B[39m\u001B[38;5;124mpointings\u001B[39m\u001B[38;5;124m\"\u001B[39m, \u001B[38;5;124m\"\u001B[39m\u001B[38;5;124mmay\u001B[39m\u001B[38;5;124m\"\u001B[39m, \u001B[38;5;124m\"\u001B[39m\u001B[38;5;124mbe\u001B[39m\u001B[38;5;124m\"\u001B[39m, \u001B[38;5;124m\"\u001B[39m\u001B[38;5;124mpointings\u001B[39m\u001B[38;5;124m\"\u001B[39m, \u001B[38;5;124m\"\u001B[39m\u001B[38;5;124mto\u001B[39m\u001B[38;5;124m\"\u001B[39m, \u001B[38;5;124m\"\u001B[39m\u001B[38;5;124ma\u001B[39m\u001B[38;5;124m\"\u001B[39m, \u001B[38;5;124m\"\u001B[39m\u001B[38;5;124mnumerically\u001B[39m\u001B[38;5;124m\"\u001B[39m, \u001B[38;5;124m\"\u001B[39m\u001B[38;5;124midentical\u001B[39m\u001B[38;5;124m\"\u001B[39m, \u001B[38;5;124m\"\u001B[39m\u001B[38;5;124mrabbit\u001B[39m\u001B[38;5;124m\"\u001B[39m, \u001B[38;5;124m\"\u001B[39m\u001B[38;5;124m,\u001B[39m\u001B[38;5;124m\"\u001B[39m, \u001B[38;5;124m\"\u001B[39m\u001B[38;5;124mto\u001B[39m\u001B[38;5;124m\"\u001B[39m, \u001B[38;5;124m\"\u001B[39m\u001B[38;5;124mnumerically\u001B[39m\u001B[38;5;124m\"\u001B[39m, \u001B[38;5;124m\"\u001B[39m\u001B[38;5;124mdistinct\u001B[39m\u001B[38;5;124m\"\u001B[39m, \u001B[38;5;124m\"\u001B[39m\u001B[38;5;124mrabbit\u001B[39m\u001B[38;5;124m\"\u001B[39m, \u001B[38;5;124m\"\u001B[39m\u001B[38;5;124mparts\u001B[39m\u001B[38;5;124m\"\u001B[39m, \u001B[38;5;124m\"\u001B[39m\u001B[38;5;124m,\u001B[39m\u001B[38;5;124m\"\u001B[39m\n\u001B[1;32m      2\u001B[0m                   , \u001B[38;5;124m\"\u001B[39m\u001B[38;5;124mand\u001B[39m\u001B[38;5;124m\"\u001B[39m, \u001B[38;5;124m\"\u001B[39m\u001B[38;5;124mto\u001B[39m\u001B[38;5;124m\"\u001B[39m, \u001B[38;5;124m\"\u001B[39m\u001B[38;5;124mnumerically\u001B[39m\u001B[38;5;124m\"\u001B[39m, \u001B[38;5;124m\"\u001B[39m\u001B[38;5;124mdistinct\u001B[39m\u001B[38;5;124m\"\u001B[39m, \u001B[38;5;124m\"\u001B[39m\u001B[38;5;124mrabbit\u001B[39m\u001B[38;5;124m\"\u001B[39m, \u001B[38;5;124m\"\u001B[39m\u001B[38;5;124mstages\u001B[39m\u001B[38;5;124m\"\u001B[39m, \u001B[38;5;124m\"\u001B[39m\u001B[38;5;124m;\u001B[39m\u001B[38;5;124m\"\u001B[39m, \u001B[38;5;124m\"\u001B[39m\u001B[38;5;124mthe\u001B[39m\u001B[38;5;124m\"\u001B[39m, \u001B[38;5;124m\"\u001B[39m\u001B[38;5;124minscrutability\u001B[39m\u001B[38;5;124m\"\u001B[39m, \u001B[38;5;124m\"\u001B[39m\u001B[38;5;124mlies\u001B[39m\u001B[38;5;124m\"\u001B[39m, \u001B[38;5;124m\"\u001B[39m\u001B[38;5;124mnot\u001B[39m\u001B[38;5;124m\"\u001B[39m, \u001B[38;5;124m\"\u001B[39m\u001B[38;5;124min\u001B[39m\u001B[38;5;124m\"\u001B[39m, \u001B[38;5;124m\"\u001B[39m\u001B[38;5;124mresemblance\u001B[39m\u001B[38;5;124m\"\u001B[39m, \u001B[38;5;124m\"\u001B[39m\u001B[38;5;124m,\u001B[39m\u001B[38;5;124m\"\u001B[39m, \u001B[38;5;124m\"\u001B[39m\u001B[38;5;124mbut\u001B[39m\u001B[38;5;124m\"\u001B[39m, \u001B[38;5;124m\"\u001B[39m\u001B[38;5;124min\u001B[39m\u001B[38;5;124m\"\u001B[39m, \u001B[38;5;124m\"\u001B[39m\u001B[38;5;124mthe\u001B[39m\u001B[38;5;124m\"\u001B[39m, \u001B[38;5;124m\"\u001B[39m\u001B[38;5;124manatomy\u001B[39m\u001B[38;5;124m\"\u001B[39m, \u001B[38;5;124m\"\u001B[39m\u001B[38;5;124m.\u001B[39m\u001B[38;5;124m\"\u001B[39m\n\u001B[1;32m      3\u001B[0m                   , \u001B[38;5;124m\"\u001B[39m\u001B[38;5;124mStrawson\u001B[39m\u001B[38;5;124m\"\u001B[39m, \u001B[38;5;124m\"\u001B[39m\u001B[38;5;124mis\u001B[39m\u001B[38;5;124m\"\u001B[39m, \u001B[38;5;124m\"\u001B[39m\u001B[38;5;124mmaking\u001B[39m\u001B[38;5;124m\"\u001B[39m, \u001B[38;5;124m\"\u001B[39m\u001B[38;5;124mthis\u001B[39m\u001B[38;5;124m\"\u001B[39m, \u001B[38;5;124m\"\u001B[39m\u001B[38;5;124mpoint\u001B[39m\u001B[38;5;124m\"\u001B[39m, \u001B[38;5;124m\"\u001B[39m\u001B[38;5;124mwhen\u001B[39m\u001B[38;5;124m\"\u001B[39m, \u001B[38;5;124m\"\u001B[39m\u001B[38;5;124mhe\u001B[39m\u001B[38;5;124m\"\u001B[39m, \u001B[38;5;124m\"\u001B[39m\u001B[38;5;124mwrites\u001B[39m\u001B[38;5;124m\"\u001B[39m, \u001B[38;5;124m\"\u001B[39m\u001B[38;5;124mthat\u001B[39m\u001B[38;5;124m\"\u001B[39m, \u001B[38;5;124m'\u001B[39m\u001B[38;5;124m\"\u001B[39m\u001B[38;5;124m'\u001B[39m, \u001B[38;5;124m\"\u001B[39m\u001B[38;5;124mfeature\u001B[39m\u001B[38;5;124m\"\u001B[39m, \u001B[38;5;124m\"\u001B[39m\u001B[38;5;124m-\u001B[39m\u001B[38;5;124m\"\u001B[39m, \u001B[38;5;124m\"\u001B[39m\u001B[38;5;124mplacing\u001B[39m\u001B[38;5;124m\"\u001B[39m, \u001B[38;5;124m\"\u001B[39m\u001B[38;5;124msentences\u001B[39m\u001B[38;5;124m\"\u001B[39m, \u001B[38;5;124m\"\u001B[39m\u001B[38;5;124mdo\u001B[39m\u001B[38;5;124m\"\u001B[39m, \u001B[38;5;124m\"\u001B[39m\u001B[38;5;124mnot\u001B[39m\u001B[38;5;124m\"\u001B[39m, \u001B[38;5;124m\"\u001B[39m\u001B[38;5;124mintroduce\u001B[39m\u001B[38;5;124m\"\u001B[39m, \u001B[38;5;124m\"\u001B[39m\u001B[38;5;124mparticulars\u001B[39m\u001B[38;5;124m\"\u001B[39m, \n\u001B[1;32m      4\u001B[0m                    \u001B[38;5;124m\"\u001B[39m\u001B[38;5;124minto\u001B[39m\u001B[38;5;124m\"\u001B[39m, \u001B[38;5;124m\"\u001B[39m\u001B[38;5;124mour\u001B[39m\u001B[38;5;124m\"\u001B[39m, \u001B[38;5;124m\"\u001B[39m\u001B[38;5;124mdiscourse\u001B[39m\u001B[38;5;124m\"\u001B[39m, \u001B[38;5;124m'\u001B[39m\u001B[38;5;124m\"\u001B[39m\u001B[38;5;124m'\u001B[39m, \u001B[38;5;124m\"\u001B[39m\u001B[38;5;124m(\u001B[39m\u001B[38;5;124m\"\u001B[39m, \u001B[38;5;124m'\u001B[39m\u001B[38;5;124m\"\u001B[39m\u001B[38;5;124m'\u001B[39m, \u001B[38;5;124m\"\u001B[39m\u001B[38;5;124mParticular\u001B[39m\u001B[38;5;124m\"\u001B[39m, \u001B[38;5;124m\"\u001B[39m\u001B[38;5;124mand\u001B[39m\u001B[38;5;124m\"\u001B[39m, \u001B[38;5;124m\"\u001B[39m\u001B[38;5;124mgeneral\u001B[39m\u001B[38;5;124m\"\u001B[39m, \u001B[38;5;124m\"\u001B[39m\u001B[38;5;124m,\u001B[39m\u001B[38;5;124m\"\u001B[39m, \u001B[38;5;124m\"\u001B[39m\u001B[38;5;124mp.\u001B[39m\u001B[38;5;124m\"\u001B[39m, \u001B[38;5;124m\"\u001B[39m\u001B[38;5;124m244\u001B[39m\u001B[38;5;124m\"\u001B[39m, \u001B[38;5;124m\"\u001B[39m\u001B[38;5;124m)\u001B[39m\u001B[38;5;124m\"\u001B[39m, \u001B[38;5;124m\"\u001B[39m\u001B[38;5;124m.\u001B[39m\u001B[38;5;124m\"\u001B[39m]\n\u001B[1;32m      6\u001B[0m number_index \u001B[38;5;241m=\u001B[39m rabbit_sentence\u001B[38;5;241m.\u001B[39mindex(\u001B[38;5;124m\"\u001B[39m\u001B[38;5;124m244\u001B[39m\u001B[38;5;124m\"\u001B[39m)\n\u001B[0;32m----> 7\u001B[0m rabbit_sentence[number_index] \u001B[38;5;241m+\u001B[39m\u001B[38;5;241m=\u001B[39m \u001B[38;5;241m500\u001B[39m\n",
      "\u001B[0;31mTypeError\u001B[0m: can only concatenate str (not \"int\") to str"
     ]
    }
   ]
  },
  {
   "cell_type": "markdown",
   "source": [
    "Your answer here (text cell):"
   ],
   "metadata": {
    "id": "GkH7_70Y73uK"
   }
  },
  {
   "cell_type": "code",
   "execution_count": null,
   "outputs": [],
   "source": [
    "#fixing the error\n",
    "rabbit_sentence[number_index] = \"744\" #this command replaces the index of 244 with 744\n",
    "rabbit_sentence"
   ],
   "metadata": {
    "collapsed": false
   }
  },
  {
   "cell_type": "markdown",
   "source": [
    "Provide another solution that does let you add 500 to the number in the list. You can refer to the variables from the code block above without having to re-write them."
   ],
   "metadata": {
    "id": "O6vh1FE376VY"
   }
  },
  {
   "cell_type": "markdown",
   "source": [
    "This solution is compressed into one line of code:"
   ],
   "metadata": {
    "collapsed": false
   }
  },
  {
   "cell_type": "code",
   "source": [
    "#writing a solution that does let you add 500 to the number in the list\n",
    "rabbit_sentence[number_index] = str(int(rabbit_sentence[number_index]) + 500) #this command converts the string \"244\" to an integer, adds 500 to it, and converts it back to a string"
   ],
   "metadata": {
    "id": "ryt58O7F68Fk"
   },
   "execution_count": null,
   "outputs": []
  },
  {
   "cell_type": "markdown",
   "source": [
    "This solution is expanded into multiple lines of code:"
   ],
   "metadata": {
    "collapsed": false
   }
  },
  {
   "cell_type": "code",
   "execution_count": 46,
   "outputs": [
    {
     "name": "stdout",
     "output_type": "stream",
     "text": [
      "65\n",
      "['Two', 'pointings', 'may', 'be', 'pointings', 'to', 'a', 'numerically', 'identical', 'rabbit', ',', 'to', 'numerically', 'distinct', 'rabbit', 'parts', ',', 'and', 'to', 'numerically', 'distinct', 'rabbit', 'stages', ';', 'the', 'inscrutability', 'lies', 'not', 'in', 'resemblance', ',', 'but', 'in', 'the', 'anatomy', '.', 'Strawson', 'is', 'making', 'this', 'point', 'when', 'he', 'writes', 'that', '\"', 'feature', '-', 'placing', 'sentences', 'do', 'not', 'introduce', 'particulars', 'into', 'our', 'discourse', '\"', '(', '\"', 'Particular', 'and', 'general', ',', 'p.', '744', ')', '.']\n"
     ]
    }
   ],
   "source": [
    "number_index = rabbit_sentence.index(\"244\") #this line of code finds the index of the number 244 in the list rabbit_sentence\n",
    "print(number_index) #this line of code prints the index of the number 244 in the list rabbit_sentence\n",
    "a = int(rabbit_sentence[number_index]) #this line of code converts the string \"244\" to an integer\n",
    "a = str(a+500) #this line of code adds 500 to the integer a and converts it back to a string\n",
    "rabbit_sentence[number_index] = a #this line of code replaces the index of 244 with the string held by a\n",
    "print (rabbit_sentence)"
   ],
   "metadata": {
    "collapsed": false
   }
  },
  {
   "cell_type": "markdown",
   "source": [
    "2. Next, you want to check whether the word \"particular\" occurs in this list. How would you check that with Python code? Do you agree with the answer?"
   ],
   "metadata": {
    "id": "m1G-l82e8MQz"
   }
  },
  {
   "cell_type": "code",
   "source": [
    "# checking if the word \"particular\" occurs in the list\n",
    "\"particular\" in rabbit_sentence #this line of code checks if the word \"particular\" is in the list rabbit_sentence"
   ],
   "metadata": {
    "id": "nF0Hk4aF9pJ5"
   },
   "execution_count": null,
   "outputs": []
  },
  {
   "cell_type": "markdown",
   "source": [
    "3. Now you want to know how often the word rabbit is actually used in this sentence. Check it with Python code."
   ],
   "metadata": {
    "id": "kP_g4EDV9vfh"
   }
  },
  {
   "cell_type": "code",
   "source": [
    "# checking how often the word rabbit is used in the sentence\n",
    "rabbit_sentence.count(\"rabbit\") #this line of code counts how often the word \"rabbit\" is used in the list rabbit_sentence"
   ],
   "metadata": {
    "id": "B8uJbDKu945S"
   },
   "execution_count": null,
   "outputs": []
  },
  {
   "cell_type": "markdown",
   "source": [
    "4. The list actually contains two sentences, not one. Can you make a new variable containing only the first sentence from the rabbit_sentence variable above? Try to write a solution that does not include any specific number."
   ],
   "metadata": {
    "id": "uV6PvNfD8rCP"
   }
  },
  {
   "cell_type": "code",
   "source": [
    "#splitting the sentences\n",
    "first_rabbit_sentence = rabbit_sentence[:rabbit_sentence.index(\";\")] #this line of code splits the list rabbit_sentence at the index of the semicolon\n",
    "first_rabbit_sentence"
   ],
   "metadata": {
    "id": "ancg7DZ_9Hs4"
   },
   "execution_count": null,
   "outputs": []
  },
  {
   "cell_type": "markdown",
   "source": [
    "Another solution for this question is:"
   ],
   "metadata": {
    "collapsed": false
   }
  },
  {
   "cell_type": "code",
   "execution_count": null,
   "outputs": [],
   "source": [
    "#Getting the index of the semicolon that splits the sentences\n",
    "semicolon_index = rabbit_sentence.index(\";\")\n",
    "#Getting the first sentence\n",
    "first_rabbit_sentence = rabbit_sentence[:semicolon_index] #this line of code splits the list rabbit_sentence at the index of the semicolon"
   ],
   "metadata": {
    "collapsed": false
   }
  },
  {
   "cell_type": "markdown",
   "source": [
    "5. Lastly, a tricky one. You want to remove the punctuation from the rabbit_sentence. So, you want to remove ',' and ';' and '.' and '(' and ')' and '\"' and '-' from the list. However, you also want to preserve the original, and have both the one with punctuation and the one without. Can you do this? Print both lists, *as well as their length* to show that they are different."
   ],
   "metadata": {
    "id": "7UP55vJF-GBi"
   }
  },
  {
   "cell_type": "markdown",
   "source": [
    "This solution uses a for loop, which we have not yet learned:"
   ],
   "metadata": {
    "collapsed": false
   }
  },
  {
   "cell_type": "code",
   "source": [
    "#printing the original sentence and the length of the original sentence\n",
    "print(rabbit_sentence)\n",
    "print(\"The sentence has:\"+ str(len(rabbit_sentence)) + \" items\")\n",
    "#removing the punctuation from the sentence\n",
    "clean_rabbit_sentence = rabbit_sentence.copy() #this line of code creates a copy of the list rabbit_sentence\n",
    "clean_rabbit_sentence = [w for w in clean_rabbit_sentence if w not in [\",\", \";\", \".\", \"(\", \")\", '\"', \"-\"]] #this line of code uses a for loop to remove the punctuation from the list clean_rabbit_sentence.\n",
    "print(clean_rabbit_sentence)\n",
    "print(\"The sentence has:\"+ str(len(clean_rabbit_sentence)) + \" items\")\n"
   ],
   "metadata": {
    "id": "Lx1X1Tr__Z5W"
   },
   "execution_count": 39,
   "outputs": [
    {
     "name": "stdout",
     "output_type": "stream",
     "text": [
      "['Two', 'pointings', 'may', 'be', 'pointings', 'to', 'a', 'numerically', 'identical', 'rabbit', ',', 'to', 'numerically', 'distinct', 'rabbit', 'parts', ',', 'and', 'to', 'numerically', 'distinct', 'rabbit', 'stages', ';', 'the', 'inscrutability', 'lies', 'not', 'in', 'resemblance', ',', 'but', 'in', 'the', 'anatomy', '.', 'Strawson', 'is', 'making', 'this', 'point', 'when', 'he', 'writes', 'that', '\"', 'feature', '-', 'placing', 'sentences', 'do', 'not', 'introduce', 'particulars', 'into', 'our', 'discourse', '\"', '(', '\"', 'Particular', 'and', 'general', ',', 'p.', '1244', ')', '.']\n",
      "The sentence has:68 items\n",
      "['Two', 'pointings', 'may', 'be', 'pointings', 'to', 'a', 'numerically', 'identical', 'rabbit', 'to', 'numerically', 'distinct', 'rabbit', 'parts', 'and', 'to', 'numerically', 'distinct', 'rabbit', 'stages', 'the', 'inscrutability', 'lies', 'not', 'in', 'resemblance', 'but', 'in', 'the', 'anatomy', 'Strawson', 'is', 'making', 'this', 'point', 'when', 'he', 'writes', 'that', 'feature', 'placing', 'sentences', 'do', 'not', 'introduce', 'particulars', 'into', 'our', 'discourse', 'Particular', 'and', 'general', 'p.', '1244']\n",
      "The sentence has:55 items\n"
     ]
    }
   ]
  },
  {
   "cell_type": "markdown",
   "source": [
    "This solution tries to only use the course material we have learned so far:"
   ],
   "metadata": {
    "collapsed": false
   }
  },
  {
   "cell_type": "code",
   "execution_count": 41,
   "outputs": [
    {
     "name": "stdout",
     "output_type": "stream",
     "text": [
      "['Two', 'pointings', 'may', 'be', 'pointings', 'to', 'a', 'numerically', 'identical', 'rabbit', ',', 'to', 'numerically', 'distinct', 'rabbit', 'parts', ',', 'and', 'to', 'numerically', 'distinct', 'rabbit', 'stages', ';', 'the', 'inscrutability', 'lies', 'not', 'in', 'resemblance', ',', 'but', 'in', 'the', 'anatomy', '.', 'Strawson', 'is', 'making', 'this', 'point', 'when', 'he', 'writes', 'that', '\"', 'feature', '-', 'placing', 'sentences', 'do', 'not', 'introduce', 'particulars', 'into', 'our', 'discourse', '\"', '(', '\"', 'Particular', 'and', 'general', ',', 'p.', '1244', ')', '.']\n",
      "The sentence has:68 items\n",
      "['Two', 'pointings', 'may', 'be', 'pointings', 'to', 'a', 'numerically', 'identical', 'rabbit', 'to', 'numerically', 'distinct', 'rabbit', 'parts', ',', 'and', 'to', 'numerically', 'distinct', 'rabbit', 'stages', 'the', 'inscrutability', 'lies', 'not', 'in', 'resemblance', ',', 'but', 'in', 'the', 'anatomy', 'Strawson', 'is', 'making', 'this', 'point', 'when', 'he', 'writes', 'that', 'feature', 'placing', 'sentences', 'do', 'not', 'introduce', 'particulars', 'into', 'our', 'discourse', '\"', '\"', 'Particular', 'and', 'general', ',', 'p.', '1244', '.']\n",
      "The sentence has:61 items\n"
     ]
    }
   ],
   "source": [
    "print(rabbit_sentence)\n",
    "print(\"The sentence has:\"+ str(len(rabbit_sentence)) + \" items\")\n",
    "#removing the punctuation from the sentence\n",
    "clean_rabbit_sentence = rabbit_sentence.copy() #this line of code creates a copy of the list rabbit_sentence\n",
    "clean_rabbit_sentence.remove(\",\") #this line of code removes the comma from the list clean_rabbit_sentence\n",
    "clean_rabbit_sentence.remove(\";\") #this line of code removes the semicolon from the list clean_rabbit_sentence\n",
    "clean_rabbit_sentence.remove(\".\") #this line of code removes the period from the list clean_rabbit_sentence\n",
    "clean_rabbit_sentence.remove(\"(\") #this line of code removes the parenthesis from the list clean_rabbit_sentence\n",
    "clean_rabbit_sentence.remove(\")\") #this line of code removes the parenthesis from the list clean_rabbit_sentence\n",
    "clean_rabbit_sentence.remove('\"') #this line of code removes the quotation marks from the list clean_rabbit_sentence\n",
    "clean_rabbit_sentence.remove(\"-\") #this line of code removes the hyphen from the list clean_rabbit_sentence\n",
    "print(clean_rabbit_sentence)\n",
    "print(\"The sentence has:\"+ str(len(clean_rabbit_sentence)) + \" items\")\n"
   ],
   "metadata": {
    "collapsed": false
   }
  },
  {
   "cell_type": "markdown",
   "source": [
    "This solution is not fully functional as the length is 61 items instead of 55. Making it fully functional would imply using the remove command multiple times which is not efficient, time consuming and slow.\n"
   ],
   "metadata": {
    "collapsed": false
   }
  }
 ]
}
