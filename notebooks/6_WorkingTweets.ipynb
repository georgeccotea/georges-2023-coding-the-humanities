{
 "cells": [
  {
   "cell_type": "markdown",
   "metadata": {},
   "source": [
    "# Working with Tweets\n",
    "\n",
    "In this notebook, we will delve into the analysis of tweet contents.\n",
    "\n",
    "We consider the dataset of historical tweets from Elon Musk, the current owner of Twitter, and ask the following questions:\n",
    "* What was Elon most actively tweeting about during the earlier years of this dataset?\n",
    "* Who was Elon most frequently referring to?\n",
    "\n",
    "We will explore how to work with the contents of tweets."
   ]
  },
  {
   "cell_type": "code",
   "execution_count": 54,
   "metadata": {},
   "outputs": [],
   "source": [
    "# imports\n",
    "\n",
    "import os\n",
    "import pandas as pd\n",
    "import numpy as np\n",
    "import seaborn as sns\n",
    "import matplotlib.pyplot as plt\n",
    "import pandas as pd"
   ]
  },
  {
   "cell_type": "markdown",
   "metadata": {},
   "source": [
    "Let's get some basics (or a refresher) of working with texts in Python. Texts are sequences of discrete symbols (words or, more generically, tokens)."
   ]
  },
  {
   "cell_type": "markdown",
   "metadata": {},
   "source": [
    "## Import the dataset\n",
    "\n",
    "> More info on how to harvest tweets automatically, see Notebook 7. \n",
    "\n",
    "Let us import the Elon Musk's tweets dataset in memory."
   ]
  },
  {
   "cell_type": "code",
   "execution_count": 10,
   "metadata": {},
   "outputs": [],
   "source": [
    "# Import the dataset using Pandas, and create a data frame\n",
    "\n",
    "file_path = 'data/elonmusk_tweets.csv'\n",
    "\n",
    "df_elon = pd.read_csv(file_path, encoding=\"utf-8\")"
   ]
  },
  {
   "cell_type": "code",
   "execution_count": 55,
   "metadata": {},
   "outputs": [
    {
     "data": {
      "text/plain": "                                     id  \\\ncreated_at                                \n2017-04-05 14:56:29  849636868052275200   \n2017-04-03 20:01:01  848988730585096192   \n2017-04-03 16:59:35  848943072423497728   \n2017-04-03 16:30:19  848935705057280001   \n2017-04-02 06:05:23  848416049573658624   \n2017-04-02 06:04:07  848415731502923777   \n2017-04-02 06:02:38  848415356263702528   \n2017-04-02 04:57:31  848398971139629057   \n2017-04-01 18:44:01  848244577521647616   \n2017-04-01 18:39:09  848243350993895424   \n\n                                                                  text  \\\ncreated_at                                                               \n2017-04-05 14:56:29  And so the robots spared humanity ... https://...   \n2017-04-03 20:01:01  @ForIn2020 @waltmossberg @mims @defcon_5 Exact...   \n2017-04-03 16:59:35         @waltmossberg @mims @defcon_5 Et tu, Walt?   \n2017-04-03 16:30:19                   Stormy weather in Shortville ...   \n2017-04-02 06:05:23  @DaveLeeBBC @verge Coal is dying due to nat ga...   \n2017-04-02 06:04:07  @Lexxxzis It's just a helicopter in helicopter...   \n2017-04-02 06:02:38                             @verge It won't matter   \n2017-04-02 04:57:31                         @SuperCoolCube Pretty good   \n2017-04-01 18:44:01  Why did we waste so much time developing silly...   \n2017-04-01 18:39:09  Technology breakthrough: turns out chemtrails ...   \n\n                                                            clean_text  \\\ncreated_at                                                               \n2017-04-05 14:56:29                             robots spared humanity   \n2017-04-03 20:01:01  @ForIn2020 @waltmossberg @mims @defcon_5 Exact...   \n2017-04-03 16:59:35                 @waltmossberg @mims @defcon_5 Walt   \n2017-04-03 16:30:19                          Stormy weather Shortville   \n2017-04-02 06:05:23  @DaveLeeBBC @verge Coal dying fracking It's ba...   \n2017-04-02 06:04:07  @Lexxxzis It's just helicopter helicopter's cl...   \n2017-04-02 06:02:38                                @verge won't matter   \n2017-04-02 04:57:31                         @SuperCoolCube Pretty good   \n2017-04-01 18:44:01  waste much time developing silly rockets Damn ...   \n2017-04-01 18:39:09  Technology breakthrough turns chemtrails actua...   \n\n                     tesla_in_tweet  \ncreated_at                           \n2017-04-05 14:56:29               0  \n2017-04-03 20:01:01               1  \n2017-04-03 16:59:35               0  \n2017-04-03 16:30:19               0  \n2017-04-02 06:05:23               0  \n2017-04-02 06:04:07               0  \n2017-04-02 06:02:38               0  \n2017-04-02 04:57:31               0  \n2017-04-01 18:44:01               0  \n2017-04-01 18:39:09               0  ",
      "text/html": "<div>\n<style scoped>\n    .dataframe tbody tr th:only-of-type {\n        vertical-align: middle;\n    }\n\n    .dataframe tbody tr th {\n        vertical-align: top;\n    }\n\n    .dataframe thead th {\n        text-align: right;\n    }\n</style>\n<table border=\"1\" class=\"dataframe\">\n  <thead>\n    <tr style=\"text-align: right;\">\n      <th></th>\n      <th>id</th>\n      <th>text</th>\n      <th>clean_text</th>\n      <th>tesla_in_tweet</th>\n    </tr>\n    <tr>\n      <th>created_at</th>\n      <th></th>\n      <th></th>\n      <th></th>\n      <th></th>\n    </tr>\n  </thead>\n  <tbody>\n    <tr>\n      <th>2017-04-05 14:56:29</th>\n      <td>849636868052275200</td>\n      <td>And so the robots spared humanity ... https://...</td>\n      <td>robots spared humanity</td>\n      <td>0</td>\n    </tr>\n    <tr>\n      <th>2017-04-03 20:01:01</th>\n      <td>848988730585096192</td>\n      <td>@ForIn2020 @waltmossberg @mims @defcon_5 Exact...</td>\n      <td>@ForIn2020 @waltmossberg @mims @defcon_5 Exact...</td>\n      <td>1</td>\n    </tr>\n    <tr>\n      <th>2017-04-03 16:59:35</th>\n      <td>848943072423497728</td>\n      <td>@waltmossberg @mims @defcon_5 Et tu, Walt?</td>\n      <td>@waltmossberg @mims @defcon_5 Walt</td>\n      <td>0</td>\n    </tr>\n    <tr>\n      <th>2017-04-03 16:30:19</th>\n      <td>848935705057280001</td>\n      <td>Stormy weather in Shortville ...</td>\n      <td>Stormy weather Shortville</td>\n      <td>0</td>\n    </tr>\n    <tr>\n      <th>2017-04-02 06:05:23</th>\n      <td>848416049573658624</td>\n      <td>@DaveLeeBBC @verge Coal is dying due to nat ga...</td>\n      <td>@DaveLeeBBC @verge Coal dying fracking It's ba...</td>\n      <td>0</td>\n    </tr>\n    <tr>\n      <th>2017-04-02 06:04:07</th>\n      <td>848415731502923777</td>\n      <td>@Lexxxzis It's just a helicopter in helicopter...</td>\n      <td>@Lexxxzis It's just helicopter helicopter's cl...</td>\n      <td>0</td>\n    </tr>\n    <tr>\n      <th>2017-04-02 06:02:38</th>\n      <td>848415356263702528</td>\n      <td>@verge It won't matter</td>\n      <td>@verge won't matter</td>\n      <td>0</td>\n    </tr>\n    <tr>\n      <th>2017-04-02 04:57:31</th>\n      <td>848398971139629057</td>\n      <td>@SuperCoolCube Pretty good</td>\n      <td>@SuperCoolCube Pretty good</td>\n      <td>0</td>\n    </tr>\n    <tr>\n      <th>2017-04-01 18:44:01</th>\n      <td>848244577521647616</td>\n      <td>Why did we waste so much time developing silly...</td>\n      <td>waste much time developing silly rockets Damn ...</td>\n      <td>0</td>\n    </tr>\n    <tr>\n      <th>2017-04-01 18:39:09</th>\n      <td>848243350993895424</td>\n      <td>Technology breakthrough: turns out chemtrails ...</td>\n      <td>Technology breakthrough turns chemtrails actua...</td>\n      <td>0</td>\n    </tr>\n  </tbody>\n</table>\n</div>"
     },
     "execution_count": 55,
     "metadata": {},
     "output_type": "execute_result"
    }
   ],
   "source": [
    "df_elon.head(10)"
   ]
  },
  {
   "cell_type": "code",
   "execution_count": 12,
   "metadata": {},
   "outputs": [
    {
     "data": {
      "text/plain": "                      id           created_at  \\\n2814  142881284019060736  2011-12-03 08:22:07   \n2815  142880871391838208  2011-12-03 08:20:28   \n2816  142188458125963264  2011-12-01 10:29:04   \n2817  142179928203460608  2011-12-01 09:55:11   \n2818         15434727182  2010-06-04 18:31:57   \n\n                                                   text  \n2814                  That was a total non sequitur btw  \n2815  Great Voltaire quote, arguably better than Twa...  \n2816  I made the volume on the Model S http://t.co/w...  \n2817  Went to Iceland on Sat to ride bumper cars on ...  \n2818  Please ignore prior tweets, as that was someon...  ",
      "text/html": "<div>\n<style scoped>\n    .dataframe tbody tr th:only-of-type {\n        vertical-align: middle;\n    }\n\n    .dataframe tbody tr th {\n        vertical-align: top;\n    }\n\n    .dataframe thead th {\n        text-align: right;\n    }\n</style>\n<table border=\"1\" class=\"dataframe\">\n  <thead>\n    <tr style=\"text-align: right;\">\n      <th></th>\n      <th>id</th>\n      <th>created_at</th>\n      <th>text</th>\n    </tr>\n  </thead>\n  <tbody>\n    <tr>\n      <th>2814</th>\n      <td>142881284019060736</td>\n      <td>2011-12-03 08:22:07</td>\n      <td>That was a total non sequitur btw</td>\n    </tr>\n    <tr>\n      <th>2815</th>\n      <td>142880871391838208</td>\n      <td>2011-12-03 08:20:28</td>\n      <td>Great Voltaire quote, arguably better than Twa...</td>\n    </tr>\n    <tr>\n      <th>2816</th>\n      <td>142188458125963264</td>\n      <td>2011-12-01 10:29:04</td>\n      <td>I made the volume on the Model S http://t.co/w...</td>\n    </tr>\n    <tr>\n      <th>2817</th>\n      <td>142179928203460608</td>\n      <td>2011-12-01 09:55:11</td>\n      <td>Went to Iceland on Sat to ride bumper cars on ...</td>\n    </tr>\n    <tr>\n      <th>2818</th>\n      <td>15434727182</td>\n      <td>2010-06-04 18:31:57</td>\n      <td>Please ignore prior tweets, as that was someon...</td>\n    </tr>\n  </tbody>\n</table>\n</div>"
     },
     "execution_count": 12,
     "metadata": {},
     "output_type": "execute_result"
    }
   ],
   "source": [
    "df_elon.tail(5)"
   ]
  },
  {
   "cell_type": "code",
   "execution_count": 13,
   "metadata": {},
   "outputs": [
    {
     "data": {
      "text/plain": "(2819, 3)"
     },
     "execution_count": 13,
     "metadata": {},
     "output_type": "execute_result"
    }
   ],
   "source": [
    "df_elon.shape  # (number of rows, number of columns)"
   ]
  },
  {
   "cell_type": "code",
   "execution_count": 14,
   "metadata": {},
   "outputs": [
    {
     "name": "stdout",
     "output_type": "stream",
     "text": [
      "And so the robots spared humanity ... https://t.co/v7JUJQWfCv\n",
      "@ForIn2020 @waltmossberg @mims @defcon_5 Exactly. Tesla is absurdly overvalued if based on the past, but that's irr… https://t.co/qQcTqkzgMl\n",
      "@waltmossberg @mims @defcon_5 Et tu, Walt?\n",
      "Stormy weather in Shortville ...\n",
      "@DaveLeeBBC @verge Coal is dying due to nat gas fracking. It's basically dead.\n",
      "@Lexxxzis It's just a helicopter in helicopter's clothing\n",
      "@verge It won't matter\n",
      "@SuperCoolCube Pretty good\n",
      "Why did we waste so much time developing silly rockets? Damn you, aliens! So obtuse! You have all this crazy tech, but can't speak English!?\n",
      "Technology breakthrough: turns out chemtrails are actually a message from time-traveling aliens describing the secret of teleportation\n"
     ]
    }
   ],
   "source": [
    "tweets = df_elon[\"text\"]\n",
    "tweets_list = list(tweets)  # convert to Python list\n",
    "\n",
    "for tweet in tweets_list[:10]:\n",
    "    print(tweet)"
   ]
  },
  {
   "cell_type": "markdown",
   "metadata": {},
   "source": [
    "## Working with tweet contents"
   ]
  },
  {
   "cell_type": "code",
   "execution_count": 56,
   "metadata": {},
   "outputs": [],
   "source": [
    "# import some of the most popular libraries for NLP in Python\n",
    "import nltk\n",
    "import string\n",
    "#import sklearn # for machine learning"
   ]
  },
  {
   "cell_type": "markdown",
   "metadata": {},
   "source": [
    "> If it is the first time you run nltk, it could be that you have to download its materials first. You only have to do this once. The error tells you which package needs to be downloaded. "
   ]
  },
  {
   "cell_type": "code",
   "execution_count": 57,
   "metadata": {},
   "outputs": [],
   "source": [
    "# For instance, run this once:\n",
    "#nltk.download('sklearn')"
   ]
  },
  {
   "cell_type": "markdown",
   "metadata": {},
   "source": [
    "A typical NLP pipeline might look like the following:\n",
    "    \n",
    "<img src=\"images/spacy_pipeline.png\" width=\"600px\" heigth=\"600px\">\n",
    "\n",
    "* Tokenization: split a text into tokens.\n",
    "* Filtering: remove some of the tokens if not needed (e.g., punctuation). If and how to remove is task dependent.\n",
    "* Tagger, parser: syntactic structure.\n",
    "* NER (Named Entity Recognition): find named entities.\n",
    "* ...\n",
    "\n",
    "More on this can be found in the optional Notebook 8.\n"
   ]
  },
  {
   "cell_type": "markdown",
   "metadata": {},
   "source": [
    "### Tokenization revisited: splitting a text into constituent tokens.\n",
    "A tokenizer takes a string and outputs a list of tokens.\n",
    "\n",
    "NLTK provides us with a special tokenizer for Tweets:"
   ]
  },
  {
   "cell_type": "code",
   "execution_count": 58,
   "metadata": {},
   "outputs": [],
   "source": [
    "from nltk.tokenize import TweetTokenizer, word_tokenize\n",
    "\n",
    "tokenizer = TweetTokenizer(preserve_case=True, reduce_len=False, strip_handles=False)"
   ]
  },
  {
   "cell_type": "code",
   "execution_count": 18,
   "metadata": {},
   "outputs": [
    {
     "name": "stdout",
     "output_type": "stream",
     "text": [
      "@ForIn2020 @waltmossberg @mims @defcon_5 Exactly. Tesla is absurdly overvalued if based on the past, but that's irr… https://t.co/qQcTqkzgMl\n"
     ]
    }
   ],
   "source": [
    "example_tweet = df_elon.text[1]\n",
    "print(example_tweet)"
   ]
  },
  {
   "cell_type": "markdown",
   "metadata": {},
   "source": [
    "We compare here two tokenizers: one for general English texts, and one specialized for tweets."
   ]
  },
  {
   "cell_type": "code",
   "execution_count": 59,
   "metadata": {},
   "outputs": [
    {
     "name": "stdout",
     "output_type": "stream",
     "text": [
      "['@ForIn2020', '@waltmossberg', '@mims', '@defcon_5', 'Exactly', '.', 'Tesla', 'is', 'absurdly', 'overvalued', 'if', 'based', 'on', 'the', 'past', ',', 'but', \"that's\", 'irr', '…', 'https://t.co/qQcTqkzgMl']\n",
      "\n",
      "======\n",
      "\n",
      "['@', 'ForIn2020', '@', 'waltmossberg', '@', 'mims', '@', 'defcon_5', 'Exactly', '.', 'Tesla', 'is', 'absurdly', 'overvalued', 'if', 'based', 'on', 'the', 'past', ',', 'but', 'that', \"'s\", 'irr…', 'https', ':', '//t.co/qQcTqkzgMl']\n"
     ]
    }
   ],
   "source": [
    "# This one was defined above and is the 'TweetTokenizer'\n",
    "result1 = tokenizer.tokenize(example_tweet)\n",
    "print(result1)\n",
    "\n",
    "print(\"\\n======\\n\")\n",
    "\n",
    "# This is a 'normal' tokenizer\n",
    "result2 = word_tokenize(example_tweet)\n",
    "print(result2)"
   ]
  },
  {
   "cell_type": "markdown",
   "metadata": {},
   "source": [
    "**Question**: can you spot what the Twitter tokenizer is doing instead of a standard one?"
   ]
  },
  {
   "cell_type": "markdown",
   "metadata": {},
   "source": [
    "### Filtering unnecessary tokens"
   ]
  },
  {
   "cell_type": "code",
   "execution_count": null,
   "outputs": [],
   "source": [],
   "metadata": {
    "collapsed": false
   }
  },
  {
   "cell_type": "code",
   "execution_count": 20,
   "metadata": {},
   "outputs": [
    {
     "data": {
      "text/plain": "'!\"#$%&\\'()*+,-./:;<=>?@[\\\\]^_`{|}~'"
     },
     "execution_count": 20,
     "metadata": {},
     "output_type": "execute_result"
    }
   ],
   "source": [
    "string.punctuation"
   ]
  },
  {
   "cell_type": "code",
   "execution_count": 60,
   "metadata": {},
   "outputs": [],
   "source": [
    "# Some more pre-processing\n",
    "\n",
    "tokenizer = TweetTokenizer(preserve_case=True, reduce_len=False, strip_handles=False)\n",
    "\n",
    "def filter_tweet(tokens):\n",
    "    \"\"\"\n",
    "    Normalize a tweet's text by removing punctuation tokens and URls.\n",
    "    \n",
    "    Args:\n",
    "        tokens (list): List of tokens from a tokenizer\n",
    "        \n",
    "    Returns:\n",
    "        list: List of non-punctuation and URL tokens\n",
    "    \"\"\"\n",
    "    normalized = []\n",
    "    \n",
    "    for token in tokens:\n",
    "        if token in string.punctuation:\n",
    "            continue\n",
    "        elif len(token) <= 3:\n",
    "            continue\n",
    "        elif token.startswith(('http', 'www')):\n",
    "            continue\n",
    "        else:\n",
    "            normalized.append(token)\n",
    "  \n",
    "    return normalized\n",
    "\n",
    "def tokenize_tweet(tweet, tokenizer=tokenizer):\n",
    "    \n",
    "    # This gives a list of tokens\n",
    "    tokens = tokenizer.tokenize(tweet)\n",
    "    filtered_tokens = filter_tweet(tokens)\n",
    "    \n",
    "    # This returns it back to a string\n",
    "    normalized_tweet = \" \".join(filtered_tokens)\n",
    "    \n",
    "    return normalized_tweet"
   ]
  },
  {
   "cell_type": "code",
   "execution_count": 61,
   "metadata": {},
   "outputs": [
    {
     "name": "stdout",
     "output_type": "stream",
     "text": [
      "['@ForIn2020', '@waltmossberg', '@mims', '@defcon_5', 'Exactly', '.', 'Tesla', 'is', 'absurdly', 'overvalued', 'if', 'based', 'on', 'the', 'past', ',', 'but', \"that's\", 'irr', '…', 'https://t.co/qQcTqkzgMl']\n",
      "======\n",
      "['@ForIn2020', '@waltmossberg', '@mims', '@defcon_5', 'Exactly', 'Tesla', 'absurdly', 'overvalued', 'based', 'past', \"that's\"]\n"
     ]
    }
   ],
   "source": [
    "print(result1)  # recall from some cells above\n",
    "print(\"======\")\n",
    "print(filter_tweet(result1))  # the result of our normalization function"
   ]
  },
  {
   "cell_type": "markdown",
   "metadata": {},
   "source": [
    "Now, add a column with a normalized version of the `text` column. \n",
    "\n",
    "Let's call it `clean_text`. We get this by applying (using Pandas' `.apply()` method) our just written function on every value of the column."
   ]
  },
  {
   "cell_type": "code",
   "execution_count": null,
   "outputs": [],
   "source": [],
   "metadata": {
    "collapsed": false
   }
  },
  {
   "cell_type": "code",
   "execution_count": 23,
   "metadata": {},
   "outputs": [],
   "source": [
    "df_elon[\"clean_text\"] = df_elon[\"text\"].apply(tokenize_tweet)"
   ]
  },
  {
   "cell_type": "code",
   "execution_count": 24,
   "metadata": {},
   "outputs": [
    {
     "data": {
      "text/plain": "                   id           created_at  \\\n0  849636868052275200  2017-04-05 14:56:29   \n1  848988730585096192  2017-04-03 20:01:01   \n2  848943072423497728  2017-04-03 16:59:35   \n3  848935705057280001  2017-04-03 16:30:19   \n4  848416049573658624  2017-04-02 06:05:23   \n\n                                                text  \\\n0  And so the robots spared humanity ... https://...   \n1  @ForIn2020 @waltmossberg @mims @defcon_5 Exact...   \n2         @waltmossberg @mims @defcon_5 Et tu, Walt?   \n3                   Stormy weather in Shortville ...   \n4  @DaveLeeBBC @verge Coal is dying due to nat ga...   \n\n                                          clean_text  \n0                             robots spared humanity  \n1  @ForIn2020 @waltmossberg @mims @defcon_5 Exact...  \n2                 @waltmossberg @mims @defcon_5 Walt  \n3                          Stormy weather Shortville  \n4  @DaveLeeBBC @verge Coal dying fracking It's ba...  ",
      "text/html": "<div>\n<style scoped>\n    .dataframe tbody tr th:only-of-type {\n        vertical-align: middle;\n    }\n\n    .dataframe tbody tr th {\n        vertical-align: top;\n    }\n\n    .dataframe thead th {\n        text-align: right;\n    }\n</style>\n<table border=\"1\" class=\"dataframe\">\n  <thead>\n    <tr style=\"text-align: right;\">\n      <th></th>\n      <th>id</th>\n      <th>created_at</th>\n      <th>text</th>\n      <th>clean_text</th>\n    </tr>\n  </thead>\n  <tbody>\n    <tr>\n      <th>0</th>\n      <td>849636868052275200</td>\n      <td>2017-04-05 14:56:29</td>\n      <td>And so the robots spared humanity ... https://...</td>\n      <td>robots spared humanity</td>\n    </tr>\n    <tr>\n      <th>1</th>\n      <td>848988730585096192</td>\n      <td>2017-04-03 20:01:01</td>\n      <td>@ForIn2020 @waltmossberg @mims @defcon_5 Exact...</td>\n      <td>@ForIn2020 @waltmossberg @mims @defcon_5 Exact...</td>\n    </tr>\n    <tr>\n      <th>2</th>\n      <td>848943072423497728</td>\n      <td>2017-04-03 16:59:35</td>\n      <td>@waltmossberg @mims @defcon_5 Et tu, Walt?</td>\n      <td>@waltmossberg @mims @defcon_5 Walt</td>\n    </tr>\n    <tr>\n      <th>3</th>\n      <td>848935705057280001</td>\n      <td>2017-04-03 16:30:19</td>\n      <td>Stormy weather in Shortville ...</td>\n      <td>Stormy weather Shortville</td>\n    </tr>\n    <tr>\n      <th>4</th>\n      <td>848416049573658624</td>\n      <td>2017-04-02 06:05:23</td>\n      <td>@DaveLeeBBC @verge Coal is dying due to nat ga...</td>\n      <td>@DaveLeeBBC @verge Coal dying fracking It's ba...</td>\n    </tr>\n  </tbody>\n</table>\n</div>"
     },
     "execution_count": 24,
     "metadata": {},
     "output_type": "execute_result"
    }
   ],
   "source": [
    "df_elon.head(5)"
   ]
  },
  {
   "cell_type": "code",
   "execution_count": 25,
   "metadata": {},
   "outputs": [],
   "source": [
    "# Save cleaned up version to a file\n",
    "\n",
    "df_elon.to_csv(\"stuff/df_elon.csv\", index=False)"
   ]
  },
  {
   "cell_type": "markdown",
   "metadata": {},
   "source": [
    "### Counter revisited: Building a dictionary with token occurrences\n",
    "\n",
    "We want to build a dictionary of unique tokens, containing the number of times they appear in the corpus."
   ]
  },
  {
   "cell_type": "code",
   "execution_count": 26,
   "metadata": {},
   "outputs": [],
   "source": [
    "from collections import Counter\n",
    "\n",
    "all_tokens = []  # empty list\n",
    "\n",
    "for tweet in df_elon[\"clean_text\"]:\n",
    "    all_tokens += tweet.split()"
   ]
  },
  {
   "cell_type": "code",
   "execution_count": 27,
   "metadata": {},
   "outputs": [
    {
     "data": {
      "text/plain": "['robots',\n 'spared',\n 'humanity',\n '@ForIn2020',\n '@waltmossberg',\n '@mims',\n '@defcon_5',\n 'Exactly',\n 'Tesla',\n 'absurdly']"
     },
     "execution_count": 27,
     "metadata": {},
     "output_type": "execute_result"
    }
   ],
   "source": [
    "all_tokens[:10]"
   ]
  },
  {
   "cell_type": "code",
   "execution_count": 28,
   "metadata": {},
   "outputs": [],
   "source": [
    "counter = Counter(all_tokens)"
   ]
  },
  {
   "cell_type": "code",
   "execution_count": 29,
   "metadata": {},
   "outputs": [
    {
     "data": {
      "text/plain": "3"
     },
     "execution_count": 29,
     "metadata": {},
     "output_type": "execute_result"
    }
   ],
   "source": [
    "counter[\"robots\"]"
   ]
  },
  {
   "cell_type": "markdown",
   "metadata": {},
   "source": [
    "#### Quiz\n",
    "\n",
    "* Find the tokens most used by Elon.\n",
    "* Find the Twitter users most referred to by Elon (hint: use the @ handler to spot them)."
   ]
  },
  {
   "cell_type": "code",
   "execution_count": 64,
   "metadata": {},
   "outputs": [
    {
     "name": "stdout",
     "output_type": "stream",
     "text": [
      "['Tesla', 'Tesla', 'Tesla', 'Tesla', 'Tesla', 'Tesla', 'Tesla', 'Tesla', 'Tesla', 'Tesla']\n"
     ]
    }
   ],
   "source": [
    "# Finding the most common tokens used by Elon from the cleaned up version\n",
    "def Most_Common(lst):\n",
    "    data = Counter(lst)\n",
    "    return data.most_common(1)[0][0]\n",
    "#Making a list of the most common tokens\n",
    "most_common_tokens = []\n",
    "for i in range(0, 10):\n",
    "    most_common_tokens.append(Most_Common(all_tokens))\n",
    "    all_tokens.remove(Most_Common(all_tokens))\n",
    "#Printing the list of the most common tokens\n",
    "print(most_common_tokens)\n"
   ]
  },
  {
   "cell_type": "code",
   "execution_count": 65,
   "metadata": {},
   "outputs": [
    {
     "name": "stdout",
     "output_type": "stream",
     "text": [
      "['Tesla', 'Tesla', 'Tesla', 'Tesla', 'Tesla', 'Tesla', 'Tesla', 'Tesla', 'Tesla', 'Tesla']\n"
     ]
    }
   ],
   "source": [
    "# Finding the most common Twitter users referred to by Elon with the @ handler\n",
    "def mostTagged(lst):\n",
    "    data = Counter(lst)\n",
    "    return data.most_common(1)[0][0]\n",
    "#Making a list of the most common Twitter users referred to by Elon\n",
    "most_common_tags = []\n",
    "for i in range(0, 10):\n",
    "    most_common_tags.append(mostTagged(all_tokens))\n",
    "    all_tokens.remove(mostTagged(all_tokens))\n",
    "#Printing the list of the most common Twitter users referred to by Elon\n",
    "print(most_common_tags)"
   ]
  },
  {
   "cell_type": "markdown",
   "metadata": {},
   "source": [
    "---"
   ]
  },
  {
   "cell_type": "markdown",
   "metadata": {},
   "source": [
    "## Data visualization\n",
    "\n",
    "The `pandas` methods provide integration with the plotting functionalities provided by the `matplotlib` library, as we already saw last week.\n",
    "\n",
    "This seamless integration – which is very nice! – hides away from users some of the complexities of `matplotlib`.\n",
    "\n",
    "However, as there cases where advanced customizations are needed, it's useful to learn the high-level plotting functionalities of `pandas` or `seaborn` as well as being aware of how to perform more advanced customizations by means of `matplotlib`.\n",
    "\n",
    "Very useful [`matplotlib` cheatsheet](https://s3.amazonaws.com/assets.datacamp.com/blog_assets/Python_Matplotlib_Cheat_Sheet.pdf).\n",
    "\n",
    "And more information on `Seaborn` here: https://seaborn.pydata.org/"
   ]
  },
  {
   "cell_type": "code",
   "execution_count": 30,
   "metadata": {},
   "outputs": [],
   "source": [
    "import numpy as np\n",
    "import matplotlib.pyplot as plt"
   ]
  },
  {
   "cell_type": "code",
   "execution_count": 31,
   "metadata": {},
   "outputs": [],
   "source": [
    "import seaborn as sns\n",
    "\n",
    "# Use seaborn style defaults and set the default figure size\n",
    "sns.set(rc={'figure.figsize':(11, 5)})"
   ]
  },
  {
   "cell_type": "markdown",
   "metadata": {},
   "source": [
    "Let's plot the number of tweets mentioning one of the top 10 tokens over time."
   ]
  },
  {
   "cell_type": "code",
   "execution_count": 32,
   "metadata": {},
   "outputs": [
    {
     "data": {
      "text/plain": "                   id           created_at  \\\n0  849636868052275200  2017-04-05 14:56:29   \n1  848988730585096192  2017-04-03 20:01:01   \n2  848943072423497728  2017-04-03 16:59:35   \n3  848935705057280001  2017-04-03 16:30:19   \n4  848416049573658624  2017-04-02 06:05:23   \n\n                                                text  \\\n0  And so the robots spared humanity ... https://...   \n1  @ForIn2020 @waltmossberg @mims @defcon_5 Exact...   \n2         @waltmossberg @mims @defcon_5 Et tu, Walt?   \n3                   Stormy weather in Shortville ...   \n4  @DaveLeeBBC @verge Coal is dying due to nat ga...   \n\n                                          clean_text  \n0                             robots spared humanity  \n1  @ForIn2020 @waltmossberg @mims @defcon_5 Exact...  \n2                 @waltmossberg @mims @defcon_5 Walt  \n3                          Stormy weather Shortville  \n4  @DaveLeeBBC @verge Coal dying fracking It's ba...  ",
      "text/html": "<div>\n<style scoped>\n    .dataframe tbody tr th:only-of-type {\n        vertical-align: middle;\n    }\n\n    .dataframe tbody tr th {\n        vertical-align: top;\n    }\n\n    .dataframe thead th {\n        text-align: right;\n    }\n</style>\n<table border=\"1\" class=\"dataframe\">\n  <thead>\n    <tr style=\"text-align: right;\">\n      <th></th>\n      <th>id</th>\n      <th>created_at</th>\n      <th>text</th>\n      <th>clean_text</th>\n    </tr>\n  </thead>\n  <tbody>\n    <tr>\n      <th>0</th>\n      <td>849636868052275200</td>\n      <td>2017-04-05 14:56:29</td>\n      <td>And so the robots spared humanity ... https://...</td>\n      <td>robots spared humanity</td>\n    </tr>\n    <tr>\n      <th>1</th>\n      <td>848988730585096192</td>\n      <td>2017-04-03 20:01:01</td>\n      <td>@ForIn2020 @waltmossberg @mims @defcon_5 Exact...</td>\n      <td>@ForIn2020 @waltmossberg @mims @defcon_5 Exact...</td>\n    </tr>\n    <tr>\n      <th>2</th>\n      <td>848943072423497728</td>\n      <td>2017-04-03 16:59:35</td>\n      <td>@waltmossberg @mims @defcon_5 Et tu, Walt?</td>\n      <td>@waltmossberg @mims @defcon_5 Walt</td>\n    </tr>\n    <tr>\n      <th>3</th>\n      <td>848935705057280001</td>\n      <td>2017-04-03 16:30:19</td>\n      <td>Stormy weather in Shortville ...</td>\n      <td>Stormy weather Shortville</td>\n    </tr>\n    <tr>\n      <th>4</th>\n      <td>848416049573658624</td>\n      <td>2017-04-02 06:05:23</td>\n      <td>@DaveLeeBBC @verge Coal is dying due to nat ga...</td>\n      <td>@DaveLeeBBC @verge Coal dying fracking It's ba...</td>\n    </tr>\n  </tbody>\n</table>\n</div>"
     },
     "execution_count": 32,
     "metadata": {},
     "output_type": "execute_result"
    }
   ],
   "source": [
    "df_elon.head(5)"
   ]
  },
  {
   "cell_type": "markdown",
   "metadata": {},
   "source": [
    "Right now, the `created_at` column is of type string. Let's convert it to a datetime datatype that can be interpreted as object by Pandas and Python. \n"
   ]
  },
  {
   "cell_type": "code",
   "execution_count": 33,
   "metadata": {},
   "outputs": [],
   "source": [
    "# Convert the created_at column to datetime\n",
    "\n",
    "df_elon['created_at'] = pd.to_datetime(df_elon['created_at'])"
   ]
  },
  {
   "cell_type": "code",
   "execution_count": 40,
   "metadata": {},
   "outputs": [
    {
     "data": {
      "text/plain": "                   id          created_at  \\\n0  849636868052275200 2017-04-05 14:56:29   \n1  848988730585096192 2017-04-03 20:01:01   \n2  848943072423497728 2017-04-03 16:59:35   \n3  848935705057280001 2017-04-03 16:30:19   \n4  848416049573658624 2017-04-02 06:05:23   \n\n                                                text  \\\n0  And so the robots spared humanity ... https://...   \n1  @ForIn2020 @waltmossberg @mims @defcon_5 Exact...   \n2         @waltmossberg @mims @defcon_5 Et tu, Walt?   \n3                   Stormy weather in Shortville ...   \n4  @DaveLeeBBC @verge Coal is dying due to nat ga...   \n\n                                          clean_text  tesla_in_tweet  \n0                             robots spared humanity               0  \n1  @ForIn2020 @waltmossberg @mims @defcon_5 Exact...               1  \n2                 @waltmossberg @mims @defcon_5 Walt               0  \n3                          Stormy weather Shortville               0  \n4  @DaveLeeBBC @verge Coal dying fracking It's ba...               0  ",
      "text/html": "<div>\n<style scoped>\n    .dataframe tbody tr th:only-of-type {\n        vertical-align: middle;\n    }\n\n    .dataframe tbody tr th {\n        vertical-align: top;\n    }\n\n    .dataframe thead th {\n        text-align: right;\n    }\n</style>\n<table border=\"1\" class=\"dataframe\">\n  <thead>\n    <tr style=\"text-align: right;\">\n      <th></th>\n      <th>id</th>\n      <th>created_at</th>\n      <th>text</th>\n      <th>clean_text</th>\n      <th>tesla_in_tweet</th>\n    </tr>\n  </thead>\n  <tbody>\n    <tr>\n      <th>0</th>\n      <td>849636868052275200</td>\n      <td>2017-04-05 14:56:29</td>\n      <td>And so the robots spared humanity ... https://...</td>\n      <td>robots spared humanity</td>\n      <td>0</td>\n    </tr>\n    <tr>\n      <th>1</th>\n      <td>848988730585096192</td>\n      <td>2017-04-03 20:01:01</td>\n      <td>@ForIn2020 @waltmossberg @mims @defcon_5 Exact...</td>\n      <td>@ForIn2020 @waltmossberg @mims @defcon_5 Exact...</td>\n      <td>1</td>\n    </tr>\n    <tr>\n      <th>2</th>\n      <td>848943072423497728</td>\n      <td>2017-04-03 16:59:35</td>\n      <td>@waltmossberg @mims @defcon_5 Et tu, Walt?</td>\n      <td>@waltmossberg @mims @defcon_5 Walt</td>\n      <td>0</td>\n    </tr>\n    <tr>\n      <th>3</th>\n      <td>848935705057280001</td>\n      <td>2017-04-03 16:30:19</td>\n      <td>Stormy weather in Shortville ...</td>\n      <td>Stormy weather Shortville</td>\n      <td>0</td>\n    </tr>\n    <tr>\n      <th>4</th>\n      <td>848416049573658624</td>\n      <td>2017-04-02 06:05:23</td>\n      <td>@DaveLeeBBC @verge Coal is dying due to nat ga...</td>\n      <td>@DaveLeeBBC @verge Coal dying fracking It's ba...</td>\n      <td>0</td>\n    </tr>\n  </tbody>\n</table>\n</div>"
     },
     "execution_count": 40,
     "metadata": {},
     "output_type": "execute_result"
    }
   ],
   "source": [
    "df_elon.head(5)"
   ]
  },
  {
   "cell_type": "markdown",
   "metadata": {},
   "source": [
    "Visually, nothing has changed. But, since the element in the `created_at` column is now a datetime object, we can ask for separate bits of this datetimestamp, such as the year only:"
   ]
  },
  {
   "cell_type": "code",
   "execution_count": 29,
   "metadata": {},
   "outputs": [],
   "source": [
    "# Make a new column with only the year\n",
    "\n",
    "df_elon[\"year\"] = df_elon['created_at'].dt.year"
   ]
  },
  {
   "cell_type": "code",
   "execution_count": 30,
   "metadata": {},
   "outputs": [
    {
     "data": {
      "text/html": [
       "<div>\n",
       "<style scoped>\n",
       "    .dataframe tbody tr th:only-of-type {\n",
       "        vertical-align: middle;\n",
       "    }\n",
       "\n",
       "    .dataframe tbody tr th {\n",
       "        vertical-align: top;\n",
       "    }\n",
       "\n",
       "    .dataframe thead th {\n",
       "        text-align: right;\n",
       "    }\n",
       "</style>\n",
       "<table border=\"1\" class=\"dataframe\">\n",
       "  <thead>\n",
       "    <tr style=\"text-align: right;\">\n",
       "      <th></th>\n",
       "      <th>id</th>\n",
       "      <th>created_at</th>\n",
       "      <th>text</th>\n",
       "      <th>clean_text</th>\n",
       "      <th>year</th>\n",
       "    </tr>\n",
       "  </thead>\n",
       "  <tbody>\n",
       "    <tr>\n",
       "      <th>0</th>\n",
       "      <td>849636868052275200</td>\n",
       "      <td>2017-04-05 14:56:29</td>\n",
       "      <td>And so the robots spared humanity ... https://...</td>\n",
       "      <td>robots spared humanity</td>\n",
       "      <td>2017</td>\n",
       "    </tr>\n",
       "    <tr>\n",
       "      <th>1</th>\n",
       "      <td>848988730585096192</td>\n",
       "      <td>2017-04-03 20:01:01</td>\n",
       "      <td>@ForIn2020 @waltmossberg @mims @defcon_5 Exact...</td>\n",
       "      <td>@ForIn2020 @waltmossberg @mims @defcon_5 Exact...</td>\n",
       "      <td>2017</td>\n",
       "    </tr>\n",
       "    <tr>\n",
       "      <th>2</th>\n",
       "      <td>848943072423497728</td>\n",
       "      <td>2017-04-03 16:59:35</td>\n",
       "      <td>@waltmossberg @mims @defcon_5 Et tu, Walt?</td>\n",
       "      <td>@waltmossberg @mims @defcon_5 Walt</td>\n",
       "      <td>2017</td>\n",
       "    </tr>\n",
       "    <tr>\n",
       "      <th>3</th>\n",
       "      <td>848935705057280001</td>\n",
       "      <td>2017-04-03 16:30:19</td>\n",
       "      <td>Stormy weather in Shortville ...</td>\n",
       "      <td>Stormy weather Shortville</td>\n",
       "      <td>2017</td>\n",
       "    </tr>\n",
       "    <tr>\n",
       "      <th>4</th>\n",
       "      <td>848416049573658624</td>\n",
       "      <td>2017-04-02 06:05:23</td>\n",
       "      <td>@DaveLeeBBC @verge Coal is dying due to nat ga...</td>\n",
       "      <td>@DaveLeeBBC @verge Coal dying fracking It's ba...</td>\n",
       "      <td>2017</td>\n",
       "    </tr>\n",
       "  </tbody>\n",
       "</table>\n",
       "</div>"
      ],
      "text/plain": [
       "                   id          created_at  \\\n",
       "0  849636868052275200 2017-04-05 14:56:29   \n",
       "1  848988730585096192 2017-04-03 20:01:01   \n",
       "2  848943072423497728 2017-04-03 16:59:35   \n",
       "3  848935705057280001 2017-04-03 16:30:19   \n",
       "4  848416049573658624 2017-04-02 06:05:23   \n",
       "\n",
       "                                                text  \\\n",
       "0  And so the robots spared humanity ... https://...   \n",
       "1  @ForIn2020 @waltmossberg @mims @defcon_5 Exact...   \n",
       "2         @waltmossberg @mims @defcon_5 Et tu, Walt?   \n",
       "3                   Stormy weather in Shortville ...   \n",
       "4  @DaveLeeBBC @verge Coal is dying due to nat ga...   \n",
       "\n",
       "                                          clean_text  year  \n",
       "0                             robots spared humanity  2017  \n",
       "1  @ForIn2020 @waltmossberg @mims @defcon_5 Exact...  2017  \n",
       "2                 @waltmossberg @mims @defcon_5 Walt  2017  \n",
       "3                          Stormy weather Shortville  2017  \n",
       "4  @DaveLeeBBC @verge Coal dying fracking It's ba...  2017  "
      ]
     },
     "execution_count": 30,
     "metadata": {},
     "output_type": "execute_result"
    }
   ],
   "source": [
    "df_elon.head()"
   ]
  },
  {
   "cell_type": "markdown",
   "metadata": {},
   "source": [
    "Now, make another column that either contains the frequency of the token 'Tesla' in the tweet. "
   ]
  },
  {
   "cell_type": "markdown",
   "metadata": {},
   "source": [
    "You can do this by using pure Python:"
   ]
  },
  {
   "cell_type": "code",
   "execution_count": 41,
   "metadata": {},
   "outputs": [],
   "source": [
    "tesla_in_tweet = []\n",
    "\n",
    "for tweet in df_elon['clean_text']:\n",
    "    tesla_in_tweet.append(tweet.count('Tesla'))\n",
    "        \n",
    "df_elon['tesla_in_tweet'] = tesla_in_tweet"
   ]
  },
  {
   "cell_type": "markdown",
   "metadata": {},
   "source": [
    "... and the variant with a list comprehension:"
   ]
  },
  {
   "cell_type": "code",
   "execution_count": 42,
   "metadata": {},
   "outputs": [],
   "source": [
    "tesla_in_tweet = [tweet.count('Tesla') for tweet in df_elon['clean_text']]\n",
    "df_elon['tesla_in_tweet'] = tesla_in_tweet"
   ]
  },
  {
   "cell_type": "markdown",
   "metadata": {},
   "source": [
    "Or, by using a built-in Pandas method:"
   ]
  },
  {
   "cell_type": "code",
   "execution_count": 43,
   "metadata": {},
   "outputs": [],
   "source": [
    "df_elon['tesla_in_tweet'] = df_elon['clean_text'].str.count('Tesla')"
   ]
  },
  {
   "cell_type": "markdown",
   "metadata": {},
   "source": [
    "The result is yet an extra column:"
   ]
  },
  {
   "cell_type": "code",
   "execution_count": 44,
   "metadata": {},
   "outputs": [
    {
     "data": {
      "text/plain": "                   id          created_at  \\\n0  849636868052275200 2017-04-05 14:56:29   \n1  848988730585096192 2017-04-03 20:01:01   \n2  848943072423497728 2017-04-03 16:59:35   \n3  848935705057280001 2017-04-03 16:30:19   \n4  848416049573658624 2017-04-02 06:05:23   \n\n                                                text  \\\n0  And so the robots spared humanity ... https://...   \n1  @ForIn2020 @waltmossberg @mims @defcon_5 Exact...   \n2         @waltmossberg @mims @defcon_5 Et tu, Walt?   \n3                   Stormy weather in Shortville ...   \n4  @DaveLeeBBC @verge Coal is dying due to nat ga...   \n\n                                          clean_text  tesla_in_tweet  \n0                             robots spared humanity               0  \n1  @ForIn2020 @waltmossberg @mims @defcon_5 Exact...               1  \n2                 @waltmossberg @mims @defcon_5 Walt               0  \n3                          Stormy weather Shortville               0  \n4  @DaveLeeBBC @verge Coal dying fracking It's ba...               0  ",
      "text/html": "<div>\n<style scoped>\n    .dataframe tbody tr th:only-of-type {\n        vertical-align: middle;\n    }\n\n    .dataframe tbody tr th {\n        vertical-align: top;\n    }\n\n    .dataframe thead th {\n        text-align: right;\n    }\n</style>\n<table border=\"1\" class=\"dataframe\">\n  <thead>\n    <tr style=\"text-align: right;\">\n      <th></th>\n      <th>id</th>\n      <th>created_at</th>\n      <th>text</th>\n      <th>clean_text</th>\n      <th>tesla_in_tweet</th>\n    </tr>\n  </thead>\n  <tbody>\n    <tr>\n      <th>0</th>\n      <td>849636868052275200</td>\n      <td>2017-04-05 14:56:29</td>\n      <td>And so the robots spared humanity ... https://...</td>\n      <td>robots spared humanity</td>\n      <td>0</td>\n    </tr>\n    <tr>\n      <th>1</th>\n      <td>848988730585096192</td>\n      <td>2017-04-03 20:01:01</td>\n      <td>@ForIn2020 @waltmossberg @mims @defcon_5 Exact...</td>\n      <td>@ForIn2020 @waltmossberg @mims @defcon_5 Exact...</td>\n      <td>1</td>\n    </tr>\n    <tr>\n      <th>2</th>\n      <td>848943072423497728</td>\n      <td>2017-04-03 16:59:35</td>\n      <td>@waltmossberg @mims @defcon_5 Et tu, Walt?</td>\n      <td>@waltmossberg @mims @defcon_5 Walt</td>\n      <td>0</td>\n    </tr>\n    <tr>\n      <th>3</th>\n      <td>848935705057280001</td>\n      <td>2017-04-03 16:30:19</td>\n      <td>Stormy weather in Shortville ...</td>\n      <td>Stormy weather Shortville</td>\n      <td>0</td>\n    </tr>\n    <tr>\n      <th>4</th>\n      <td>848416049573658624</td>\n      <td>2017-04-02 06:05:23</td>\n      <td>@DaveLeeBBC @verge Coal is dying due to nat ga...</td>\n      <td>@DaveLeeBBC @verge Coal dying fracking It's ba...</td>\n      <td>0</td>\n    </tr>\n  </tbody>\n</table>\n</div>"
     },
     "execution_count": 44,
     "metadata": {},
     "output_type": "execute_result"
    }
   ],
   "source": [
    "df_elon.head(5)"
   ]
  },
  {
   "cell_type": "markdown",
   "metadata": {},
   "source": [
    "Then, let's plot this as a bar plot. What we do:\n",
    "1. Group everything by the value in the 'year' column\n",
    "2. Select only the 'tesla_in_tweet' column\n",
    "3. Sum the values (this is done per group [=per year])\n",
    "\n",
    "Inspect the result\n",
    "\n",
    "4. Call `.plot(kind='bar')` on the Series.\n",
    "\n",
    "What is returned is automatically displayed by Jupyter notebooks"
   ]
  },
  {
   "cell_type": "code",
   "execution_count": 47,
   "metadata": {},
   "outputs": [
    {
     "ename": "KeyError",
     "evalue": "'year'",
     "output_type": "error",
     "traceback": [
      "\u001B[0;31m---------------------------------------------------------------------------\u001B[0m",
      "\u001B[0;31mKeyError\u001B[0m                                  Traceback (most recent call last)",
      "Cell \u001B[0;32mIn[47], line 1\u001B[0m\n\u001B[0;32m----> 1\u001B[0m tesla_per_year \u001B[38;5;241m=\u001B[39m \u001B[43mdf_elon\u001B[49m\u001B[38;5;241;43m.\u001B[39;49m\u001B[43mgroupby\u001B[49m\u001B[43m(\u001B[49m\u001B[38;5;124;43m'\u001B[39;49m\u001B[38;5;124;43myear\u001B[39;49m\u001B[38;5;124;43m'\u001B[39;49m\u001B[43m)\u001B[49m[\u001B[38;5;124m'\u001B[39m\u001B[38;5;124mtesla_in_tweet\u001B[39m\u001B[38;5;124m'\u001B[39m]\u001B[38;5;241m.\u001B[39msum()\n\u001B[1;32m      2\u001B[0m tesla_per_year\n",
      "File \u001B[0;32m~/Desktop/Uni/Development/georges-2023-coding-the-humanities/venv/lib/python3.10/site-packages/pandas/core/frame.py:8402\u001B[0m, in \u001B[0;36mDataFrame.groupby\u001B[0;34m(self, by, axis, level, as_index, sort, group_keys, squeeze, observed, dropna)\u001B[0m\n\u001B[1;32m   8399\u001B[0m     \u001B[38;5;28;01mraise\u001B[39;00m \u001B[38;5;167;01mTypeError\u001B[39;00m(\u001B[38;5;124m\"\u001B[39m\u001B[38;5;124mYou have to supply one of \u001B[39m\u001B[38;5;124m'\u001B[39m\u001B[38;5;124mby\u001B[39m\u001B[38;5;124m'\u001B[39m\u001B[38;5;124m and \u001B[39m\u001B[38;5;124m'\u001B[39m\u001B[38;5;124mlevel\u001B[39m\u001B[38;5;124m'\u001B[39m\u001B[38;5;124m\"\u001B[39m)\n\u001B[1;32m   8400\u001B[0m axis \u001B[38;5;241m=\u001B[39m \u001B[38;5;28mself\u001B[39m\u001B[38;5;241m.\u001B[39m_get_axis_number(axis)\n\u001B[0;32m-> 8402\u001B[0m \u001B[38;5;28;01mreturn\u001B[39;00m \u001B[43mDataFrameGroupBy\u001B[49m\u001B[43m(\u001B[49m\n\u001B[1;32m   8403\u001B[0m \u001B[43m    \u001B[49m\u001B[43mobj\u001B[49m\u001B[38;5;241;43m=\u001B[39;49m\u001B[38;5;28;43mself\u001B[39;49m\u001B[43m,\u001B[49m\n\u001B[1;32m   8404\u001B[0m \u001B[43m    \u001B[49m\u001B[43mkeys\u001B[49m\u001B[38;5;241;43m=\u001B[39;49m\u001B[43mby\u001B[49m\u001B[43m,\u001B[49m\n\u001B[1;32m   8405\u001B[0m \u001B[43m    \u001B[49m\u001B[43maxis\u001B[49m\u001B[38;5;241;43m=\u001B[39;49m\u001B[43maxis\u001B[49m\u001B[43m,\u001B[49m\n\u001B[1;32m   8406\u001B[0m \u001B[43m    \u001B[49m\u001B[43mlevel\u001B[49m\u001B[38;5;241;43m=\u001B[39;49m\u001B[43mlevel\u001B[49m\u001B[43m,\u001B[49m\n\u001B[1;32m   8407\u001B[0m \u001B[43m    \u001B[49m\u001B[43mas_index\u001B[49m\u001B[38;5;241;43m=\u001B[39;49m\u001B[43mas_index\u001B[49m\u001B[43m,\u001B[49m\n\u001B[1;32m   8408\u001B[0m \u001B[43m    \u001B[49m\u001B[43msort\u001B[49m\u001B[38;5;241;43m=\u001B[39;49m\u001B[43msort\u001B[49m\u001B[43m,\u001B[49m\n\u001B[1;32m   8409\u001B[0m \u001B[43m    \u001B[49m\u001B[43mgroup_keys\u001B[49m\u001B[38;5;241;43m=\u001B[39;49m\u001B[43mgroup_keys\u001B[49m\u001B[43m,\u001B[49m\n\u001B[1;32m   8410\u001B[0m \u001B[43m    \u001B[49m\u001B[43msqueeze\u001B[49m\u001B[38;5;241;43m=\u001B[39;49m\u001B[43msqueeze\u001B[49m\u001B[43m,\u001B[49m\n\u001B[1;32m   8411\u001B[0m \u001B[43m    \u001B[49m\u001B[43mobserved\u001B[49m\u001B[38;5;241;43m=\u001B[39;49m\u001B[43mobserved\u001B[49m\u001B[43m,\u001B[49m\n\u001B[1;32m   8412\u001B[0m \u001B[43m    \u001B[49m\u001B[43mdropna\u001B[49m\u001B[38;5;241;43m=\u001B[39;49m\u001B[43mdropna\u001B[49m\u001B[43m,\u001B[49m\n\u001B[1;32m   8413\u001B[0m \u001B[43m\u001B[49m\u001B[43m)\u001B[49m\n",
      "File \u001B[0;32m~/Desktop/Uni/Development/georges-2023-coding-the-humanities/venv/lib/python3.10/site-packages/pandas/core/groupby/groupby.py:965\u001B[0m, in \u001B[0;36mGroupBy.__init__\u001B[0;34m(self, obj, keys, axis, level, grouper, exclusions, selection, as_index, sort, group_keys, squeeze, observed, mutated, dropna)\u001B[0m\n\u001B[1;32m    962\u001B[0m \u001B[38;5;28;01mif\u001B[39;00m grouper \u001B[38;5;129;01mis\u001B[39;00m \u001B[38;5;28;01mNone\u001B[39;00m:\n\u001B[1;32m    963\u001B[0m     \u001B[38;5;28;01mfrom\u001B[39;00m \u001B[38;5;21;01mpandas\u001B[39;00m\u001B[38;5;21;01m.\u001B[39;00m\u001B[38;5;21;01mcore\u001B[39;00m\u001B[38;5;21;01m.\u001B[39;00m\u001B[38;5;21;01mgroupby\u001B[39;00m\u001B[38;5;21;01m.\u001B[39;00m\u001B[38;5;21;01mgrouper\u001B[39;00m \u001B[38;5;28;01mimport\u001B[39;00m get_grouper\n\u001B[0;32m--> 965\u001B[0m     grouper, exclusions, obj \u001B[38;5;241m=\u001B[39m \u001B[43mget_grouper\u001B[49m\u001B[43m(\u001B[49m\n\u001B[1;32m    966\u001B[0m \u001B[43m        \u001B[49m\u001B[43mobj\u001B[49m\u001B[43m,\u001B[49m\n\u001B[1;32m    967\u001B[0m \u001B[43m        \u001B[49m\u001B[43mkeys\u001B[49m\u001B[43m,\u001B[49m\n\u001B[1;32m    968\u001B[0m \u001B[43m        \u001B[49m\u001B[43maxis\u001B[49m\u001B[38;5;241;43m=\u001B[39;49m\u001B[43maxis\u001B[49m\u001B[43m,\u001B[49m\n\u001B[1;32m    969\u001B[0m \u001B[43m        \u001B[49m\u001B[43mlevel\u001B[49m\u001B[38;5;241;43m=\u001B[39;49m\u001B[43mlevel\u001B[49m\u001B[43m,\u001B[49m\n\u001B[1;32m    970\u001B[0m \u001B[43m        \u001B[49m\u001B[43msort\u001B[49m\u001B[38;5;241;43m=\u001B[39;49m\u001B[43msort\u001B[49m\u001B[43m,\u001B[49m\n\u001B[1;32m    971\u001B[0m \u001B[43m        \u001B[49m\u001B[43mobserved\u001B[49m\u001B[38;5;241;43m=\u001B[39;49m\u001B[43mobserved\u001B[49m\u001B[43m,\u001B[49m\n\u001B[1;32m    972\u001B[0m \u001B[43m        \u001B[49m\u001B[43mmutated\u001B[49m\u001B[38;5;241;43m=\u001B[39;49m\u001B[38;5;28;43mself\u001B[39;49m\u001B[38;5;241;43m.\u001B[39;49m\u001B[43mmutated\u001B[49m\u001B[43m,\u001B[49m\n\u001B[1;32m    973\u001B[0m \u001B[43m        \u001B[49m\u001B[43mdropna\u001B[49m\u001B[38;5;241;43m=\u001B[39;49m\u001B[38;5;28;43mself\u001B[39;49m\u001B[38;5;241;43m.\u001B[39;49m\u001B[43mdropna\u001B[49m\u001B[43m,\u001B[49m\n\u001B[1;32m    974\u001B[0m \u001B[43m    \u001B[49m\u001B[43m)\u001B[49m\n\u001B[1;32m    976\u001B[0m \u001B[38;5;28mself\u001B[39m\u001B[38;5;241m.\u001B[39mobj \u001B[38;5;241m=\u001B[39m obj\n\u001B[1;32m    977\u001B[0m \u001B[38;5;28mself\u001B[39m\u001B[38;5;241m.\u001B[39maxis \u001B[38;5;241m=\u001B[39m obj\u001B[38;5;241m.\u001B[39m_get_axis_number(axis)\n",
      "File \u001B[0;32m~/Desktop/Uni/Development/georges-2023-coding-the-humanities/venv/lib/python3.10/site-packages/pandas/core/groupby/grouper.py:888\u001B[0m, in \u001B[0;36mget_grouper\u001B[0;34m(obj, key, axis, level, sort, observed, mutated, validate, dropna)\u001B[0m\n\u001B[1;32m    886\u001B[0m         in_axis, level, gpr \u001B[38;5;241m=\u001B[39m \u001B[38;5;28;01mFalse\u001B[39;00m, gpr, \u001B[38;5;28;01mNone\u001B[39;00m\n\u001B[1;32m    887\u001B[0m     \u001B[38;5;28;01melse\u001B[39;00m:\n\u001B[0;32m--> 888\u001B[0m         \u001B[38;5;28;01mraise\u001B[39;00m \u001B[38;5;167;01mKeyError\u001B[39;00m(gpr)\n\u001B[1;32m    889\u001B[0m \u001B[38;5;28;01melif\u001B[39;00m \u001B[38;5;28misinstance\u001B[39m(gpr, Grouper) \u001B[38;5;129;01mand\u001B[39;00m gpr\u001B[38;5;241m.\u001B[39mkey \u001B[38;5;129;01mis\u001B[39;00m \u001B[38;5;129;01mnot\u001B[39;00m \u001B[38;5;28;01mNone\u001B[39;00m:\n\u001B[1;32m    890\u001B[0m     \u001B[38;5;66;03m# Add key to exclusions\u001B[39;00m\n\u001B[1;32m    891\u001B[0m     exclusions\u001B[38;5;241m.\u001B[39madd(gpr\u001B[38;5;241m.\u001B[39mkey)\n",
      "\u001B[0;31mKeyError\u001B[0m: 'year'"
     ]
    }
   ],
   "source": [
    "tesla_per_year = df_elon.groupby('year')['tesla_in_tweet'].sum()\n",
    "tesla_per_year"
   ]
  },
  {
   "cell_type": "code",
   "execution_count": 46,
   "metadata": {},
   "outputs": [
    {
     "ename": "NameError",
     "evalue": "name 'tesla_per_year' is not defined",
     "output_type": "error",
     "traceback": [
      "\u001B[0;31m---------------------------------------------------------------------------\u001B[0m",
      "\u001B[0;31mNameError\u001B[0m                                 Traceback (most recent call last)",
      "Cell \u001B[0;32mIn[46], line 1\u001B[0m\n\u001B[0;32m----> 1\u001B[0m \u001B[43mtesla_per_year\u001B[49m\u001B[38;5;241m.\u001B[39mplot(kind\u001B[38;5;241m=\u001B[39m\u001B[38;5;124m'\u001B[39m\u001B[38;5;124mbar\u001B[39m\u001B[38;5;124m'\u001B[39m)\n",
      "\u001B[0;31mNameError\u001B[0m: name 'tesla_per_year' is not defined"
     ]
    }
   ],
   "source": [
    "tesla_per_year.plot(kind='bar')"
   ]
  },
  {
   "cell_type": "markdown",
   "metadata": {},
   "source": [
    "Alternatively, you can give this Series to Seaborn:"
   ]
  },
  {
   "cell_type": "code",
   "execution_count": 36,
   "metadata": {},
   "outputs": [
    {
     "data": {
      "text/plain": [
       "<AxesSubplot:xlabel='year'>"
      ]
     },
     "execution_count": 36,
     "metadata": {},
     "output_type": "execute_result"
    },
    {
     "data": {
      "image/png": "[encoded data removed]",
      "text/plain": [
       "<Figure size 792x360 with 1 Axes>"
      ]
     },
     "metadata": {},
     "output_type": "display_data"
    }
   ],
   "source": [
    "sns.barplot(x=tesla_per_year.index, y=tesla_per_year.values, color=\"skyblue\")"
   ]
  },
  {
   "cell_type": "markdown",
   "metadata": {},
   "source": [
    "Some extra styling, a title and a y-axis label. You can even save the result, for instance as .pdf."
   ]
  },
  {
   "cell_type": "code",
   "execution_count": 48,
   "metadata": {},
   "outputs": [
    {
     "ename": "NameError",
     "evalue": "name 'tesla_per_year' is not defined",
     "output_type": "error",
     "traceback": [
      "\u001B[0;31m---------------------------------------------------------------------------\u001B[0m",
      "\u001B[0;31mNameError\u001B[0m                                 Traceback (most recent call last)",
      "Cell \u001B[0;32mIn[48], line 1\u001B[0m\n\u001B[0;32m----> 1\u001B[0m sns\u001B[38;5;241m.\u001B[39mbarplot(x\u001B[38;5;241m=\u001B[39m\u001B[43mtesla_per_year\u001B[49m\u001B[38;5;241m.\u001B[39mindex, y\u001B[38;5;241m=\u001B[39mtesla_per_year\u001B[38;5;241m.\u001B[39mvalues, color\u001B[38;5;241m=\u001B[39m\u001B[38;5;124m\"\u001B[39m\u001B[38;5;124mskyblue\u001B[39m\u001B[38;5;124m\"\u001B[39m)\n\u001B[1;32m      3\u001B[0m plt\u001B[38;5;241m.\u001B[39mxlabel(\u001B[38;5;124m\"\u001B[39m\u001B[38;5;124mYear\u001B[39m\u001B[38;5;124m\"\u001B[39m, fontsize\u001B[38;5;241m=\u001B[39m\u001B[38;5;241m14\u001B[39m)\n\u001B[1;32m      4\u001B[0m plt\u001B[38;5;241m.\u001B[39mylabel(\u001B[38;5;124m\"\u001B[39m\u001B[38;5;124mCount\u001B[39m\u001B[38;5;124m\"\u001B[39m, fontsize\u001B[38;5;241m=\u001B[39m\u001B[38;5;241m14\u001B[39m)\n",
      "\u001B[0;31mNameError\u001B[0m: name 'tesla_per_year' is not defined"
     ]
    }
   ],
   "source": [
    "sns.barplot(x=tesla_per_year.index, y=tesla_per_year.values, color=\"skyblue\")\n",
    "\n",
    "plt.xlabel(\"Year\", fontsize=14)\n",
    "plt.ylabel(\"Count\", fontsize=14)\n",
    "plt.title(\"Number of tweets mentioning Tesla\", fontsize=14)\n",
    "plt.tight_layout()\n",
    "\n",
    "plt.savefig(\"stuff/elon_plot.pdf\")"
   ]
  },
  {
   "cell_type": "markdown",
   "metadata": {},
   "source": [
    "**Another question:** how many tweets are there per month over time? \n",
    "\n",
    "We need to change the index and group. Let's make the datetimestamp the index of our DataFrame. "
   ]
  },
  {
   "cell_type": "code",
   "execution_count": 49,
   "metadata": {},
   "outputs": [],
   "source": [
    "df_elon = df_elon.set_index('created_at')"
   ]
  },
  {
   "cell_type": "code",
   "execution_count": 50,
   "metadata": {},
   "outputs": [
    {
     "data": {
      "text/plain": "                                     id  \\\ncreated_at                                \n2017-04-05 14:56:29  849636868052275200   \n2017-04-03 20:01:01  848988730585096192   \n2017-04-03 16:59:35  848943072423497728   \n2017-04-03 16:30:19  848935705057280001   \n2017-04-02 06:05:23  848416049573658624   \n\n                                                                  text  \\\ncreated_at                                                               \n2017-04-05 14:56:29  And so the robots spared humanity ... https://...   \n2017-04-03 20:01:01  @ForIn2020 @waltmossberg @mims @defcon_5 Exact...   \n2017-04-03 16:59:35         @waltmossberg @mims @defcon_5 Et tu, Walt?   \n2017-04-03 16:30:19                   Stormy weather in Shortville ...   \n2017-04-02 06:05:23  @DaveLeeBBC @verge Coal is dying due to nat ga...   \n\n                                                            clean_text  \\\ncreated_at                                                               \n2017-04-05 14:56:29                             robots spared humanity   \n2017-04-03 20:01:01  @ForIn2020 @waltmossberg @mims @defcon_5 Exact...   \n2017-04-03 16:59:35                 @waltmossberg @mims @defcon_5 Walt   \n2017-04-03 16:30:19                          Stormy weather Shortville   \n2017-04-02 06:05:23  @DaveLeeBBC @verge Coal dying fracking It's ba...   \n\n                     tesla_in_tweet  \ncreated_at                           \n2017-04-05 14:56:29               0  \n2017-04-03 20:01:01               1  \n2017-04-03 16:59:35               0  \n2017-04-03 16:30:19               0  \n2017-04-02 06:05:23               0  ",
      "text/html": "<div>\n<style scoped>\n    .dataframe tbody tr th:only-of-type {\n        vertical-align: middle;\n    }\n\n    .dataframe tbody tr th {\n        vertical-align: top;\n    }\n\n    .dataframe thead th {\n        text-align: right;\n    }\n</style>\n<table border=\"1\" class=\"dataframe\">\n  <thead>\n    <tr style=\"text-align: right;\">\n      <th></th>\n      <th>id</th>\n      <th>text</th>\n      <th>clean_text</th>\n      <th>tesla_in_tweet</th>\n    </tr>\n    <tr>\n      <th>created_at</th>\n      <th></th>\n      <th></th>\n      <th></th>\n      <th></th>\n    </tr>\n  </thead>\n  <tbody>\n    <tr>\n      <th>2017-04-05 14:56:29</th>\n      <td>849636868052275200</td>\n      <td>And so the robots spared humanity ... https://...</td>\n      <td>robots spared humanity</td>\n      <td>0</td>\n    </tr>\n    <tr>\n      <th>2017-04-03 20:01:01</th>\n      <td>848988730585096192</td>\n      <td>@ForIn2020 @waltmossberg @mims @defcon_5 Exact...</td>\n      <td>@ForIn2020 @waltmossberg @mims @defcon_5 Exact...</td>\n      <td>1</td>\n    </tr>\n    <tr>\n      <th>2017-04-03 16:59:35</th>\n      <td>848943072423497728</td>\n      <td>@waltmossberg @mims @defcon_5 Et tu, Walt?</td>\n      <td>@waltmossberg @mims @defcon_5 Walt</td>\n      <td>0</td>\n    </tr>\n    <tr>\n      <th>2017-04-03 16:30:19</th>\n      <td>848935705057280001</td>\n      <td>Stormy weather in Shortville ...</td>\n      <td>Stormy weather Shortville</td>\n      <td>0</td>\n    </tr>\n    <tr>\n      <th>2017-04-02 06:05:23</th>\n      <td>848416049573658624</td>\n      <td>@DaveLeeBBC @verge Coal is dying due to nat ga...</td>\n      <td>@DaveLeeBBC @verge Coal dying fracking It's ba...</td>\n      <td>0</td>\n    </tr>\n  </tbody>\n</table>\n</div>"
     },
     "execution_count": 50,
     "metadata": {},
     "output_type": "execute_result"
    }
   ],
   "source": [
    "df_elon.head(5)"
   ]
  },
  {
   "cell_type": "markdown",
   "metadata": {},
   "source": [
    "Pandas has a `Grouper` method that for instance allows you to easily work with datetimestamps. See https://pandas.pydata.org/pandas-docs/stable/reference/api/pandas.Grouper.html for some examples. \n",
    "\n",
    "We use it to group per month which we do by specifying `freq='M'`. In steps:\n",
    "1. First, we group by the month using the `pd.Grouper(freq='M'))` method\n",
    "2. Then we count the number of rows per month using `.count()`\n",
    "3. Since we are only interested in the count, we can select any row, for instance 'id'"
   ]
  },
  {
   "cell_type": "code",
   "execution_count": 51,
   "metadata": {},
   "outputs": [
    {
     "data": {
      "text/plain": "created_at\n2010-06-30      1\n2010-07-31      0\n2010-08-31      0\n2010-09-30      0\n2010-10-31      0\n             ... \n2016-12-31     50\n2017-01-31    107\n2017-02-28    137\n2017-03-31    120\n2017-04-30     13\nFreq: M, Name: id, Length: 83, dtype: int64"
     },
     "execution_count": 51,
     "metadata": {},
     "output_type": "execute_result"
    }
   ],
   "source": [
    "tweets_per_month = df_elon.groupby(pd.Grouper(freq='M')).count()['id']\n",
    "tweets_per_month"
   ]
  },
  {
   "cell_type": "code",
   "execution_count": 41,
   "metadata": {},
   "outputs": [
    {
     "data": {
      "text/plain": [
       "<AxesSubplot:xlabel='created_at'>"
      ]
     },
     "execution_count": 41,
     "metadata": {},
     "output_type": "execute_result"
    },
    {
     "data": {
      "image/png": "[encoded data removed]",
      "text/plain": [
       "<Figure size 792x360 with 1 Axes>"
      ]
     },
     "metadata": {},
     "output_type": "display_data"
    }
   ],
   "source": [
    "tweets_per_month.plot()"
   ]
  },
  {
   "cell_type": "markdown",
   "metadata": {},
   "source": [
    "**Remark**: there is much more to this than plotting. Take a loot at the [Seaborn](https://seaborn.pydata.org/examples/index.html) or [Matplotlib](https://matplotlib.org/gallery.html) galleries for some compelling examples."
   ]
  },
  {
   "cell_type": "markdown",
   "metadata": {},
   "source": [
    "---"
   ]
  },
  {
   "cell_type": "markdown",
   "metadata": {
    "id": "rOUj79AmWjo-"
   },
   "source": [
    "# Data wrangling (extended Pandas example)\n",
    "\n",
    "We can take a look at another example. We consider the same dataset, and ask the following questions:\n",
    "* When is Elon most actively tweeting?\n",
    "\n",
    "While this question is a bit trivial, it will allow us to learn more about how to wrangle data."
   ]
  },
  {
   "cell_type": "code",
   "execution_count": 52,
   "metadata": {
    "id": "jnR8cCCuWjo-"
   },
   "outputs": [],
   "source": [
    "import pandas as pd"
   ]
  },
  {
   "cell_type": "code",
   "execution_count": null,
   "outputs": [],
   "source": [],
   "metadata": {
    "collapsed": false
   }
  },
  {
   "cell_type": "markdown",
   "metadata": {
    "id": "anjFRsrJWjo-"
   },
   "source": [
    "### Load dataset"
   ]
  },
  {
   "cell_type": "markdown",
   "metadata": {
    "id": "AEkE4d1OWjo_"
   },
   "source": [
    "Let's read in the CSV file again to start from scratch."
   ]
  },
  {
   "cell_type": "code",
   "execution_count": 53,
   "metadata": {
    "id": "zRnIjOf3Wjo_"
   },
   "outputs": [
    {
     "ename": "NameError",
     "evalue": "name 'dataset_path' is not defined",
     "output_type": "error",
     "traceback": [
      "\u001B[0;31m---------------------------------------------------------------------------\u001B[0m",
      "\u001B[0;31mNameError\u001B[0m                                 Traceback (most recent call last)",
      "Cell \u001B[0;32mIn[53], line 1\u001B[0m\n\u001B[0;32m----> 1\u001B[0m df \u001B[38;5;241m=\u001B[39m pd\u001B[38;5;241m.\u001B[39mread_csv(\u001B[43mdataset_path\u001B[49m, encoding\u001B[38;5;241m=\u001B[39m\u001B[38;5;124m'\u001B[39m\u001B[38;5;124mutf-8\u001B[39m\u001B[38;5;124m'\u001B[39m)\n",
      "\u001B[0;31mNameError\u001B[0m: name 'dataset_path' is not defined"
     ]
    }
   ],
   "source": [
    "df = pd.read_csv(dataset_path, encoding='utf-8')"
   ]
  },
  {
   "cell_type": "code",
   "execution_count": null,
   "metadata": {
    "id": "yFVsux4FWjo_"
   },
   "outputs": [],
   "source": [
    "df"
   ]
  },
  {
   "cell_type": "code",
   "execution_count": null,
   "metadata": {
    "id": "fqXEcft-WjpA"
   },
   "outputs": [],
   "source": [
    "df.info()"
   ]
  },
  {
   "cell_type": "markdown",
   "metadata": {
    "id": "phSczVrXWjpA"
   },
   "source": [
    "Let's give this dataset a bit more structure:\n",
    "- The `id` column can be transformed into the dataframe's index, thus enabling us e.g. to select a tweet by id;\n",
    "- The column `created_at` contains a timestamp, thus it can easily be converted into a `datetime` value"
   ]
  },
  {
   "cell_type": "code",
   "execution_count": null,
   "metadata": {
    "id": "EQgtlrIVWjpA"
   },
   "outputs": [],
   "source": [
    "df.set_index('id', drop=True, inplace=True)"
   ]
  },
  {
   "cell_type": "code",
   "execution_count": null,
   "metadata": {
    "id": "ItrFglkNWjpB"
   },
   "outputs": [],
   "source": [
    "df"
   ]
  },
  {
   "cell_type": "code",
   "execution_count": null,
   "metadata": {
    "id": "oUmUplYpWjpB"
   },
   "outputs": [],
   "source": [
    "df.created_at = pd.to_datetime(df.created_at)"
   ]
  },
  {
   "cell_type": "code",
   "execution_count": null,
   "metadata": {
    "id": "DjlGsSCKWjpB"
   },
   "outputs": [],
   "source": [
    "df.info()"
   ]
  },
  {
   "cell_type": "code",
   "execution_count": null,
   "metadata": {
    "id": "0DATHvnUWjpB"
   },
   "outputs": [],
   "source": [
    "df"
   ]
  },
  {
   "cell_type": "markdown",
   "metadata": {
    "id": "95sY7ZPfWjpB"
   },
   "source": [
    "---"
   ]
  },
  {
   "cell_type": "markdown",
   "metadata": {
    "id": "fmw2eKvzWjpB"
   },
   "source": [
    "### Selection"
   ]
  },
  {
   "cell_type": "markdown",
   "metadata": {
    "id": "8UfnizmJWjpC"
   },
   "source": [
    "#### Renaming columns"
   ]
  },
  {
   "cell_type": "markdown",
   "metadata": {
    "id": "EZBwFCwuWjpC"
   },
   "source": [
    "An operation on dataframes that you'll find yourself doing very often is to rename the columns. The first way of renaming columns is by manipulating directly the dataframe's index via the `columns` property."
   ]
  },
  {
   "cell_type": "code",
   "execution_count": null,
   "metadata": {
    "id": "WNyjLCyWWjpC"
   },
   "outputs": [],
   "source": [
    "df.columns"
   ]
  },
  {
   "cell_type": "markdown",
   "metadata": {
    "id": "difr2WuLWjpC"
   },
   "source": [
    "We can change the column names by assigning to `columns` a list having as values the new column names.\n",
    "\n",
    "**NB**: the size of the list and new number of colums must match!"
   ]
  },
  {
   "cell_type": "code",
   "execution_count": null,
   "metadata": {
    "id": "U9rk9GMAWjpC"
   },
   "outputs": [],
   "source": [
    "# here we renamed the column `text` => `tweet`\n",
    "df.columns = ['created_at', 'tweet']"
   ]
  },
  {
   "cell_type": "code",
   "execution_count": null,
   "metadata": {
    "id": "0N8Tp9lVWjpC"
   },
   "outputs": [],
   "source": [
    "# let's check that the change did take place\n",
    "df.head()"
   ]
  },
  {
   "cell_type": "markdown",
   "metadata": {
    "id": "bvo42ui6WjpC"
   },
   "source": [
    "The second way of renaming colums is to use the method `rename()` of a dataframe. The `columns` parameter takes a dictionary of mappings between old and new column names.\n",
    "\n",
    "```python\n",
    "mapping_dict = {\n",
    "    \"old_column_name\": \"new_column_name\"\n",
    "}\n",
    "```"
   ]
  },
  {
   "cell_type": "code",
   "execution_count": null,
   "metadata": {
    "id": "uWwroMmuWjpD"
   },
   "outputs": [],
   "source": [
    "# let's change column `tweet` => `text`\n",
    "df = df.rename(columns={\"tweet\": \"text\"})"
   ]
  },
  {
   "cell_type": "code",
   "execution_count": null,
   "metadata": {
    "id": "V9du3B6LWjpD"
   },
   "outputs": [],
   "source": [
    "df.head()"
   ]
  },
  {
   "cell_type": "markdown",
   "metadata": {
    "id": "kX1Clp-LWjpD"
   },
   "source": [
    "**Question**: in which cases is it more convenient to use the second method over the first?"
   ]
  },
  {
   "cell_type": "markdown",
   "metadata": {
    "id": "SSyzgI-KWjpD"
   },
   "source": [
    "#### Selecting columns"
   ]
  },
  {
   "cell_type": "code",
   "execution_count": null,
   "metadata": {
    "id": "xgADy6B_WjpD"
   },
   "outputs": [],
   "source": [
    "# this selects one single column and returns as a Series\n",
    "df[\"created_at\"].head()"
   ]
  },
  {
   "cell_type": "code",
   "execution_count": null,
   "metadata": {
    "id": "2Ts8-demWjpD"
   },
   "outputs": [],
   "source": [
    "type(df[\"created_at\"])"
   ]
  },
  {
   "cell_type": "code",
   "execution_count": null,
   "metadata": {
    "id": "HA8veWZYWjpD"
   },
   "outputs": [],
   "source": [
    "# whereas this syntax selects one single column\n",
    "# but returns a Dataframe\n",
    "df[[\"created_at\"]].head()"
   ]
  },
  {
   "cell_type": "code",
   "execution_count": null,
   "metadata": {
    "id": "VPanFWGVWjpE"
   },
   "outputs": [],
   "source": [
    "type(df[[\"created_at\"]])"
   ]
  },
  {
   "cell_type": "markdown",
   "metadata": {
    "id": "5JVkvqrMWjpF"
   },
   "source": [
    "####  Selecting rows\n",
    "\n",
    "Filtering rows in `pandas` is done by means of `[ ]`, which can contain the row number as well as a condition for the selection."
   ]
  },
  {
   "cell_type": "code",
   "execution_count": null,
   "metadata": {
    "id": "kHmk-0MNWjpF"
   },
   "outputs": [],
   "source": [
    "df[0:2]"
   ]
  },
  {
   "cell_type": "markdown",
   "metadata": {
    "id": "y5WF65O6WjpF"
   },
   "source": [
    "### Transformation\n",
    "\n",
    "\n",
    "The two main functions used to manipulate and transform values in a dataframe are:\n",
    "- `.map()` (on Series only!)\n",
    "- `.apply()`\n",
    "\n",
    "In this section we'll be using both to enrich our datasets with useful information (useful for exploration, for later visualizations, etc.)."
   ]
  },
  {
   "cell_type": "markdown",
   "metadata": {
    "id": "S0vPCd_IWjpF"
   },
   "source": [
    "#### Add link to original tweet"
   ]
  },
  {
   "cell_type": "markdown",
   "metadata": {
    "id": "BOeYNz3uWjpF"
   },
   "source": [
    "The `map()` method can be called on a column, as well as on the dataframe's index.\n",
    "\n",
    "When passed as a parameter to `map`, an 'anonymous' lambda function `lambda` can be used to transform any value from that column into another one.   "
   ]
  },
  {
   "cell_type": "code",
   "execution_count": null,
   "metadata": {
    "id": "WUNAxlZ3WjpF"
   },
   "outputs": [],
   "source": [
    "df['tweet_link'] = df.index.map(lambda x: f'https://twitter.com/i/web/status/{x}')"
   ]
  },
  {
   "cell_type": "markdown",
   "metadata": {
    "id": "DMWT4GB3WjpF"
   },
   "source": [
    "Or, maybe it is easier with a list comprehension:"
   ]
  },
  {
   "cell_type": "code",
   "execution_count": null,
   "metadata": {
    "id": "dFZtLGXPWjpF"
   },
   "outputs": [],
   "source": [
    "df['tweet_link'] = [f'https://twitter.com/i/web/status/{x}' for x in df.index]"
   ]
  },
  {
   "cell_type": "code",
   "execution_count": null,
   "metadata": {
    "id": "qzr3BfiZWjpG"
   },
   "outputs": [],
   "source": [
    "df"
   ]
  },
  {
   "cell_type": "markdown",
   "metadata": {
    "id": "4DGRRkkGWjpG"
   },
   "source": [
    "#### Add colums with mentions"
   ]
  },
  {
   "cell_type": "code",
   "execution_count": null,
   "metadata": {
    "id": "Cn4Hwl_dWjpG"
   },
   "outputs": [],
   "source": [
    "import re\n",
    "\n",
    "def find_mentions(tweet_text):\n",
    "    \"\"\"\n",
    "    Find all @ mentions in a tweet and \n",
    "    return them as a list.\n",
    "    \"\"\"\n",
    "    \n",
    "    regex = r'@[a-zA-Z0-9_]{1,15}'\n",
    "    mentions = re.findall(regex, tweet_text)\n",
    "    \n",
    "    return mentions"
   ]
  },
  {
   "cell_type": "code",
   "execution_count": null,
   "metadata": {
    "id": "i7zFdmncWjpG"
   },
   "outputs": [],
   "source": [
    "df['tweet_mentions'] = df.text.apply(find_mentions)"
   ]
  },
  {
   "cell_type": "code",
   "execution_count": null,
   "metadata": {
    "id": "6S0dTdeCWjpG"
   },
   "outputs": [],
   "source": [
    "df['n_mentions'] = df.tweet_mentions.apply(len)"
   ]
  },
  {
   "cell_type": "code",
   "execution_count": null,
   "metadata": {
    "id": "1n8B7SbfWjpG"
   },
   "outputs": [],
   "source": [
    "df.head()"
   ]
  },
  {
   "cell_type": "markdown",
   "metadata": {
    "id": "SxVP2smVWjpG"
   },
   "source": [
    "#### Add column with week day and hour"
   ]
  },
  {
   "cell_type": "code",
   "execution_count": null,
   "metadata": {
    "id": "YkzyAnI7WjpH"
   },
   "outputs": [],
   "source": [
    "def day_of_week(t):\n",
    "    \"\"\"\n",
    "    Get the week day name from a week day integer.\n",
    "    \"\"\"\n",
    "    \n",
    "    if t == 0:\n",
    "        return \"Monday\"\n",
    "    elif t == 1:\n",
    "        return \"Tuesday\"\n",
    "    elif t == 2:\n",
    "        return \"Wednesday\"\n",
    "    elif t == 3:\n",
    "        return \"Thursday\"\n",
    "    elif t == 4:\n",
    "        return \"Friday\"\n",
    "    elif t == 5:\n",
    "        return \"Saturday\"\n",
    "    elif t == 6:\n",
    "        return \"Sunday\""
   ]
  },
  {
   "cell_type": "code",
   "execution_count": null,
   "metadata": {
    "id": "sWoQi-cTWjpH"
   },
   "outputs": [],
   "source": [
    "df[\"week_day\"] = df.created_at.dt.weekday"
   ]
  },
  {
   "cell_type": "code",
   "execution_count": null,
   "metadata": {
    "id": "zuaqzrMMWjpH"
   },
   "outputs": [],
   "source": [
    "df[\"week_day_name\"] = df[\"week_day\"].apply(day_of_week)"
   ]
  },
  {
   "cell_type": "markdown",
   "metadata": {
    "id": "69U8rYV9WjpH"
   },
   "source": [
    "Or, there is a built-in function in Pandas that gives back the day name:"
   ]
  },
  {
   "cell_type": "code",
   "execution_count": null,
   "metadata": {
    "id": "atR-yXkJWjpH"
   },
   "outputs": [],
   "source": [
    "df[\"week_day_name\"] = df.created_at.dt.day_name()"
   ]
  },
  {
   "cell_type": "code",
   "execution_count": null,
   "metadata": {
    "id": "wEpNKfF_WjpH"
   },
   "outputs": [],
   "source": [
    "df.head(3)"
   ]
  },
  {
   "cell_type": "markdown",
   "metadata": {
    "id": "dNyL9_17WjpH"
   },
   "source": [
    "#### Add column with day hour"
   ]
  },
  {
   "cell_type": "code",
   "execution_count": null,
   "metadata": {
    "id": "9-5fndLAWjpI"
   },
   "outputs": [],
   "source": [
    "df.created_at.dt?"
   ]
  },
  {
   "cell_type": "code",
   "execution_count": null,
   "metadata": {
    "id": "du8-hTt5WjpI"
   },
   "outputs": [],
   "source": [
    "df.created_at.dt.hour.head()"
   ]
  },
  {
   "cell_type": "code",
   "execution_count": null,
   "metadata": {
    "id": "SEa9CxUZWjpI"
   },
   "outputs": [],
   "source": [
    "df[\"day_hour\"] = df.created_at.dt.hour"
   ]
  },
  {
   "cell_type": "code",
   "execution_count": null,
   "metadata": {
    "id": "_d43pcy7WjpI"
   },
   "outputs": [],
   "source": [
    "display_cols = ['created_at', 'week_day', 'day_hour']\n",
    "df[display_cols].head(4)"
   ]
  },
  {
   "cell_type": "markdown",
   "metadata": {
    "id": "TkyG8sbsWjpI"
   },
   "source": [
    "##### Multiple conditions"
   ]
  },
  {
   "cell_type": "code",
   "execution_count": null,
   "metadata": {
    "id": "tVNBk98-WjpJ"
   },
   "outputs": [],
   "source": [
    "# AND condition with `&`\n",
    "\n",
    "df[\n",
    "    (df.week_day_name == 'Saturday') & (df.n_mentions == 0)\n",
    "].shape"
   ]
  },
  {
   "cell_type": "code",
   "execution_count": null,
   "metadata": {
    "id": "P0zJi5oEWjpJ"
   },
   "outputs": [],
   "source": [
    "# Equivalent expression with `query()`\n",
    "\n",
    "df.query(\"week_day_name == 'Saturday' and n_mentions == 0\").shape"
   ]
  },
  {
   "cell_type": "code",
   "execution_count": null,
   "metadata": {
    "id": "CTO1hlNhWjpJ"
   },
   "outputs": [],
   "source": [
    "# OR condition with `|`\n",
    "\n",
    "df[\n",
    "    (df.week_day_name == 'Saturday') | (df.n_mentions == 0)\n",
    "].shape"
   ]
  },
  {
   "cell_type": "markdown",
   "metadata": {
    "id": "kGqH23K5WjpJ"
   },
   "source": [
    "### Aggregation"
   ]
  },
  {
   "cell_type": "code",
   "execution_count": null,
   "metadata": {
    "id": "2JoiqWqnWjpJ"
   },
   "outputs": [],
   "source": [
    "df.agg({'n_mentions': ['min', 'max', 'sum']})"
   ]
  },
  {
   "cell_type": "markdown",
   "metadata": {
    "id": "247FXVzhWjpJ"
   },
   "source": [
    "#### Grouping"
   ]
  },
  {
   "cell_type": "code",
   "execution_count": null,
   "metadata": {
    "id": "qf8jfF1mWjpJ"
   },
   "outputs": [],
   "source": [
    "group_by_day = df.groupby('week_day')"
   ]
  },
  {
   "cell_type": "code",
   "execution_count": null,
   "metadata": {
    "id": "sVDAv-D5WjpK"
   },
   "outputs": [],
   "source": [
    "# The head of a DataFrameGroupBy consists of the first\n",
    "# n records for each group (see `help(grp_by_day.head)`)\n",
    "\n",
    "group_by_day.head(1)"
   ]
  },
  {
   "cell_type": "markdown",
   "metadata": {
    "id": "tWNCOjXtWjpK"
   },
   "source": [
    "`agg` is used to pass an aggregation function to be applied to each group resulting from `groupby`.\n",
    "\n",
    "Here we are interested in how many tweets there are for each group, so we pass `len()` to an 'aggregate'. This is similar to the `.count()` method. "
   ]
  },
  {
   "cell_type": "code",
   "execution_count": null,
   "metadata": {
    "id": "P1ATt8AiWjpK"
   },
   "outputs": [],
   "source": [
    "group_by_day.agg(len)"
   ]
  },
  {
   "cell_type": "markdown",
   "metadata": {
    "id": "wOiN3zPuWjpK"
   },
   "source": [
    "However, we are not interested in having the count for all columns. Rather we want to create a new dataframe with renamed column names."
   ]
  },
  {
   "cell_type": "code",
   "execution_count": null,
   "metadata": {
    "id": "t3avzNHOWjpK"
   },
   "outputs": [],
   "source": [
    "group_by_day.agg({'text': len}).rename({'text': 'tweet_count'}, axis='columns')"
   ]
  },
  {
   "cell_type": "markdown",
   "metadata": {
    "id": "VGArxHedWjpK"
   },
   "source": [
    "##### By label (column)"
   ]
  },
  {
   "cell_type": "markdown",
   "metadata": {
    "id": "HHa_A2Q2WjpK"
   },
   "source": [
    "Previously we've added a column indicating on which day of the week a given tweet appeared."
   ]
  },
  {
   "cell_type": "code",
   "execution_count": null,
   "metadata": {
    "id": "8jZ__JQSWjpL"
   },
   "outputs": [],
   "source": [
    "groupby_result_as_series = df.groupby('day_hour')['text'].count()"
   ]
  },
  {
   "cell_type": "code",
   "execution_count": null,
   "metadata": {
    "id": "BHogxsKsWjpL"
   },
   "outputs": [],
   "source": [
    "groupby_result_as_series"
   ]
  },
  {
   "cell_type": "code",
   "execution_count": null,
   "metadata": {
    "id": "PurAA8tWWjpL"
   },
   "outputs": [],
   "source": [
    "groupby_result_as_df = df.groupby('day_hour')[['text']]\\\n",
    "    .count()\\\n",
    "    .rename({'text': 'count'}, axis='columns')"
   ]
  },
  {
   "cell_type": "code",
   "execution_count": null,
   "metadata": {
    "id": "hHmsRRGrWjpL"
   },
   "outputs": [],
   "source": [
    "groupby_result_as_df.head()"
   ]
  },
  {
   "cell_type": "markdown",
   "metadata": {
    "id": "UUiyZfLJWjpL"
   },
   "source": [
    "##### By series or dict"
   ]
  },
  {
   "cell_type": "code",
   "execution_count": null,
   "metadata": {
    "id": "nl9sj2AHWjpL"
   },
   "outputs": [],
   "source": [
    "df.groupby?"
   ]
  },
  {
   "cell_type": "code",
   "execution_count": null,
   "metadata": {
    "id": "6qh4CJlxWjpL"
   },
   "outputs": [],
   "source": [
    "# here we pass the groups as a series\n",
    "df.groupby(df.created_at.dt.day).agg({'text':len}).head()"
   ]
  },
  {
   "cell_type": "code",
   "execution_count": null,
   "metadata": {
    "id": "_A4snuKTWjpM"
   },
   "outputs": [],
   "source": [
    "# here we pass the groups as a series\n",
    "df.groupby(df.created_at.dt.day)[['text']].count().head()"
   ]
  },
  {
   "cell_type": "code",
   "execution_count": null,
   "metadata": {
    "id": "-0znvZrHWjpM"
   },
   "outputs": [],
   "source": [
    "df.groupby(df.created_at.dt.hour)[['text']].count().head()"
   ]
  },
  {
   "cell_type": "markdown",
   "metadata": {
    "id": "AAeD5HadWjpM"
   },
   "source": [
    "##### By multiple labels (columns)"
   ]
  },
  {
   "cell_type": "code",
   "execution_count": null,
   "metadata": {
    "id": "fT3UrwA3WjpM"
   },
   "outputs": [],
   "source": [
    "# Here we group based on the values of two columns\n",
    "# instead of one\n",
    "\n",
    "x = df.groupby(['week_day', 'day_hour'])[['text']].count()"
   ]
  },
  {
   "cell_type": "code",
   "execution_count": null,
   "metadata": {
    "id": "KpHvHWgWWjpM"
   },
   "outputs": [],
   "source": [
    "x.head()"
   ]
  },
  {
   "cell_type": "markdown",
   "metadata": {
    "id": "z5zgvSBMWjpN"
   },
   "source": [
    "#### Aggregation methods\n",
    "\n",
    "**Summary**:\n",
    "\n",
    "- `count`: Number of non-NA values\n",
    "- `sum`: Sum of non-NA values\n",
    "- `mean`: Mean of non-NA values\n",
    "- `median`: Arithmetic median of non-NA values\n",
    "- `std`, `var`: standard deviation and variance\n",
    "- `min`, `max`: Minimum and maximum of non-NA values"
   ]
  },
  {
   "cell_type": "markdown",
   "metadata": {
    "id": "McaM09oBWjpN"
   },
   "source": [
    "You can also use these in an aggregation functions within a groupby:"
   ]
  },
  {
   "cell_type": "code",
   "execution_count": null,
   "metadata": {
    "id": "Av4JTDaGWjpN"
   },
   "outputs": [],
   "source": [
    "df.groupby('week_day').agg(\n",
    "    {\n",
    "        # each key in this dict specifies\n",
    "        # a given column\n",
    "        'n_mentions':[\n",
    "            # the list contains aggregation functions\n",
    "            # to be applied to this column\n",
    "            'count',\n",
    "            'mean',\n",
    "            'min',\n",
    "            'max',\n",
    "            'std',\n",
    "            'var'\n",
    "        ]\n",
    "    }\n",
    ")"
   ]
  },
  {
   "cell_type": "markdown",
   "metadata": {
    "id": "S03JNmiMWjpN"
   },
   "source": [
    "#### Sorting"
   ]
  },
  {
   "cell_type": "markdown",
   "metadata": {
    "id": "9DS3Y1I_WjpN"
   },
   "source": [
    "To sort the values of  a dataframe we use its `sort_values` method:\n",
    "- `by`: specifies the name of the column to be used for sorting\n",
    "- `ascending` (default = `True`): specifies whether the sorting should be *ascending* (A-Z, 0-9) or `descending` (Z-A, 9-0) "
   ]
  },
  {
   "cell_type": "code",
   "execution_count": null,
   "metadata": {
    "id": "W2xx3qjhWjpN"
   },
   "outputs": [],
   "source": [
    "df.sort_values(by='created_at', ascending=True).head()"
   ]
  },
  {
   "cell_type": "code",
   "execution_count": null,
   "metadata": {
    "id": "Kv9H2D6bWjpO"
   },
   "outputs": [],
   "source": [
    "df.sort_values(by='n_mentions', ascending=False).head()"
   ]
  },
  {
   "cell_type": "markdown",
   "metadata": {
    "id": "kF2g6hKRWjpO"
   },
   "source": [
    "### Save\n",
    "\n",
    "Before continuing with the plotting, let's save our enhanced dataframe, so that we can come back to it without having to redo the same manipulations on it.\n",
    "\n",
    "`pandas` provides a number of handy functions to export dataframes in a variety of formats."
   ]
  },
  {
   "cell_type": "markdown",
   "metadata": {
    "id": "CAXx_eFQWjpO"
   },
   "source": [
    "Here we use `.to_pickle()` to serialize the dataframe into a binary format, by using behind the scenes Python's `pickle` library. "
   ]
  },
  {
   "cell_type": "code",
   "execution_count": null,
   "metadata": {
    "id": "DJcFasz0WjpO"
   },
   "outputs": [],
   "source": [
    "df.to_pickle(\"stuff/musk_tweets_enhanced.pickle\")"
   ]
  },
  {
   "cell_type": "markdown",
   "metadata": {
    "id": "XP15yKiGWjpO"
   },
   "source": [
    "## Plotting: Visualizing the example"
   ]
  },
  {
   "cell_type": "code",
   "execution_count": null,
   "metadata": {
    "id": "InFDIq1aWjpO"
   },
   "outputs": [],
   "source": [
    "df = pd.read_pickle(\"stuff/musk_tweets_enhanced.pickle\")"
   ]
  },
  {
   "cell_type": "markdown",
   "metadata": {
    "id": "_NV235sBWjpO"
   },
   "source": [
    "### `describe()`"
   ]
  },
  {
   "cell_type": "markdown",
   "metadata": {
    "id": "W8GCeXlrWjpO"
   },
   "source": [
    "The default behavior is to include only column with numerical values"
   ]
  },
  {
   "cell_type": "code",
   "execution_count": null,
   "metadata": {
    "id": "do_rgIRFWjpP"
   },
   "outputs": [],
   "source": [
    "df.describe()"
   ]
  },
  {
   "cell_type": "markdown",
   "metadata": {
    "id": "imeVXNXEWjpP"
   },
   "source": [
    "A trick to include more values is to exclude the datatype on which it breaks, which in our case is `list`. "
   ]
  },
  {
   "cell_type": "code",
   "execution_count": null,
   "metadata": {
    "id": "lWJ-qEuuWjpP"
   },
   "outputs": [],
   "source": [
    "df.describe(exclude=[list])"
   ]
  },
  {
   "cell_type": "code",
   "execution_count": null,
   "metadata": {
    "id": "HVmtrWgAWjpP"
   },
   "outputs": [],
   "source": [
    "df.created_at.describe(datetime_is_numeric=True)"
   ]
  },
  {
   "cell_type": "code",
   "execution_count": null,
   "metadata": {
    "id": "kf56VOrmWjpP"
   },
   "outputs": [],
   "source": [
    "df['week_day_name'] = df['week_day_name'].astype('category')"
   ]
  },
  {
   "cell_type": "code",
   "execution_count": null,
   "metadata": {
    "id": "q9C-ZeKYWjpP"
   },
   "outputs": [],
   "source": [
    "df.describe(exclude=['object'])"
   ]
  },
  {
   "cell_type": "markdown",
   "metadata": {
    "id": "qtuFoYDKWjpP"
   },
   "source": [
    "### Plotting"
   ]
  },
  {
   "cell_type": "code",
   "execution_count": null,
   "metadata": {
    "id": "Ept3KEdqWjpP"
   },
   "outputs": [],
   "source": [
    "# Not needed in newest Pandas version\n",
    "%matplotlib inline \n",
    "\n",
    "import matplotlib.pyplot as plt"
   ]
  },
  {
   "cell_type": "markdown",
   "metadata": {
    "id": "a6a3V4JnWjpQ"
   },
   "source": [
    "#### Histograms\n",
    "\n",
    "They are useful to see the distribution of a certain variable in your dataset."
   ]
  },
  {
   "cell_type": "code",
   "execution_count": null,
   "metadata": {
    "id": "WSIvsnS2WjpQ"
   },
   "outputs": [],
   "source": [
    "df.groupby(['n_mentions'])[['text']].count()"
   ]
  },
  {
   "cell_type": "code",
   "execution_count": null,
   "metadata": {
    "id": "jf8tZ8zeWjpQ"
   },
   "outputs": [],
   "source": [
    "plt.figure(figsize=(10, 6))\n",
    "plt.hist(df.n_mentions, bins='auto', rwidth=1.0)\n",
    "plt.title('Distribution of the number of mentions per tweet')\n",
    "plt.ylabel(\"Tweets\")\n",
    "plt.xlabel(\"Mentions (per tweet)\")\n",
    "plt.show()"
   ]
  },
  {
   "cell_type": "code",
   "execution_count": null,
   "metadata": {
    "id": "Mw3FT2I1WjpQ"
   },
   "outputs": [],
   "source": [
    "plt.figure(figsize=(10, 6))\n",
    "plt.hist(df.day_hour, bins='auto', rwidth=0.6)\n",
    "plt.title('Distribution of the number of mentions per tweet')\n",
    "plt.ylabel(\"Tweets\")\n",
    "plt.xlabel(\"Hour of the day\")\n",
    "plt.show()"
   ]
  },
  {
   "cell_type": "code",
   "execution_count": null,
   "metadata": {
    "id": "1nhigOF3WjpQ"
   },
   "outputs": [],
   "source": [
    "df_2017 = df[df.created_at.dt.year == 2017]"
   ]
  },
  {
   "cell_type": "code",
   "execution_count": null,
   "metadata": {
    "id": "DL5IrIngWjpQ"
   },
   "outputs": [],
   "source": [
    "plt.figure(figsize=(10, 6))\n",
    "plt.hist(df_2017.day_hour, bins='auto', rwidth=0.6)\n",
    "plt.title('Year 2017')\n",
    "plt.ylabel(\"Tweets\")\n",
    "plt.xlabel(\"Hour of the day\")\n",
    "plt.show()"
   ]
  },
  {
   "cell_type": "markdown",
   "metadata": {
    "id": "lY2JtrzhWjpQ"
   },
   "source": [
    "So far we have used directly `matplotlib` to generate our plots.\n",
    "\n",
    "`pandas`'s dataframes provide some methods that directly call `matplotlib`'s API behind the scenes:\n",
    "- `hist()` for histograms\n",
    "- `boxplot()` for boxplots\n",
    "- `plot()` for other types of plots (specified with e.g. `any='scatter'`)"
   ]
  },
  {
   "cell_type": "markdown",
   "metadata": {
    "id": "p_ctcaYrWjpQ"
   },
   "source": [
    "By passing the `by` parameter to e.g. `hist()` it is possible to produce one histogram plot of a given variable for each value in another column."
   ]
  },
  {
   "cell_type": "markdown",
   "metadata": {
    "id": "h35FvUBrWjpR"
   },
   "source": [
    "Let's see how we can plot the number of mentions by year:"
   ]
  },
  {
   "cell_type": "code",
   "execution_count": null,
   "metadata": {
    "id": "fwDZHZOyWjpR"
   },
   "outputs": [],
   "source": [
    "df['year'] = df.created_at.dt.year"
   ]
  },
  {
   "cell_type": "code",
   "execution_count": null,
   "metadata": {
    "id": "qabk8SHKWjpR"
   },
   "outputs": [],
   "source": [
    "axes = df.hist(column='day_hour', by='year', figsize=(10,10))"
   ]
  },
  {
   "cell_type": "markdown",
   "metadata": {
    "id": "KxZG0diqWjpR"
   },
   "source": [
    "#### Bar charts\n",
    "\n",
    "They are useful to plot categorical data."
   ]
  },
  {
   "cell_type": "code",
   "execution_count": null,
   "metadata": {
    "id": "nazqFakwWjpR"
   },
   "outputs": [],
   "source": [
    "plt.bar?"
   ]
  },
  {
   "cell_type": "code",
   "execution_count": null,
   "metadata": {
    "id": "nROj0KQGWjpR"
   },
   "outputs": [],
   "source": [
    "tweets_by_weekday = df.groupby(df.created_at.dt.weekday)[['text']].count()"
   ]
  },
  {
   "cell_type": "code",
   "execution_count": null,
   "metadata": {
    "id": "pHrTiv6GWjpR"
   },
   "outputs": [],
   "source": [
    "week_days = [\n",
    "    \"Mon\",\n",
    "    \"Tue\",\n",
    "    \"Wed\",\n",
    "    \"Thur\",\n",
    "    \"Fri\",\n",
    "    \"Sat\",\n",
    "    \"Sun\"\n",
    "]"
   ]
  },
  {
   "cell_type": "code",
   "execution_count": null,
   "metadata": {
    "id": "u16bx22pWjpS"
   },
   "outputs": [],
   "source": [
    "plt.figure(figsize=(8, 6))\n",
    "\n",
    "# specify the type of plot and the labels\n",
    "# for the y axis (the bars)\n",
    "plt.bar(\n",
    "    tweets_by_weekday.index,\n",
    "    tweets_by_weekday.text,\n",
    "    tick_label=week_days,\n",
    "    width=0.5\n",
    ")\n",
    "\n",
    "# give a title to the plot\n",
    "plt.title('Elon Musk\\'s week on Twitter')\n",
    "\n",
    "# give a label to the axes\n",
    "plt.ylabel(\"Number of tweets\")\n",
    "plt.xlabel(\"Week day\")\n",
    "plt.show()"
   ]
  },
  {
   "cell_type": "markdown",
   "metadata": {
    "id": "or-3iZHkWjpS"
   },
   "source": [
    "#### Box plots\n",
    "\n",
    "![box plot explained](https://github.com/bloemj/2022-coding-the-humanities/blob/master/notebooks/images/eda-boxplot.png?raw=1)"
   ]
  },
  {
   "cell_type": "markdown",
   "metadata": {
    "id": "8diAjB28WjpS"
   },
   "source": [
    "### Outliers, missing values\n",
    "\n",
    "An *outlier* is an observation far from the center of mass of the distribution. It might be an error or a genuine observation: this distinction requires domain knowledge. Outliers infuence the outcomes of several statistics and machine learning methods: it is important to decide how to deal with them.\n",
    "\n",
    "A *missing value* is an observation without a value. There can be many reasons for a missing value: the value might not exist (hence its absence is informative and it should be left empty) or might not be known (hence the value is existing but missing in the dataset and it should be marked as NA).\n",
    "\n",
    "*One way to think about the difference is with this Zen-like koan: An explicit missing value is the presence of an absence; an implicit missing value is the absence of a presence.*"
   ]
  },
  {
   "cell_type": "code",
   "execution_count": null,
   "metadata": {
    "id": "fqQ9M64yWjpS"
   },
   "outputs": [],
   "source": [
    "tweets_by_weekday"
   ]
  },
  {
   "cell_type": "code",
   "execution_count": null,
   "metadata": {
    "id": "MxF7BC66WjpS"
   },
   "outputs": [],
   "source": [
    "tweets_by_weekday.describe()"
   ]
  },
  {
   "cell_type": "code",
   "execution_count": null,
   "metadata": {
    "id": "TMk9HWgKWjpS"
   },
   "outputs": [],
   "source": [
    "tweets_by_weekday.boxplot()"
   ]
  },
  {
   "cell_type": "code",
   "execution_count": null,
   "metadata": {
    "id": "mQynlW_qWjpS"
   },
   "outputs": [],
   "source": [
    "plt.bar?"
   ]
  },
  {
   "cell_type": "code",
   "execution_count": null,
   "metadata": {
    "id": "pWog_GvdWjpS"
   },
   "outputs": [],
   "source": [
    "df.head(3)"
   ]
  },
  {
   "cell_type": "code",
   "execution_count": null,
   "metadata": {
    "id": "qi9qNbwYWjpS"
   },
   "outputs": [],
   "source": [
    "df[['day_hour']].describe()"
   ]
  },
  {
   "cell_type": "code",
   "execution_count": null,
   "metadata": {
    "id": "Abyiaf0RWjpS"
   },
   "outputs": [],
   "source": [
    "df[['day_hour']].quantile(.25)"
   ]
  },
  {
   "cell_type": "code",
   "execution_count": null,
   "metadata": {
    "id": "gWT70MgBWjpT"
   },
   "outputs": [],
   "source": [
    "df.boxplot?"
   ]
  },
  {
   "cell_type": "code",
   "execution_count": null,
   "metadata": {
    "id": "N4DqfJyuWjpT"
   },
   "outputs": [],
   "source": [
    "df[['day_hour', 'week_day_name']].boxplot(\n",
    "    by='week_day_name',\n",
    "    grid=False,\n",
    "    figsize=(8,6),\n",
    "    fontsize=10\n",
    ")\n",
    "\n",
    "# give a title to the plot\n",
    "plt.title('')\n",
    "\n",
    "# give a label to the axes\n",
    "plt.xlabel(\"Day of the week\")\n",
    "plt.show()"
   ]
  },
  {
   "cell_type": "code",
   "execution_count": null,
   "metadata": {
    "id": "OljB9txHWjpT"
   },
   "outputs": [],
   "source": [
    "df[['day_hour', 'week_day']].boxplot(\n",
    "    by='week_day',\n",
    "    grid=True, # just to show the difference with/without\n",
    "    figsize=(8,6),\n",
    "    fontsize=10\n",
    ")\n",
    "\n",
    "# give a title to the plot\n",
    "plt.title('')\n",
    "\n",
    "# give a label to the axes\n",
    "plt.xlabel(\"Day of the week\")\n",
    "plt.show()"
   ]
  },
  {
   "cell_type": "markdown",
   "metadata": {},
   "source": [
    "---"
   ]
  },
  {
   "cell_type": "markdown",
   "metadata": {
    "id": "sybT6sNaWjpT"
   },
   "source": [
    "### Exercise 1.\n",
    "\n",
    "* Create a function that calculates the frequency of hashtags in tweets.\n",
    "* Test it on toy examples, to make sure it works.\n",
    "* Apply it to Elon Musk's tweets.\n",
    "* List the top 10 hashtags in the dataset."
   ]
  },
  {
   "cell_type": "code",
   "execution_count": null,
   "metadata": {
    "id": "mkfqkxeSWjpT"
   },
   "outputs": [],
   "source": [
    "# Your code here."
   ]
  },
  {
   "cell_type": "markdown",
   "metadata": {},
   "source": [
    "### Exercise 2.\n",
    "\n",
    "With these tweets:\n",
    "* Plot the top n words together in a single figure, and show their trends over time.\n",
    "* Do the same for the top n users mentioned."
   ]
  },
  {
   "cell_type": "code",
   "execution_count": null,
   "metadata": {},
   "outputs": [],
   "source": [
    "# Your code here"
   ]
  },
  {
   "cell_type": "markdown",
   "metadata": {},
   "source": [
    "---\n"
   ]
  }
 ],
 "metadata": {
  "kernelspec": {
   "display_name": "Python 3 (ipykernel)",
   "language": "python",
   "name": "python3"
  },
  "language_info": {
   "codemirror_mode": {
    "name": "ipython",
    "version": 3
   },
   "file_extension": ".py",
   "mimetype": "text/x-python",
   "name": "python",
   "nbconvert_exporter": "python",
   "pygments_lexer": "ipython3",
   "version": "3.8.13"
  }
 },
 "nbformat": 4,
 "nbformat_minor": 4
}
