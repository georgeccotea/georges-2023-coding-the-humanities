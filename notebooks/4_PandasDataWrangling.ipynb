{
 "cells": [
  {
   "cell_type": "markdown",
   "metadata": {
    "id": "13zUoDymWjoj"
   },
   "source": [
    "# Data Wrangling"
   ]
  },
  {
   "cell_type": "markdown",
   "metadata": {
    "id": "P-GOTpNaWjok"
   },
   "source": [
    "## Contents:\n",
    "\n",
    "* String formatting (f-strings)\n",
    "* Regular expressions (regex)\n",
    "* Pandas (Reading/writing CSV)"
   ]
  },
  {
   "cell_type": "markdown",
   "metadata": {
    "id": "r3kPJNMIWjol"
   },
   "source": [
    "## String formatting"
   ]
  },
  {
   "cell_type": "markdown",
   "metadata": {
    "id": "IlzCXlG5Wjol"
   },
   "source": [
    "Instead of writing a series of `print()` statements with multiple arguments, or concatenating (by `+`) strings, you can also use a Python string formatting method, called `f-strings`. More information can be read in PEP 498: https://www.python.org/dev/peps/pep-0498/"
   ]
  },
  {
   "cell_type": "markdown",
   "metadata": {
    "id": "2WFp8i4pWjom"
   },
   "source": [
    "You can define a string as a template by inserting `{ }` characters with a variable name or expression in between. For this to work, you have to type an `f` in front of the `'`, `\"` or `\"\"\"` start of the string definition. When defined, the string will read with the string value of the variable or the expression filled in. \n",
    "\n",
    "```python\n",
    "name = \"Joe\"\n",
    "text = f\"My name is {name}.\"\n",
    "```\n",
    "\n",
    "Again, if you need a `'` or `\"` in your expression, use the other variant in the Python source code to declare the string. Writing:\n",
    "\n",
    "```python\n",
    "f'This is my {example}.'\n",
    "```\n",
    "\n",
    "is equivalent to:\n",
    "\n",
    "```python\n",
    "f\"This is my {example}.\"\n",
    "```"
   ]
  },
  {
   "cell_type": "code",
   "execution_count": 12,
   "metadata": {
    "id": "ZsWlOdzCWjom"
   },
   "outputs": [
    {
     "name": "stdout",
     "output_type": "stream",
     "text": [
      "My name is Joe.\n",
      "My name is Joe.\n"
     ]
    }
   ],
   "source": [
    "name = \"Joe\"\n",
    "text = f\"My name is {name}.\"\n",
    "\n",
    "print(text)"
   ]
  },
  {
   "cell_type": "code",
   "execution_count": 13,
   "metadata": {
    "id": "XtKqnCWRWjoo"
   },
   "outputs": [
    {
     "name": "stdout",
     "output_type": "stream",
     "text": [
      "\n",
      "Today is Monday. \n",
      "The weather is sunny and you have 8 unread messages. \n",
      "The first three letters of the weekday: Mon\n",
      "An example expression is: 15 ** 2 = 225\n",
      "\n",
      "\n",
      "\n",
      "\n",
      "\n",
      "Today is Monday. \n",
      "The weather is sunny and you have 8 unread messages. \n",
      "The first three letters of the weekday: Mon\n",
      "An example expression is: 15 ** 2 = 225\n",
      "\n",
      "\n",
      "\n",
      "\n"
     ]
    }
   ],
   "source": [
    "day = \"Monday\"\n",
    "weather = \"Sunny\"\n",
    "n_messages = 8\n",
    "\n",
    "#test_dict = {'test': 'test_value'}\n",
    "\n",
    "text = f\"\"\"\n",
    "Today is {day}. \n",
    "The weather is {weather.lower()} and you have {n_messages} unread messages. \n",
    "The first three letters of the weekday: {day[:3]}\n",
    "An example expression is: {15 ** 2 = }\n",
    "\n",
    "\n",
    "\n",
    "\"\"\"\n",
    "#text = f'Test by selecting key: {test_dict[\"text\"]}'\n",
    "\n",
    "\n",
    "print(text)"
   ]
  },
  {
   "cell_type": "markdown",
   "metadata": {
    "id": "rcz2ZzX8Wjoo"
   },
   "source": [
    "---"
   ]
  },
  {
   "cell_type": "markdown",
   "metadata": {
    "id": "6iczszohWjoo"
   },
   "source": [
    "## Regular expressions"
   ]
  },
  {
   "cell_type": "markdown",
   "metadata": {
    "id": "R0KFKUT9Wjoo"
   },
   "source": [
    "Using regular expressions can be very useful when working with texts. It is a powerful search mechanism by which you can search on patterns, instead of 'exact matches'. But, they can be difficult to grasp, at first sight.\n",
    "\n",
    "A **regular expression**, for instance, allows you to substitute all digits in a text, following another text sequence, or to find all urls, phone numbers, or email addresses. Or any text, that meets a particular condition.\n",
    "\n",
    "See the Python manual for the `re` module for more info: https://docs.python.org/3/library/re.html\n",
    "\n",
    "You can/should use a cheatsheet when writing a regular expression. A nice website to write and test them is: https://regex101.com/. \n",
    "\n",
    "Some examples of commonly used expressions:\n",
    "\n",
    "* `\\d` for all digits 0-9\n",
    "* `\\w` for any word character\n",
    "* `[abc]` for a set of characters (here: a, b, c)\n",
    "* `.` any character\n",
    "* `?` the preceding character/pattern 0 or 1 times\n",
    "* `*` the preceding character/pattern 0 or multiple times\n",
    "* `+` the preceding character/pattern 1 or multiple times\n",
    "* `{1,2}` 1 or 2 times\n",
    "* `^` the start of the string\n",
    "* `$` the end of the string\n",
    "* `|` or\n",
    "* `()` capture group (only return this part)\n",
    "\n",
    "In many text editors (e.g. VSCode) there is also an option to search (and replace) with the help of regular expressions. "
   ]
  },
  {
   "cell_type": "markdown",
   "metadata": {
    "id": "UHXRd47uWjop"
   },
   "source": [
    "Python has a regex module built in. When working with a regular expression, you have to import it first:"
   ]
  },
  {
   "cell_type": "code",
   "execution_count": 14,
   "metadata": {
    "id": "FySvVyNZWjop"
   },
   "outputs": [],
   "source": [
    "import re"
   ]
  },
  {
   "cell_type": "markdown",
   "metadata": {
    "id": "SVPG0dw8Wjop"
   },
   "source": [
    "You can use a regular expression for **finding** occurences in a text. Let's say we want to filter out all web urls in a text:"
   ]
  },
  {
   "cell_type": "code",
   "execution_count": 15,
   "metadata": {
    "id": "E4ETED8GWjoq"
   },
   "outputs": [
    {
     "data": {
      "text/plain": "['https://www.google.com/',\n 'https://www.bing.com/',\n 'https://duckduckgo.com/',\n 'http://www.altavista.com/']"
     },
     "execution_count": 6,
     "metadata": {},
     "output_type": "execute_result"
    },
    {
     "data": {
      "text/plain": "['https://www.google.com/',\n 'https://www.bing.com/',\n 'https://duckduckgo.com/',\n 'http://www.altavista.com/']"
     },
     "execution_count": 15,
     "metadata": {},
     "output_type": "execute_result"
    }
   ],
   "source": [
    "text = \"\"\"\n",
    "There are various search engines on the web. \n",
    "There is https://www.google.com/, but also https://www.bing.com/. \n",
    "A more privacy friendly alternative is https://duckduckgo.com/. \n",
    "And who remembers http://www.altavista.com/?\n",
    "\"\"\"\n",
    "\n",
    "re.findall(r'https?://.+?/', text)"
   ]
  },
  {
   "cell_type": "code",
   "execution_count": 16,
   "metadata": {
    "id": "nljkoZR6Wjoq"
   },
   "outputs": [
    {
     "data": {
      "text/plain": "['The Shawshank Redemption (1994)',\n 'The Godfather (1972)',\n 'The Dark Knight (2008)']"
     },
     "execution_count": 7,
     "metadata": {},
     "output_type": "execute_result"
    },
    {
     "data": {
      "text/plain": "['The Shawshank Redemption (1994)',\n 'The Godfather (1972)',\n 'The Dark Knight (2008)']"
     },
     "execution_count": 16,
     "metadata": {},
     "output_type": "execute_result"
    }
   ],
   "source": [
    "# Copied from https://www.imdb.com/search/title/?groups=top_250&sort=user_rating\n",
    "\n",
    "text = \"\"\"\n",
    "1. The Shawshank Redemption (1994)\n",
    "12 | 142 min | Drama\n",
    "\n",
    " 9,3  Rate this 80 Metascore\n",
    "Two imprisoned men bond over a number of years, finding solace and eventual redemption through acts of common decency.\n",
    "\n",
    "Director: Frank Darabont | Stars: Tim Robbins, Morgan Freeman, Bob Gunton, William Sadler\n",
    "\n",
    "Votes: 2.355.643 | Gross: $28.34M\n",
    "\n",
    "2. The Godfather (1972)\n",
    "16 | 175 min | Crime, Drama\n",
    "\n",
    " 9,2  Rate this 100 Metascore\n",
    "An organized crime dynasty's aging patriarch transfers control of his clandestine empire to his reluctant son.\n",
    "\n",
    "Director: Francis Ford Coppola | Stars: Marlon Brando, Al Pacino, James Caan, Diane Keaton\n",
    "\n",
    "Votes: 1.630.157 | Gross: $134.97M\n",
    "\n",
    "3. The Dark Knight (2008)\n",
    "16 | 152 min | Action, Crime, Drama\n",
    "\n",
    " 9,0  Rate this 84 Metascore\n",
    "When the menace known as the Joker wreaks havoc and chaos on the people of Gotham, Batman must accept one of the greatest psychological and physical tests of his ability to fight injustice.\n",
    "\n",
    "Director: Christopher Nolan | Stars: Christian Bale, Heath Ledger, Aaron Eckhart, Michael Caine\n",
    "\n",
    "Votes: 2.315.134 | Gross: $534.86M\n",
    "\"\"\"\n",
    "\n",
    "titles = re.findall(r'\\d{1,2}\\. (.+)', text)\n",
    "titles"
   ]
  },
  {
   "cell_type": "markdown",
   "metadata": {
    "id": "ojLPhJ-0Wjor"
   },
   "source": [
    "### Quiz\n",
    "Try to get a list of all directors. And the gross income. "
   ]
  },
  {
   "cell_type": "code",
   "execution_count": 17,
   "metadata": {
    "id": "wvFlrH_BWjor"
   },
   "outputs": [
    {
     "data": {
      "text/plain": "['Frank Darabont', 'Francis Ford Coppola', 'Christopher Nolan']"
     },
     "execution_count": 8,
     "metadata": {},
     "output_type": "execute_result"
    },
    {
     "data": {
      "text/plain": "['Frank Darabont', 'Francis Ford Coppola', 'Christopher Nolan']"
     },
     "execution_count": 17,
     "metadata": {},
     "output_type": "execute_result"
    }
   ],
   "source": [
    "# Getting a list of all directors\n",
    "directors = re.findall(r'Director: (.+?)\\s\\|', text)\n",
    "directors"
   ]
  },
  {
   "cell_type": "code",
   "execution_count": 18,
   "metadata": {
    "id": "0-uZoKO2Wjos"
   },
   "outputs": [
    {
     "data": {
      "text/plain": "['28.34', '134.97', '534.86']"
     },
     "execution_count": 9,
     "metadata": {},
     "output_type": "execute_result"
    },
    {
     "data": {
      "text/plain": "['28.34', '134.97', '534.86']"
     },
     "execution_count": 18,
     "metadata": {},
     "output_type": "execute_result"
    }
   ],
   "source": [
    "# Gross income\n",
    "grossIncome= re.findall(r'Gross: \\$(.+?)M', text)\n",
    "grossIncome"
   ]
  },
  {
   "cell_type": "markdown",
   "metadata": {
    "id": "-x_xCtNQWjos"
   },
   "source": [
    "Or, you can use a regular expression to **replace** a character sequence. This is an equivalent to the `.replace()` function, but allows more variance in the string matching."
   ]
  },
  {
   "cell_type": "code",
   "execution_count": 19,
   "metadata": {
    "id": "zsNVQetBWjos"
   },
   "outputs": [
    {
     "name": "stdout",
     "output_type": "stream",
     "text": [
      "\n",
      "T. Robbins\n",
      "M. Freeman\n",
      "B. Gunton\n",
      "W. Sadler\n",
      "M. Brando\n",
      "A. Pacino\n",
      "J. Caan\n",
      "D. Keaton\n",
      "C. Bale\n",
      "H. Ledger\n",
      "A. Eckhart\n",
      "M. Caine\n",
      "\n",
      "\n",
      "T. Robbins\n",
      "M. Freeman\n",
      "B. Gunton\n",
      "W. Sadler\n",
      "M. Brando\n",
      "A. Pacino\n",
      "J. Caan\n",
      "D. Keaton\n",
      "C. Bale\n",
      "H. Ledger\n",
      "A. Eckhart\n",
      "M. Caine\n",
      "\n"
     ]
    }
   ],
   "source": [
    "text = \"\"\"\n",
    "Tim Robbins\n",
    "Morgan Freeman\n",
    "Bob Gunton\n",
    "William Sadler\n",
    "Marlon Brando\n",
    "Al Pacino\n",
    "James Caan\n",
    "Diane Keaton\n",
    "Christian Bale\n",
    "Heath Ledger\n",
    "Aaron Eckhart\n",
    "Michael Caine\n",
    "\"\"\"\n",
    "\n",
    "# Hint: test this with https://regex101.com/\n",
    "new_text = re.sub(r\"(?:(\\w)\\w+) (\\w+)\", r\"\\1. \\2\", text)\n",
    "\n",
    "print(new_text)"
   ]
  },
  {
   "cell_type": "markdown",
   "metadata": {
    "id": "ZdYs70QQWjot"
   },
   "source": [
    "---"
   ]
  },
  {
   "cell_type": "markdown",
   "metadata": {
    "id": "-gWLRatDWjot"
   },
   "source": [
    "# Data wrangling with Pandas"
   ]
  },
  {
   "cell_type": "markdown",
   "metadata": {
    "id": "0DIIgvmlWjot"
   },
   "source": [
    "## CSV (in Pandas)\n",
    "\n",
    "The other often used file type is CSV (Comma Separated Values), or variants, such as TSV (Tab Separated Values). Python includes another built-in module to deal with these files: the `csv` module. But, we will be using the `Pandas` module, the go-to package for data analysis, that you already imported and updated in Notebook 0. \n",
    "\n",
    "A CSV file is similar to an Excel or Google Docs spreadsheet, but more limited in markup and functionality (e.g. you cannot store Excel functions). It is just a text file in which individual entries correspond to lines, and columns are separated by a comma. You can always open a CSV file with a text editor, and this also makes it so easy to store and share data with.\n",
    "\n",
    "For the rest of the notebook we will see how to work with the two main data types in `pandas`: the `DataFrame` and a `Series`.\n",
    "\n",
    "Information on functions and modules of Pandas cannot be found in the Python manual online, as it is an external package. Instead, you can refer to https://pandas.pydata.org/pandas-docs/stable/index.html ."
   ]
  },
  {
   "cell_type": "markdown",
   "metadata": {
    "id": "rfESw9J_Wjou"
   },
   "source": [
    "### `DataFrame`\n",
    "\n",
    "\n",
    "What is a `pandas.DataFrame`? \n",
    "\n",
    "A `DataFrame` is a collection of `Series` having the same length and whose indexes are in sync. A *collection* means that each column of a dataframe is a series. You can also see it as a spreadheet in memory, that also allows for inclusion of Python objects."
   ]
  },
  {
   "cell_type": "markdown",
   "metadata": {
    "id": "6OAUHYSaWjou"
   },
   "source": [
    "We first have to import the package. It's a convention to do this like so with Pandas, which makes the elements from this package (classes, functions, methods) available under its abbreviation `pd`:"
   ]
  },
  {
   "cell_type": "code",
   "execution_count": 23,
   "metadata": {
    "id": "N8fYArBwWjou"
   },
   "outputs": [],
   "source": [
    "import pandas as pd"
   ]
  },
  {
   "cell_type": "markdown",
   "metadata": {
    "id": "nkT3_k-KWjov"
   },
   "source": [
    "Next is loading the data. The following data comes from Wikipedia and was [automatically](https://query.wikidata.org/#%0ASELECT%20DISTINCT%20%3FmovieLabel%20%3Fimdb%20%28MIN%28%3FpublicationYear%29%20as%20%3Fyear%29%20%28year%28%3Fdate%29%20as%20%3Faward_year%29%20%28group_concat%28DISTINCT%20%3FdirectorLabel%3Bseparator%3D%22%2C%20%22%29%20as%20%3Fdirectors%20%29%20%28group_concat%28DISTINCT%20%3FcompanyLabel%3Bseparator%3D%22%2C%20%22%29%20as%20%3Fcompanies%29%20%3Fmale_cast%20%3Ffemale_cast%20WHERE%20%7B%0A%20%20%0A%20%20%7B%0A%20%20%3Fmovie%20p%3AP166%20%3Fawardstatement%20%3B%0A%20%20%20%20%20%20%20%20%20wdt%3AP345%20%3Fimdb%20%3B%0A%20%20%20%20%20%20%20%20%20wdt%3AP577%20%3Fpublication%20%3B%0A%20%20%20%20%20%20%20%20%20wdt%3AP57%20%3Fdirector%20%3B%0A%20%20%20%20%20%20%20%20%20wdt%3AP272%20%3Fcompany%20%3B%0A%20%20%20%20%20%20%20%20%20wdt%3AP31%20wd%3AQ11424%20.%0A%20%20%0A%20%20%3Fawardstatement%20ps%3AP166%20wd%3AQ102427%20%3B%20%0A%20%20%20%20%20%20%20%20%20%20%20%20%20%20%20%20%20%20pq%3AP585%20%3Fdate%20.%0A%20%20%7D%0A%20%20%0A%20%20BIND%28year%28%3Fpublication%29%20as%20%3FpublicationYear%29%0A%20%20%0A%20%20%7B%0A%20%20%20%20%20SELECT%20%3Fmovie%20%28COUNT%28%3Fcast_member%29%20AS%20%3Fmale_cast%29%20WHERE%20%7B%0A%20%20%20%20%20%20%3Fmovie%20wdt%3AP161%20%3Fcast_member%20.%0A%20%20%20%20%20%20%3Fcast_member%20wdt%3AP21%20wd%3AQ6581097%20.%0A%20%20%20%20%7D%20GROUP%20BY%20%3Fmovie%0A%7D%20%7B%0A%20%20%20%20SELECT%20%3Fmovie%20%28COUNT%28%3Fcast_member%29%20AS%20%3Ffemale_cast%29%20WHERE%20%7B%0A%20%20%20%20%20%20%3Fmovie%20wdt%3AP161%20%3Fcast_member%20.%0A%20%20%20%20%20%20%3Fcast_member%20wdt%3AP21%20wd%3AQ6581072%20.%0A%20%20%20%20%7D%20GROUP%20BY%20%3Fmovie%0A%20%20%7D%0A%20%20%0A%20%20SERVICE%20wikibase%3Alabel%20%7B%20%0A%20%20%20%20bd%3AserviceParam%20wikibase%3Alanguage%20%22en%22%20.%0A%20%20%20%20%3Fmovie%20rdfs%3Alabel%20%3FmovieLabel%20.%0A%20%20%20%20%3Fdirector%20rdfs%3Alabel%20%3FdirectorLabel%20.%0A%20%20%20%20%3Fcompany%20rdfs%3Alabel%20%3FcompanyLabel%20.%20%0A%20%20%7D%0A%7D%20%0A%0AGROUP%20BY%20%3FmovieLabel%20%3Fimdb%20%3Fdate%20%3Fmale_cast%20%3Ffemale_cast%0AORDER%20BY%20%3Fyear%20) retreived. It is an overview of all movies that have won an Academy Award for Best Picture, including some extra data for the movie: a link to the IMDB, the publication and award year, the director(s), production company and the number of male and female actors in the cast. It can be that this data is incorrect, because this information is not entered in Wikipedia. \n",
    "\n",
    "You can find this file in `data/academyawards.csv`. Download it from the repository and save it in the data folder if you don't have it. "
   ]
  },
  {
   "cell_type": "markdown",
   "metadata": {
    "id": "TYq-OoIiWjov"
   },
   "source": [
    "Reading in a csv with pandas is easy. We call the `pd.read_csv()` function with the file path as argument. Pandas takes care of opening and closing the file, so a `with` statement is not needed. The contents of the csv file are then read in a Pandas DataFrame object. We can store this in the variable `df`. \n",
    "\n",
    "Calling this variable in a Jypyter Notebook gives back a nicely formatted table with the first and last 5 rows of the file. "
   ]
  },
  {
   "cell_type": "code",
   "execution_count": 24,
   "metadata": {
    "id": "UmPotvtEWjov"
   },
   "outputs": [
    {
     "data": {
      "text/plain": "                             movie       imdb  year  award_year  \\\n0                            Wings  tt0018578  1927        1929   \n1              The Broadway Melody  tt0019729  1929        1930   \n2   All Quiet on the Western Front  tt0020629  1930        1930   \n3                         Cimarron  tt0021746  1931        1931   \n4                      Grand Hotel  tt0022958  1932        1932   \n..                             ...        ...   ...         ...   \n80                       Spotlight  tt1895587  2015        2016   \n81                       Moonlight  tt4975722  2016        2017   \n82              The Shape of Water  tt5580390  2017        2018   \n83                      Green Book  tt6966692  2018        2019   \n84                        Parasite  tt6751668  2019        2020   \n\n                                       directors  \\\n0   William A. Wellman, Harry d’Abbadie d’Arrast   \n1                                 Harry Beaumont   \n2                     Lewis Milestone, Nate Watt   \n3                                 Wesley Ruggles   \n4                                Edmund Goulding   \n..                                           ...   \n80                                  Tom McCarthy   \n81                                 Barry Jenkins   \n82                            Guillermo del Toro   \n83                                Peter Farrelly   \n84                                  Bong Joon-ho   \n\n                                            companies  male_cast  female_cast  \n0                                  Paramount Pictures         12            5  \n1                                 Metro-Goldwyn-Mayer          4            3  \n2                                  Universal Pictures         22            6  \n3                                        RKO Pictures         13            6  \n4                                 Metro-Goldwyn-Mayer         19            8  \n..                                                ...        ...          ...  \n80                     Anonymous Content, Participant         15            2  \n81                          Plan B Entertainment, A24          6            2  \n82            Searchlight Pictures, TSG Entertainment          8            3  \n83  Universal Pictures, DreamWorks, Participant, A...          7            1  \n84                     CJ Entertainment, Barunson E&A          5            5  \n\n[85 rows x 8 columns]",
      "text/html": "<div>\n<style scoped>\n    .dataframe tbody tr th:only-of-type {\n        vertical-align: middle;\n    }\n\n    .dataframe tbody tr th {\n        vertical-align: top;\n    }\n\n    .dataframe thead th {\n        text-align: right;\n    }\n</style>\n<table border=\"1\" class=\"dataframe\">\n  <thead>\n    <tr style=\"text-align: right;\">\n      <th></th>\n      <th>movie</th>\n      <th>imdb</th>\n      <th>year</th>\n      <th>award_year</th>\n      <th>directors</th>\n      <th>companies</th>\n      <th>male_cast</th>\n      <th>female_cast</th>\n    </tr>\n  </thead>\n  <tbody>\n    <tr>\n      <th>0</th>\n      <td>Wings</td>\n      <td>tt0018578</td>\n      <td>1927</td>\n      <td>1929</td>\n      <td>William A. Wellman, Harry d’Abbadie d’Arrast</td>\n      <td>Paramount Pictures</td>\n      <td>12</td>\n      <td>5</td>\n    </tr>\n    <tr>\n      <th>1</th>\n      <td>The Broadway Melody</td>\n      <td>tt0019729</td>\n      <td>1929</td>\n      <td>1930</td>\n      <td>Harry Beaumont</td>\n      <td>Metro-Goldwyn-Mayer</td>\n      <td>4</td>\n      <td>3</td>\n    </tr>\n    <tr>\n      <th>2</th>\n      <td>All Quiet on the Western Front</td>\n      <td>tt0020629</td>\n      <td>1930</td>\n      <td>1930</td>\n      <td>Lewis Milestone, Nate Watt</td>\n      <td>Universal Pictures</td>\n      <td>22</td>\n      <td>6</td>\n    </tr>\n    <tr>\n      <th>3</th>\n      <td>Cimarron</td>\n      <td>tt0021746</td>\n      <td>1931</td>\n      <td>1931</td>\n      <td>Wesley Ruggles</td>\n      <td>RKO Pictures</td>\n      <td>13</td>\n      <td>6</td>\n    </tr>\n    <tr>\n      <th>4</th>\n      <td>Grand Hotel</td>\n      <td>tt0022958</td>\n      <td>1932</td>\n      <td>1932</td>\n      <td>Edmund Goulding</td>\n      <td>Metro-Goldwyn-Mayer</td>\n      <td>19</td>\n      <td>8</td>\n    </tr>\n    <tr>\n      <th>...</th>\n      <td>...</td>\n      <td>...</td>\n      <td>...</td>\n      <td>...</td>\n      <td>...</td>\n      <td>...</td>\n      <td>...</td>\n      <td>...</td>\n    </tr>\n    <tr>\n      <th>80</th>\n      <td>Spotlight</td>\n      <td>tt1895587</td>\n      <td>2015</td>\n      <td>2016</td>\n      <td>Tom McCarthy</td>\n      <td>Anonymous Content, Participant</td>\n      <td>15</td>\n      <td>2</td>\n    </tr>\n    <tr>\n      <th>81</th>\n      <td>Moonlight</td>\n      <td>tt4975722</td>\n      <td>2016</td>\n      <td>2017</td>\n      <td>Barry Jenkins</td>\n      <td>Plan B Entertainment, A24</td>\n      <td>6</td>\n      <td>2</td>\n    </tr>\n    <tr>\n      <th>82</th>\n      <td>The Shape of Water</td>\n      <td>tt5580390</td>\n      <td>2017</td>\n      <td>2018</td>\n      <td>Guillermo del Toro</td>\n      <td>Searchlight Pictures, TSG Entertainment</td>\n      <td>8</td>\n      <td>3</td>\n    </tr>\n    <tr>\n      <th>83</th>\n      <td>Green Book</td>\n      <td>tt6966692</td>\n      <td>2018</td>\n      <td>2019</td>\n      <td>Peter Farrelly</td>\n      <td>Universal Pictures, DreamWorks, Participant, A...</td>\n      <td>7</td>\n      <td>1</td>\n    </tr>\n    <tr>\n      <th>84</th>\n      <td>Parasite</td>\n      <td>tt6751668</td>\n      <td>2019</td>\n      <td>2020</td>\n      <td>Bong Joon-ho</td>\n      <td>CJ Entertainment, Barunson E&amp;A</td>\n      <td>5</td>\n      <td>5</td>\n    </tr>\n  </tbody>\n</table>\n<p>85 rows × 8 columns</p>\n</div>"
     },
     "execution_count": 24,
     "metadata": {},
     "output_type": "execute_result"
    }
   ],
   "source": [
    "df = pd.read_csv('data/academyawards.csv', encoding='utf-8')\n",
    "df"
   ]
  },
  {
   "cell_type": "markdown",
   "metadata": {
    "id": "-HYWyDLjWjov"
   },
   "source": [
    "Think of a `DataFrame` as an in-memory spreadsheet that you can analyse and manipulate programmatically. Or, think of it as a table in which every line is a data entry, and every column holds specific information on this data.\n",
    "\n",
    "These columns can also be seen as lists of values. They are ordered and the index of an element corresponds with the index of the data entry. The collection of all such columns is what makes the DataFrame. One column in a table is represented by a Pandas `Series`, which collects observations about a given variable. Multiple columns are a `DataFrame`. A DataFrame therefore is a collection of lists (=columns), or `Series`.\n",
    "\n",
    "If you look for other methods on `pd` you can call, you'll also see that there is an `pd.read_excel()` option to read spreadsheets in `.xls` or `.xlsx`. You can also  use this, if you have these kind of files."
   ]
  },
  {
   "cell_type": "markdown",
   "metadata": {
    "id": "VYFYCw1IWjow"
   },
   "source": [
    "### Statistics\n",
    "Now that we loaded our DataFrame, we can make pandas print some statistics on the file. "
   ]
  },
  {
   "cell_type": "code",
   "execution_count": 25,
   "metadata": {
    "id": "3L5rU-RMWjow"
   },
   "outputs": [
    {
     "data": {
      "text/plain": "   movie       imdb  year  award_year  \\\n0  Wings  tt0018578  1927        1929   \n\n                                      directors           companies  \\\n0  William A. Wellman, Harry d’Abbadie d’Arrast  Paramount Pictures   \n\n   male_cast  female_cast  \n0         12            5  ",
      "text/html": "<div>\n<style scoped>\n    .dataframe tbody tr th:only-of-type {\n        vertical-align: middle;\n    }\n\n    .dataframe tbody tr th {\n        vertical-align: top;\n    }\n\n    .dataframe thead th {\n        text-align: right;\n    }\n</style>\n<table border=\"1\" class=\"dataframe\">\n  <thead>\n    <tr style=\"text-align: right;\">\n      <th></th>\n      <th>movie</th>\n      <th>imdb</th>\n      <th>year</th>\n      <th>award_year</th>\n      <th>directors</th>\n      <th>companies</th>\n      <th>male_cast</th>\n      <th>female_cast</th>\n    </tr>\n  </thead>\n  <tbody>\n    <tr>\n      <th>0</th>\n      <td>Wings</td>\n      <td>tt0018578</td>\n      <td>1927</td>\n      <td>1929</td>\n      <td>William A. Wellman, Harry d’Abbadie d’Arrast</td>\n      <td>Paramount Pictures</td>\n      <td>12</td>\n      <td>5</td>\n    </tr>\n  </tbody>\n</table>\n</div>"
     },
     "execution_count": 25,
     "metadata": {},
     "output_type": "execute_result"
    }
   ],
   "source": [
    "df.head(1)  # First 5 rows"
   ]
  },
  {
   "cell_type": "code",
   "execution_count": 26,
   "metadata": {
    "id": "rGg7zsP9Wjow"
   },
   "outputs": [
    {
     "data": {
      "text/plain": "                 movie       imdb  year  award_year           directors  \\\n80           Spotlight  tt1895587  2015        2016        Tom McCarthy   \n81           Moonlight  tt4975722  2016        2017       Barry Jenkins   \n82  The Shape of Water  tt5580390  2017        2018  Guillermo del Toro   \n83          Green Book  tt6966692  2018        2019      Peter Farrelly   \n84            Parasite  tt6751668  2019        2020        Bong Joon-ho   \n\n                                            companies  male_cast  female_cast  \n80                     Anonymous Content, Participant         15            2  \n81                          Plan B Entertainment, A24          6            2  \n82            Searchlight Pictures, TSG Entertainment          8            3  \n83  Universal Pictures, DreamWorks, Participant, A...          7            1  \n84                     CJ Entertainment, Barunson E&A          5            5  ",
      "text/html": "<div>\n<style scoped>\n    .dataframe tbody tr th:only-of-type {\n        vertical-align: middle;\n    }\n\n    .dataframe tbody tr th {\n        vertical-align: top;\n    }\n\n    .dataframe thead th {\n        text-align: right;\n    }\n</style>\n<table border=\"1\" class=\"dataframe\">\n  <thead>\n    <tr style=\"text-align: right;\">\n      <th></th>\n      <th>movie</th>\n      <th>imdb</th>\n      <th>year</th>\n      <th>award_year</th>\n      <th>directors</th>\n      <th>companies</th>\n      <th>male_cast</th>\n      <th>female_cast</th>\n    </tr>\n  </thead>\n  <tbody>\n    <tr>\n      <th>80</th>\n      <td>Spotlight</td>\n      <td>tt1895587</td>\n      <td>2015</td>\n      <td>2016</td>\n      <td>Tom McCarthy</td>\n      <td>Anonymous Content, Participant</td>\n      <td>15</td>\n      <td>2</td>\n    </tr>\n    <tr>\n      <th>81</th>\n      <td>Moonlight</td>\n      <td>tt4975722</td>\n      <td>2016</td>\n      <td>2017</td>\n      <td>Barry Jenkins</td>\n      <td>Plan B Entertainment, A24</td>\n      <td>6</td>\n      <td>2</td>\n    </tr>\n    <tr>\n      <th>82</th>\n      <td>The Shape of Water</td>\n      <td>tt5580390</td>\n      <td>2017</td>\n      <td>2018</td>\n      <td>Guillermo del Toro</td>\n      <td>Searchlight Pictures, TSG Entertainment</td>\n      <td>8</td>\n      <td>3</td>\n    </tr>\n    <tr>\n      <th>83</th>\n      <td>Green Book</td>\n      <td>tt6966692</td>\n      <td>2018</td>\n      <td>2019</td>\n      <td>Peter Farrelly</td>\n      <td>Universal Pictures, DreamWorks, Participant, A...</td>\n      <td>7</td>\n      <td>1</td>\n    </tr>\n    <tr>\n      <th>84</th>\n      <td>Parasite</td>\n      <td>tt6751668</td>\n      <td>2019</td>\n      <td>2020</td>\n      <td>Bong Joon-ho</td>\n      <td>CJ Entertainment, Barunson E&amp;A</td>\n      <td>5</td>\n      <td>5</td>\n    </tr>\n  </tbody>\n</table>\n</div>"
     },
     "execution_count": 26,
     "metadata": {},
     "output_type": "execute_result"
    }
   ],
   "source": [
    "df.tail()  # Last 5 rows"
   ]
  },
  {
   "cell_type": "code",
   "execution_count": 27,
   "metadata": {
    "id": "8DuLyUR9Wjow"
   },
   "outputs": [
    {
     "data": {
      "text/plain": "              year   award_year  male_cast  female_cast\ncount    85.000000    85.000000  85.000000    85.000000\nmean   1974.164706  1975.164706  16.858824     5.835294\nstd      27.288951    27.350828  12.125488     4.369393\nmin    1927.000000  1929.000000   4.000000     1.000000\n25%    1950.000000  1951.000000   9.000000     3.000000\n50%    1975.000000  1976.000000  14.000000     5.000000\n75%    1998.000000  1999.000000  21.000000     7.000000\nmax    2019.000000  2020.000000  89.000000    29.000000",
      "text/html": "<div>\n<style scoped>\n    .dataframe tbody tr th:only-of-type {\n        vertical-align: middle;\n    }\n\n    .dataframe tbody tr th {\n        vertical-align: top;\n    }\n\n    .dataframe thead th {\n        text-align: right;\n    }\n</style>\n<table border=\"1\" class=\"dataframe\">\n  <thead>\n    <tr style=\"text-align: right;\">\n      <th></th>\n      <th>year</th>\n      <th>award_year</th>\n      <th>male_cast</th>\n      <th>female_cast</th>\n    </tr>\n  </thead>\n  <tbody>\n    <tr>\n      <th>count</th>\n      <td>85.000000</td>\n      <td>85.000000</td>\n      <td>85.000000</td>\n      <td>85.000000</td>\n    </tr>\n    <tr>\n      <th>mean</th>\n      <td>1974.164706</td>\n      <td>1975.164706</td>\n      <td>16.858824</td>\n      <td>5.835294</td>\n    </tr>\n    <tr>\n      <th>std</th>\n      <td>27.288951</td>\n      <td>27.350828</td>\n      <td>12.125488</td>\n      <td>4.369393</td>\n    </tr>\n    <tr>\n      <th>min</th>\n      <td>1927.000000</td>\n      <td>1929.000000</td>\n      <td>4.000000</td>\n      <td>1.000000</td>\n    </tr>\n    <tr>\n      <th>25%</th>\n      <td>1950.000000</td>\n      <td>1951.000000</td>\n      <td>9.000000</td>\n      <td>3.000000</td>\n    </tr>\n    <tr>\n      <th>50%</th>\n      <td>1975.000000</td>\n      <td>1976.000000</td>\n      <td>14.000000</td>\n      <td>5.000000</td>\n    </tr>\n    <tr>\n      <th>75%</th>\n      <td>1998.000000</td>\n      <td>1999.000000</td>\n      <td>21.000000</td>\n      <td>7.000000</td>\n    </tr>\n    <tr>\n      <th>max</th>\n      <td>2019.000000</td>\n      <td>2020.000000</td>\n      <td>89.000000</td>\n      <td>29.000000</td>\n    </tr>\n  </tbody>\n</table>\n</div>"
     },
     "execution_count": 27,
     "metadata": {},
     "output_type": "execute_result"
    }
   ],
   "source": [
    "df.describe()  # Descriptive statistics"
   ]
  },
  {
   "cell_type": "markdown",
   "metadata": {
    "id": "n-1bGEcMWjox"
   },
   "source": [
    "As you can see by what they return, these methods return another DataFrame with some descriptive statistics on the file, such as the number of entries (count), the mean of the numerical values, the standard deviation, minimum and maximum values, and the 25th, 50th, and 75th percentiles."
   ]
  },
  {
   "cell_type": "markdown",
   "metadata": {
    "id": "8ZYj1kD7Wjox"
   },
   "source": [
    "The `.info()` method can also be informative. It gives you information about a dataframe:\n",
    "- how much space does it take in memory?\n",
    "- what is the datatype of each column?\n",
    "- how many records are there?\n",
    "- how many `null` values does each column contain (!)?"
   ]
  },
  {
   "cell_type": "code",
   "execution_count": 28,
   "metadata": {
    "id": "4uRZBDUSWjox"
   },
   "outputs": [
    {
     "name": "stdout",
     "output_type": "stream",
     "text": [
      "<class 'pandas.core.frame.DataFrame'>\n",
      "RangeIndex: 85 entries, 0 to 84\n",
      "Data columns (total 8 columns):\n",
      " #   Column       Non-Null Count  Dtype \n",
      "---  ------       --------------  ----- \n",
      " 0   movie        85 non-null     object\n",
      " 1   imdb         85 non-null     object\n",
      " 2   year         85 non-null     int64 \n",
      " 3   award_year   85 non-null     int64 \n",
      " 4   directors    85 non-null     object\n",
      " 5   companies    85 non-null     object\n",
      " 6   male_cast    85 non-null     int64 \n",
      " 7   female_cast  85 non-null     int64 \n",
      "dtypes: int64(4), object(4)\n",
      "memory usage: 5.4+ KB\n"
     ]
    }
   ],
   "source": [
    "df.info()"
   ]
  },
  {
   "cell_type": "markdown",
   "metadata": {
    "id": "b4KMJ_iRWjox"
   },
   "source": [
    "Pandas automatically interprets which datatypes are used in the file, but this is not always correct. Especially if you have empty fields in the DataFrame, any other integers get interpreted as float. Every column has one datatype. You can check them separately by requesting the `.dtypes` argument on the `df`. \n",
    "\n",
    "The 'object' type is a string in this file, 'int64' is an integer. "
   ]
  },
  {
   "cell_type": "code",
   "execution_count": 29,
   "metadata": {
    "id": "zhqOi1OWWjoy"
   },
   "outputs": [
    {
     "data": {
      "text/plain": "movie          object\nimdb           object\nyear            int64\naward_year      int64\ndirectors      object\ncompanies      object\nmale_cast       int64\nfemale_cast     int64\ndtype: object"
     },
     "execution_count": 29,
     "metadata": {},
     "output_type": "execute_result"
    }
   ],
   "source": [
    "df.dtypes"
   ]
  },
  {
   "cell_type": "markdown",
   "metadata": {
    "id": "-efRk_jcWjoy"
   },
   "source": [
    "We expect different datatypes for the description-dataframe:"
   ]
  },
  {
   "cell_type": "code",
   "execution_count": 30,
   "metadata": {
    "id": "saBMJ_S4Wjoy"
   },
   "outputs": [
    {
     "data": {
      "text/plain": "year           float64\naward_year     float64\nmale_cast      float64\nfemale_cast    float64\ndtype: object"
     },
     "execution_count": 30,
     "metadata": {},
     "output_type": "execute_result"
    }
   ],
   "source": [
    "description_df = df.describe()\n",
    "description_df.dtypes"
   ]
  },
  {
   "cell_type": "markdown",
   "metadata": {
    "id": "7Sxekrz5Wjoy"
   },
   "source": [
    "### Slicing and selecting"
   ]
  },
  {
   "cell_type": "markdown",
   "metadata": {
    "id": "EdvQxN2rWjoy"
   },
   "source": [
    "#### `df['column1']`\n",
    "You can select a single column by calling this column name as if the DataFrame was a dictionary. A single column from a DataFrame returns a `Series` object. "
   ]
  },
  {
   "cell_type": "code",
   "execution_count": 31,
   "metadata": {
    "id": "sjl04WKLWjoy"
   },
   "outputs": [
    {
     "data": {
      "text/plain": "                             movie       imdb  year  award_year  \\\n0                            Wings  tt0018578  1927        1929   \n1              The Broadway Melody  tt0019729  1929        1930   \n2   All Quiet on the Western Front  tt0020629  1930        1930   \n3                         Cimarron  tt0021746  1931        1931   \n4                      Grand Hotel  tt0022958  1932        1932   \n..                             ...        ...   ...         ...   \n80                       Spotlight  tt1895587  2015        2016   \n81                       Moonlight  tt4975722  2016        2017   \n82              The Shape of Water  tt5580390  2017        2018   \n83                      Green Book  tt6966692  2018        2019   \n84                        Parasite  tt6751668  2019        2020   \n\n                                       directors  \\\n0   William A. Wellman, Harry d’Abbadie d’Arrast   \n1                                 Harry Beaumont   \n2                     Lewis Milestone, Nate Watt   \n3                                 Wesley Ruggles   \n4                                Edmund Goulding   \n..                                           ...   \n80                                  Tom McCarthy   \n81                                 Barry Jenkins   \n82                            Guillermo del Toro   \n83                                Peter Farrelly   \n84                                  Bong Joon-ho   \n\n                                            companies  male_cast  female_cast  \n0                                  Paramount Pictures         12            5  \n1                                 Metro-Goldwyn-Mayer          4            3  \n2                                  Universal Pictures         22            6  \n3                                        RKO Pictures         13            6  \n4                                 Metro-Goldwyn-Mayer         19            8  \n..                                                ...        ...          ...  \n80                     Anonymous Content, Participant         15            2  \n81                          Plan B Entertainment, A24          6            2  \n82            Searchlight Pictures, TSG Entertainment          8            3  \n83  Universal Pictures, DreamWorks, Participant, A...          7            1  \n84                     CJ Entertainment, Barunson E&A          5            5  \n\n[85 rows x 8 columns]",
      "text/html": "<div>\n<style scoped>\n    .dataframe tbody tr th:only-of-type {\n        vertical-align: middle;\n    }\n\n    .dataframe tbody tr th {\n        vertical-align: top;\n    }\n\n    .dataframe thead th {\n        text-align: right;\n    }\n</style>\n<table border=\"1\" class=\"dataframe\">\n  <thead>\n    <tr style=\"text-align: right;\">\n      <th></th>\n      <th>movie</th>\n      <th>imdb</th>\n      <th>year</th>\n      <th>award_year</th>\n      <th>directors</th>\n      <th>companies</th>\n      <th>male_cast</th>\n      <th>female_cast</th>\n    </tr>\n  </thead>\n  <tbody>\n    <tr>\n      <th>0</th>\n      <td>Wings</td>\n      <td>tt0018578</td>\n      <td>1927</td>\n      <td>1929</td>\n      <td>William A. Wellman, Harry d’Abbadie d’Arrast</td>\n      <td>Paramount Pictures</td>\n      <td>12</td>\n      <td>5</td>\n    </tr>\n    <tr>\n      <th>1</th>\n      <td>The Broadway Melody</td>\n      <td>tt0019729</td>\n      <td>1929</td>\n      <td>1930</td>\n      <td>Harry Beaumont</td>\n      <td>Metro-Goldwyn-Mayer</td>\n      <td>4</td>\n      <td>3</td>\n    </tr>\n    <tr>\n      <th>2</th>\n      <td>All Quiet on the Western Front</td>\n      <td>tt0020629</td>\n      <td>1930</td>\n      <td>1930</td>\n      <td>Lewis Milestone, Nate Watt</td>\n      <td>Universal Pictures</td>\n      <td>22</td>\n      <td>6</td>\n    </tr>\n    <tr>\n      <th>3</th>\n      <td>Cimarron</td>\n      <td>tt0021746</td>\n      <td>1931</td>\n      <td>1931</td>\n      <td>Wesley Ruggles</td>\n      <td>RKO Pictures</td>\n      <td>13</td>\n      <td>6</td>\n    </tr>\n    <tr>\n      <th>4</th>\n      <td>Grand Hotel</td>\n      <td>tt0022958</td>\n      <td>1932</td>\n      <td>1932</td>\n      <td>Edmund Goulding</td>\n      <td>Metro-Goldwyn-Mayer</td>\n      <td>19</td>\n      <td>8</td>\n    </tr>\n    <tr>\n      <th>...</th>\n      <td>...</td>\n      <td>...</td>\n      <td>...</td>\n      <td>...</td>\n      <td>...</td>\n      <td>...</td>\n      <td>...</td>\n      <td>...</td>\n    </tr>\n    <tr>\n      <th>80</th>\n      <td>Spotlight</td>\n      <td>tt1895587</td>\n      <td>2015</td>\n      <td>2016</td>\n      <td>Tom McCarthy</td>\n      <td>Anonymous Content, Participant</td>\n      <td>15</td>\n      <td>2</td>\n    </tr>\n    <tr>\n      <th>81</th>\n      <td>Moonlight</td>\n      <td>tt4975722</td>\n      <td>2016</td>\n      <td>2017</td>\n      <td>Barry Jenkins</td>\n      <td>Plan B Entertainment, A24</td>\n      <td>6</td>\n      <td>2</td>\n    </tr>\n    <tr>\n      <th>82</th>\n      <td>The Shape of Water</td>\n      <td>tt5580390</td>\n      <td>2017</td>\n      <td>2018</td>\n      <td>Guillermo del Toro</td>\n      <td>Searchlight Pictures, TSG Entertainment</td>\n      <td>8</td>\n      <td>3</td>\n    </tr>\n    <tr>\n      <th>83</th>\n      <td>Green Book</td>\n      <td>tt6966692</td>\n      <td>2018</td>\n      <td>2019</td>\n      <td>Peter Farrelly</td>\n      <td>Universal Pictures, DreamWorks, Participant, A...</td>\n      <td>7</td>\n      <td>1</td>\n    </tr>\n    <tr>\n      <th>84</th>\n      <td>Parasite</td>\n      <td>tt6751668</td>\n      <td>2019</td>\n      <td>2020</td>\n      <td>Bong Joon-ho</td>\n      <td>CJ Entertainment, Barunson E&amp;A</td>\n      <td>5</td>\n      <td>5</td>\n    </tr>\n  </tbody>\n</table>\n<p>85 rows × 8 columns</p>\n</div>"
     },
     "execution_count": 31,
     "metadata": {},
     "output_type": "execute_result"
    }
   ],
   "source": [
    "df"
   ]
  },
  {
   "cell_type": "code",
   "execution_count": 32,
   "metadata": {
    "id": "gdJ1qooIWjoz"
   },
   "outputs": [
    {
     "name": "stdout",
     "output_type": "stream",
     "text": [
      "<class 'pandas.core.series.Series'>\n"
     ]
    },
    {
     "data": {
      "text/plain": "0                              Wings\n1                The Broadway Melody\n2     All Quiet on the Western Front\n3                           Cimarron\n4                        Grand Hotel\n                   ...              \n80                         Spotlight\n81                         Moonlight\n82                The Shape of Water\n83                        Green Book\n84                          Parasite\nName: movie, Length: 85, dtype: object"
     },
     "execution_count": 32,
     "metadata": {},
     "output_type": "execute_result"
    }
   ],
   "source": [
    "print(type(df['movie']))\n",
    "\n",
    "df['movie']"
   ]
  },
  {
   "cell_type": "markdown",
   "metadata": {
    "id": "86VDt-g1Wjoz"
   },
   "source": [
    "The `Series` object is very similar to a `list`:"
   ]
  },
  {
   "cell_type": "code",
   "execution_count": 33,
   "metadata": {
    "id": "PjmysaDdWjoz"
   },
   "outputs": [
    {
     "name": "stdout",
     "output_type": "stream",
     "text": [
      "Length: 85\n",
      "\n",
      "1\tWings\n",
      "2\tThe Broadway Melody\n",
      "3\tAll Quiet on the Western Front\n",
      "4\tCimarron\n",
      "5\tGrand Hotel\n",
      "6\tIt Happened One Night\n",
      "7\tMutiny on the Bounty\n",
      "8\tThe Great Ziegfeld\n",
      "9\tThe Life of Emile Zola\n",
      "10\tYou Can't Take It With You\n"
     ]
    }
   ],
   "source": [
    "movies = df['movie']\n",
    "\n",
    "print(\"Length:\", len(movies))\n",
    "print()\n",
    "\n",
    "for n, movie in enumerate(movies[:10], 1):\n",
    "    print(n, movie, sep='\\t')"
   ]
  },
  {
   "cell_type": "markdown",
   "metadata": {
    "id": "TSSri8hWWjoz"
   },
   "source": [
    "#### `df[['column1', 'column2']]`\n",
    "We can also slice a DataFrame by calling multiple column names as one list:"
   ]
  },
  {
   "cell_type": "code",
   "execution_count": 34,
   "metadata": {
    "id": "eX05cSQ_Wjoz"
   },
   "outputs": [
    {
     "data": {
      "text/plain": "                             movie       imdb\n0                            Wings  tt0018578\n1              The Broadway Melody  tt0019729\n2   All Quiet on the Western Front  tt0020629\n3                         Cimarron  tt0021746\n4                      Grand Hotel  tt0022958\n..                             ...        ...\n80                       Spotlight  tt1895587\n81                       Moonlight  tt4975722\n82              The Shape of Water  tt5580390\n83                      Green Book  tt6966692\n84                        Parasite  tt6751668\n\n[85 rows x 2 columns]",
      "text/html": "<div>\n<style scoped>\n    .dataframe tbody tr th:only-of-type {\n        vertical-align: middle;\n    }\n\n    .dataframe tbody tr th {\n        vertical-align: top;\n    }\n\n    .dataframe thead th {\n        text-align: right;\n    }\n</style>\n<table border=\"1\" class=\"dataframe\">\n  <thead>\n    <tr style=\"text-align: right;\">\n      <th></th>\n      <th>movie</th>\n      <th>imdb</th>\n    </tr>\n  </thead>\n  <tbody>\n    <tr>\n      <th>0</th>\n      <td>Wings</td>\n      <td>tt0018578</td>\n    </tr>\n    <tr>\n      <th>1</th>\n      <td>The Broadway Melody</td>\n      <td>tt0019729</td>\n    </tr>\n    <tr>\n      <th>2</th>\n      <td>All Quiet on the Western Front</td>\n      <td>tt0020629</td>\n    </tr>\n    <tr>\n      <th>3</th>\n      <td>Cimarron</td>\n      <td>tt0021746</td>\n    </tr>\n    <tr>\n      <th>4</th>\n      <td>Grand Hotel</td>\n      <td>tt0022958</td>\n    </tr>\n    <tr>\n      <th>...</th>\n      <td>...</td>\n      <td>...</td>\n    </tr>\n    <tr>\n      <th>80</th>\n      <td>Spotlight</td>\n      <td>tt1895587</td>\n    </tr>\n    <tr>\n      <th>81</th>\n      <td>Moonlight</td>\n      <td>tt4975722</td>\n    </tr>\n    <tr>\n      <th>82</th>\n      <td>The Shape of Water</td>\n      <td>tt5580390</td>\n    </tr>\n    <tr>\n      <th>83</th>\n      <td>Green Book</td>\n      <td>tt6966692</td>\n    </tr>\n    <tr>\n      <th>84</th>\n      <td>Parasite</td>\n      <td>tt6751668</td>\n    </tr>\n  </tbody>\n</table>\n<p>85 rows × 2 columns</p>\n</div>"
     },
     "execution_count": 34,
     "metadata": {},
     "output_type": "execute_result"
    }
   ],
   "source": [
    "df[['movie', 'imdb']]"
   ]
  },
  {
   "cell_type": "markdown",
   "metadata": {
    "id": "hT-DeTVZWjo0"
   },
   "source": [
    "### Looping over DataFrames"
   ]
  },
  {
   "cell_type": "markdown",
   "metadata": {
    "id": "zgq83jp3fE1W"
   },
   "source": [
    "You might expect that if you loop through a DataFrame, you get all the rows. Sadly, it is not that simple, because we now have data in two dimensions. We instead get all the column names (or the first row of the dataframe):"
   ]
  },
  {
   "cell_type": "code",
   "execution_count": 35,
   "metadata": {
    "id": "zd_rZaWbekwm"
   },
   "outputs": [
    {
     "name": "stdout",
     "output_type": "stream",
     "text": [
      "movie\n",
      "imdb\n",
      "year\n",
      "award_year\n",
      "directors\n",
      "companies\n",
      "male_cast\n",
      "female_cast\n"
     ]
    }
   ],
   "source": [
    "for r in df:\n",
    "    print(r)"
   ]
  },
  {
   "cell_type": "markdown",
   "metadata": {
    "id": "fGKJuYDTWjo0"
   },
   "source": [
    "#### `zip(df['column1', df['column2')`\n",
    "Going over these items in a `for` loop needs a different approach. The built-in `zip()` function ([manual](https://docs.python.org/3/library/functions.html#zip)) takes two iterables of even length and creates a new iterable of tuples. The number of arguments/iterables that you give to `zip()` determines the length of the tuples."
   ]
  },
  {
   "cell_type": "code",
   "execution_count": 36,
   "metadata": {
    "id": "9NdOQEuXWjo0"
   },
   "outputs": [
    {
     "data": {
      "text/plain": "[('a', 1), ('b', 2), ('c', 3)]"
     },
     "execution_count": 36,
     "metadata": {},
     "output_type": "execute_result"
    }
   ],
   "source": [
    "list1 = ['a', 'b', 'c']\n",
    "list2 = [1, 2, 3]\n",
    "\n",
    "list(zip(list1, list2))"
   ]
  },
  {
   "cell_type": "code",
   "execution_count": 37,
   "metadata": {
    "id": "QA3u6-_oWjo0"
   },
   "outputs": [
    {
     "name": "stdout",
     "output_type": "stream",
     "text": [
      "Wings\thttp://www.imdb.com/title/tt0018578\n",
      "The Broadway Melody\thttp://www.imdb.com/title/tt0019729\n",
      "All Quiet on the Western Front\thttp://www.imdb.com/title/tt0020629\n",
      "Cimarron\thttp://www.imdb.com/title/tt0021746\n",
      "Grand Hotel\thttp://www.imdb.com/title/tt0022958\n",
      "It Happened One Night\thttp://www.imdb.com/title/tt0025316\n",
      "Mutiny on the Bounty\thttp://www.imdb.com/title/tt0026752\n",
      "The Great Ziegfeld\thttp://www.imdb.com/title/tt0027698\n",
      "The Life of Emile Zola\thttp://www.imdb.com/title/tt0029146\n",
      "You Can't Take It With You\thttp://www.imdb.com/title/tt0030993\n"
     ]
    }
   ],
   "source": [
    "n = 0\n",
    "for movie, imdb in zip(df['movie'], df['imdb']):\n",
    "    \n",
    "    if n > 9:\n",
    "        break  # stop flooding the Notebook\n",
    "    \n",
    "    print(movie, \"http://www.imdb.com/title/\" + imdb, sep='\\t')\n",
    "    n += 1"
   ]
  },
  {
   "cell_type": "markdown",
   "metadata": {
    "id": "25eEafp-Wjo0"
   },
   "source": [
    "#### `.to_dict(orient='record')`\n",
    "Or, accessing all entries in a convenient way, as a python dictionary for instance, can be done with the `.to_dict(orient='records')` method:"
   ]
  },
  {
   "cell_type": "code",
   "execution_count": 38,
   "metadata": {
    "id": "T6dq7r6wWjo0"
   },
   "outputs": [
    {
     "data": {
      "text/plain": "   movie       imdb  year  award_year  \\\n0  Wings  tt0018578  1927        1929   \n\n                                      directors           companies  \\\n0  William A. Wellman, Harry d’Abbadie d’Arrast  Paramount Pictures   \n\n   male_cast  female_cast  \n0         12            5  ",
      "text/html": "<div>\n<style scoped>\n    .dataframe tbody tr th:only-of-type {\n        vertical-align: middle;\n    }\n\n    .dataframe tbody tr th {\n        vertical-align: top;\n    }\n\n    .dataframe thead th {\n        text-align: right;\n    }\n</style>\n<table border=\"1\" class=\"dataframe\">\n  <thead>\n    <tr style=\"text-align: right;\">\n      <th></th>\n      <th>movie</th>\n      <th>imdb</th>\n      <th>year</th>\n      <th>award_year</th>\n      <th>directors</th>\n      <th>companies</th>\n      <th>male_cast</th>\n      <th>female_cast</th>\n    </tr>\n  </thead>\n  <tbody>\n    <tr>\n      <th>0</th>\n      <td>Wings</td>\n      <td>tt0018578</td>\n      <td>1927</td>\n      <td>1929</td>\n      <td>William A. Wellman, Harry d’Abbadie d’Arrast</td>\n      <td>Paramount Pictures</td>\n      <td>12</td>\n      <td>5</td>\n    </tr>\n  </tbody>\n</table>\n</div>"
     },
     "execution_count": 38,
     "metadata": {},
     "output_type": "execute_result"
    }
   ],
   "source": [
    "df.head(1)"
   ]
  },
  {
   "cell_type": "code",
   "execution_count": 39,
   "metadata": {
    "id": "oaeltbGNWjo0"
   },
   "outputs": [
    {
     "name": "stdout",
     "output_type": "stream",
     "text": [
      "{'movie': 'Wings', 'imdb': 'tt0018578', 'year': 1927, 'award_year': 1929, 'directors': 'William A. Wellman, Harry d’Abbadie d’Arrast', 'companies': 'Paramount Pictures', 'male_cast': 12, 'female_cast': 5}\n",
      "\n",
      "The movie Wings was produced in 1927 and won in 1929.\n",
      "\n"
     ]
    }
   ],
   "source": [
    "for r in df.to_dict(orient='records'):\n",
    "    \n",
    "    print(r)\n",
    "    print()\n",
    "    \n",
    "    name = r['movie']\n",
    "    year = r['year']\n",
    "    won = r['award_year']\n",
    "    \n",
    "    print(\"The movie \" + name + \" was produced in \" + str(year) + \" and won in \" + str(won) + \".\")\n",
    "    \n",
    "    print()\n",
    "    \n",
    "    break  # To not flood the notebook, only print the first"
   ]
  },
  {
   "cell_type": "markdown",
   "metadata": {
    "id": "0NieFABdWjo1"
   },
   "source": [
    "#### `.iterrows()`\n",
    "Or you can use the `.iterrows()` method, which gives you tuples of the index of the row, and the row itself as `Series` object:"
   ]
  },
  {
   "cell_type": "code",
   "execution_count": 40,
   "metadata": {
    "id": "r0hAAQxIWjo1"
   },
   "outputs": [
    {
     "name": "stdout",
     "output_type": "stream",
     "text": [
      "The movie Wings was produced in 1927 and won in 1929.\n",
      "\n"
     ]
    }
   ],
   "source": [
    "for n, r in df.iterrows():\n",
    "    \n",
    "    name = r.movie  # You can use a dot notation here\n",
    "    year = r.year\n",
    "    won = r.award_year\n",
    "    \n",
    "    print(f\"The movie {name} was produced in {year} and won in {won}.\")\n",
    "    \n",
    "    print()\n",
    "    \n",
    "    break  # To not flood the notebook, only print the first"
   ]
  },
  {
   "cell_type": "code",
   "execution_count": null,
   "metadata": {
    "id": "8yStX5fpWjo1"
   },
   "outputs": [],
   "source": []
  },
  {
   "cell_type": "markdown",
   "metadata": {
    "id": "uABpa0I8Wjo1"
   },
   "source": [
    "---"
   ]
  },
  {
   "cell_type": "markdown",
   "metadata": {
    "id": "X1e4rchVWjo1"
   },
   "source": [
    "### Analysis"
   ]
  },
  {
   "cell_type": "code",
   "execution_count": 41,
   "metadata": {
    "id": "cuUKTCx7Wjo1"
   },
   "outputs": [
    {
     "data": {
      "text/plain": "                             movie       imdb  year  award_year  \\\n0                            Wings  tt0018578  1927        1929   \n1              The Broadway Melody  tt0019729  1929        1930   \n2   All Quiet on the Western Front  tt0020629  1930        1930   \n3                         Cimarron  tt0021746  1931        1931   \n4                      Grand Hotel  tt0022958  1932        1932   \n..                             ...        ...   ...         ...   \n80                       Spotlight  tt1895587  2015        2016   \n81                       Moonlight  tt4975722  2016        2017   \n82              The Shape of Water  tt5580390  2017        2018   \n83                      Green Book  tt6966692  2018        2019   \n84                        Parasite  tt6751668  2019        2020   \n\n                                       directors  \\\n0   William A. Wellman, Harry d’Abbadie d’Arrast   \n1                                 Harry Beaumont   \n2                     Lewis Milestone, Nate Watt   \n3                                 Wesley Ruggles   \n4                                Edmund Goulding   \n..                                           ...   \n80                                  Tom McCarthy   \n81                                 Barry Jenkins   \n82                            Guillermo del Toro   \n83                                Peter Farrelly   \n84                                  Bong Joon-ho   \n\n                                            companies  male_cast  female_cast  \n0                                  Paramount Pictures         12            5  \n1                                 Metro-Goldwyn-Mayer          4            3  \n2                                  Universal Pictures         22            6  \n3                                        RKO Pictures         13            6  \n4                                 Metro-Goldwyn-Mayer         19            8  \n..                                                ...        ...          ...  \n80                     Anonymous Content, Participant         15            2  \n81                          Plan B Entertainment, A24          6            2  \n82            Searchlight Pictures, TSG Entertainment          8            3  \n83  Universal Pictures, DreamWorks, Participant, A...          7            1  \n84                     CJ Entertainment, Barunson E&A          5            5  \n\n[85 rows x 8 columns]",
      "text/html": "<div>\n<style scoped>\n    .dataframe tbody tr th:only-of-type {\n        vertical-align: middle;\n    }\n\n    .dataframe tbody tr th {\n        vertical-align: top;\n    }\n\n    .dataframe thead th {\n        text-align: right;\n    }\n</style>\n<table border=\"1\" class=\"dataframe\">\n  <thead>\n    <tr style=\"text-align: right;\">\n      <th></th>\n      <th>movie</th>\n      <th>imdb</th>\n      <th>year</th>\n      <th>award_year</th>\n      <th>directors</th>\n      <th>companies</th>\n      <th>male_cast</th>\n      <th>female_cast</th>\n    </tr>\n  </thead>\n  <tbody>\n    <tr>\n      <th>0</th>\n      <td>Wings</td>\n      <td>tt0018578</td>\n      <td>1927</td>\n      <td>1929</td>\n      <td>William A. Wellman, Harry d’Abbadie d’Arrast</td>\n      <td>Paramount Pictures</td>\n      <td>12</td>\n      <td>5</td>\n    </tr>\n    <tr>\n      <th>1</th>\n      <td>The Broadway Melody</td>\n      <td>tt0019729</td>\n      <td>1929</td>\n      <td>1930</td>\n      <td>Harry Beaumont</td>\n      <td>Metro-Goldwyn-Mayer</td>\n      <td>4</td>\n      <td>3</td>\n    </tr>\n    <tr>\n      <th>2</th>\n      <td>All Quiet on the Western Front</td>\n      <td>tt0020629</td>\n      <td>1930</td>\n      <td>1930</td>\n      <td>Lewis Milestone, Nate Watt</td>\n      <td>Universal Pictures</td>\n      <td>22</td>\n      <td>6</td>\n    </tr>\n    <tr>\n      <th>3</th>\n      <td>Cimarron</td>\n      <td>tt0021746</td>\n      <td>1931</td>\n      <td>1931</td>\n      <td>Wesley Ruggles</td>\n      <td>RKO Pictures</td>\n      <td>13</td>\n      <td>6</td>\n    </tr>\n    <tr>\n      <th>4</th>\n      <td>Grand Hotel</td>\n      <td>tt0022958</td>\n      <td>1932</td>\n      <td>1932</td>\n      <td>Edmund Goulding</td>\n      <td>Metro-Goldwyn-Mayer</td>\n      <td>19</td>\n      <td>8</td>\n    </tr>\n    <tr>\n      <th>...</th>\n      <td>...</td>\n      <td>...</td>\n      <td>...</td>\n      <td>...</td>\n      <td>...</td>\n      <td>...</td>\n      <td>...</td>\n      <td>...</td>\n    </tr>\n    <tr>\n      <th>80</th>\n      <td>Spotlight</td>\n      <td>tt1895587</td>\n      <td>2015</td>\n      <td>2016</td>\n      <td>Tom McCarthy</td>\n      <td>Anonymous Content, Participant</td>\n      <td>15</td>\n      <td>2</td>\n    </tr>\n    <tr>\n      <th>81</th>\n      <td>Moonlight</td>\n      <td>tt4975722</td>\n      <td>2016</td>\n      <td>2017</td>\n      <td>Barry Jenkins</td>\n      <td>Plan B Entertainment, A24</td>\n      <td>6</td>\n      <td>2</td>\n    </tr>\n    <tr>\n      <th>82</th>\n      <td>The Shape of Water</td>\n      <td>tt5580390</td>\n      <td>2017</td>\n      <td>2018</td>\n      <td>Guillermo del Toro</td>\n      <td>Searchlight Pictures, TSG Entertainment</td>\n      <td>8</td>\n      <td>3</td>\n    </tr>\n    <tr>\n      <th>83</th>\n      <td>Green Book</td>\n      <td>tt6966692</td>\n      <td>2018</td>\n      <td>2019</td>\n      <td>Peter Farrelly</td>\n      <td>Universal Pictures, DreamWorks, Participant, A...</td>\n      <td>7</td>\n      <td>1</td>\n    </tr>\n    <tr>\n      <th>84</th>\n      <td>Parasite</td>\n      <td>tt6751668</td>\n      <td>2019</td>\n      <td>2020</td>\n      <td>Bong Joon-ho</td>\n      <td>CJ Entertainment, Barunson E&amp;A</td>\n      <td>5</td>\n      <td>5</td>\n    </tr>\n  </tbody>\n</table>\n<p>85 rows × 8 columns</p>\n</div>"
     },
     "execution_count": 41,
     "metadata": {},
     "output_type": "execute_result"
    }
   ],
   "source": [
    "df"
   ]
  },
  {
   "cell_type": "code",
   "execution_count": null,
   "metadata": {
    "id": "8FKHCM7OWjo1"
   },
   "outputs": [],
   "source": [
    "df.mean()"
   ]
  },
  {
   "cell_type": "markdown",
   "metadata": {
    "id": "1a0kPAJ7Wjo2"
   },
   "source": [
    "You already saw above that you could get statistics by calling `.describe()` on a DataFrame. You can also get these metrics for individual columns. Let's ask the maximum number of male and female actors in the cast of a movie:"
   ]
  },
  {
   "cell_type": "code",
   "execution_count": null,
   "metadata": {
    "id": "NRjrTge4Wjo2"
   },
   "outputs": [],
   "source": [
    "df['female_cast'].max()"
   ]
  },
  {
   "cell_type": "code",
   "execution_count": null,
   "metadata": {
    "id": "fzcZp6p7Wjo2"
   },
   "outputs": [],
   "source": [
    "df['male_cast'].max()"
   ]
  },
  {
   "cell_type": "markdown",
   "metadata": {
    "id": "ouz_x1srWjo2"
   },
   "source": [
    "You can also apply these operations to multiple columns at once. You get a `Series` object back. "
   ]
  },
  {
   "cell_type": "code",
   "execution_count": null,
   "metadata": {
    "id": "HDttAFhqWjo2"
   },
   "outputs": [],
   "source": [
    "df.max()"
   ]
  },
  {
   "cell_type": "code",
   "execution_count": null,
   "metadata": {
    "id": "T0A80PIaWjo2"
   },
   "outputs": [],
   "source": [
    "df[['male_cast', 'female_cast']]"
   ]
  },
  {
   "cell_type": "code",
   "execution_count": null,
   "metadata": {
    "id": "DUhUsvZgWjo2"
   },
   "outputs": [],
   "source": [
    "slice_df = df[['male_cast', 'female_cast']]\n",
    "\n",
    "slice_df.max()"
   ]
  },
  {
   "cell_type": "markdown",
   "metadata": {
    "id": "V78YM6E_Wjo2"
   },
   "source": [
    "To find the corresponding movie title, we can ask Pandas to give us the record in which these maxima occur. This is done through `df.loc`. This works by asking: \"Give me all the locations (=rows) for which a value in a specified column is equal to this value\". "
   ]
  },
  {
   "cell_type": "code",
   "execution_count": null,
   "metadata": {
    "id": "0VQhT1pSWjo3"
   },
   "outputs": [],
   "source": [
    "df"
   ]
  },
  {
   "cell_type": "code",
   "execution_count": null,
   "metadata": {
    "id": "rkpB8cUnWjo3"
   },
   "outputs": [],
   "source": [
    "df[['male_cast', 'female_cast']].max()"
   ]
  },
  {
   "cell_type": "code",
   "execution_count": null,
   "metadata": {
    "id": "CMg5pvGXWjo3"
   },
   "outputs": [],
   "source": [
    "df[df['female_cast'] > 10]"
   ]
  },
  {
   "cell_type": "code",
   "execution_count": null,
   "metadata": {
    "id": "yD04bSNMWjo3"
   },
   "outputs": [],
   "source": [
    "for column_name, value in df[['male_cast', 'female_cast']].max().items():\n",
    "    \n",
    "    print(\"Movie with maximum for\", column_name, value)\n",
    "    \n",
    "    row = df.loc[df[column_name] == value]\n",
    "    \n",
    "    print(row.movie)\n",
    "    \n",
    "    print()"
   ]
  },
  {
   "cell_type": "markdown",
   "metadata": {
    "id": "_AXzYkRKWjo3"
   },
   "source": [
    "Other functions that can be used are for instance `.mean()`, `.median()`, `.std()` and `.sum()`."
   ]
  },
  {
   "cell_type": "code",
   "execution_count": null,
   "metadata": {
    "id": "QUkVzbSxWjo3"
   },
   "outputs": [],
   "source": [
    "df['female_cast'].mean()"
   ]
  },
  {
   "cell_type": "code",
   "execution_count": null,
   "metadata": {
    "id": "L9CJ1tH-Wjo3"
   },
   "outputs": [],
   "source": [
    "df['male_cast'].mean()"
   ]
  },
  {
   "cell_type": "code",
   "execution_count": null,
   "metadata": {
    "id": "Q_zuwCwOWjo4"
   },
   "outputs": [],
   "source": [
    "df['female_cast'].sum()"
   ]
  },
  {
   "cell_type": "code",
   "execution_count": null,
   "metadata": {
    "id": "QUpm-WCSWjo4"
   },
   "outputs": [],
   "source": [
    "df['male_cast'].sum()"
   ]
  },
  {
   "cell_type": "code",
   "execution_count": null,
   "metadata": {
    "id": "VMzPbSj3Wjo4"
   },
   "outputs": [],
   "source": [
    "df"
   ]
  },
  {
   "cell_type": "markdown",
   "metadata": {
    "id": "lQvUj6q-Wjo4"
   },
   "source": [
    "Pandas also understands dates, but you have to tell it to interpret a column as such. We can change the `year` column in-place so that it is not interpreted as integer, but as a date object. \n",
    "\n",
    "In this case, since we only have the year available, and not a full date such as `2021-02-22` (YYYY-mm-dd), we have to specify the format. Typing `%Y` as string is shorthand for `YYYY`. It returns a full date, so every month and day are set to January first. "
   ]
  },
  {
   "cell_type": "code",
   "execution_count": null,
   "metadata": {
    "id": "-WRqzRSHWjo4"
   },
   "outputs": [],
   "source": [
    "df['year'] = pd.to_datetime(df['year'], format='%Y')\n",
    "\n",
    "df['award_year'] = pd.to_datetime(df['award_year'], format='%Y')\n",
    "\n",
    "df['year']\n",
    "\n"
   ]
  },
  {
   "cell_type": "code",
   "execution_count": null,
   "metadata": {
    "id": "kItgHCU7Wjo5"
   },
   "outputs": [],
   "source": [
    "df"
   ]
  },
  {
   "cell_type": "markdown",
   "metadata": {
    "id": "hXWb2goUWjo5"
   },
   "source": [
    "### Plotting\n",
    "\n",
    "Let's try to make some graphs from our data, for instance the number of male/female actors over time. \n",
    "\n",
    "We now have a year column that is interpreted as time by Pandas. These values can figure as values on a x-axis in a graph. The y-axis would then give info on the number of male and female actors in the movie. "
   ]
  },
  {
   "cell_type": "markdown",
   "metadata": {
    "id": "x0j1CQZOWjo5"
   },
   "source": [
    "First, we set an **index** for the DataFrame. This determines how the data can be accessed. Normally, this is a range of 0 untill the number of rows. But, you can change this, so that we can analyse the dataframe on a time index. "
   ]
  },
  {
   "cell_type": "code",
   "execution_count": null,
   "metadata": {
    "id": "CX6uGkiKWjo5"
   },
   "outputs": [],
   "source": [
    "# Select only what we need\n",
    "df_actors = df[['award_year', 'male_cast', 'female_cast']]\n",
    "df_actors"
   ]
  },
  {
   "cell_type": "code",
   "execution_count": null,
   "metadata": {
    "id": "svmSERhbWjo5"
   },
   "outputs": [],
   "source": [
    "df_actors = df_actors.set_index('award_year')\n",
    "df_actors"
   ]
  },
  {
   "cell_type": "markdown",
   "metadata": {
    "id": "NUEZBlGVWjo5"
   },
   "source": [
    "Then simply call `.plot()` on your newly created DataFrame!"
   ]
  },
  {
   "cell_type": "code",
   "execution_count": null,
   "metadata": {
    "id": "RRotJMOQWjo5"
   },
   "outputs": [],
   "source": [
    "df_actors.plot(figsize=(15,10))"
   ]
  },
  {
   "cell_type": "markdown",
   "metadata": {
    "id": "oP7plsOsWjo6"
   },
   "source": [
    "There are tons of parameters, functions, methods, transformations you can use on DataFrames and also on this plotting function. Luckily, plenty of guides and examples can be found on the internet."
   ]
  },
  {
   "cell_type": "markdown",
   "metadata": {
    "id": "nR5U4KjaWjo6"
   },
   "source": [
    "### Grouping"
   ]
  },
  {
   "cell_type": "code",
   "execution_count": null,
   "metadata": {
    "id": "zLuRmVx1Wjo6"
   },
   "outputs": [],
   "source": [
    "df"
   ]
  },
  {
   "cell_type": "markdown",
   "metadata": {
    "id": "EygkWZGPWjo6"
   },
   "source": [
    "Some directors have won multiple Oscars. To find out which, we have to count the number of rows in the DataFrame that include the same director. There is a Pandas function for this: `.count()`. Calling this on the DataFrame itself would give us the total number of rows only, per column. Therefore, we have to tell Pandas that we want to group by a particular column, say 'directors'."
   ]
  },
  {
   "cell_type": "code",
   "execution_count": null,
   "metadata": {
    "id": "hH0vYKNiWjo6"
   },
   "outputs": [],
   "source": [
    "df.groupby('directors')"
   ]
  },
  {
   "cell_type": "markdown",
   "metadata": {
    "id": "4Dz-4n6gWjo6"
   },
   "source": [
    "It does not give back something nicely formatted or interpretable. It's just another Python object. The object returned by `groupby` is a `DataFrameGroupBy` **not** a normal `DataFrame`.\n",
    "\n",
    "However, some methods of the latter work also on the former, e.g. `.head()` and `.tail()`. Let's call the `.count()` on this object:"
   ]
  },
  {
   "cell_type": "code",
   "execution_count": null,
   "metadata": {
    "id": "cI99agV2Wjo6"
   },
   "outputs": [],
   "source": [
    "df.groupby('directors').count()"
   ]
  },
  {
   "cell_type": "markdown",
   "metadata": {
    "id": "qJkhj3qEWjo6"
   },
   "source": [
    "Remember that this counts the numer of rows. As we know that each row is one movie, we can trim this down to:"
   ]
  },
  {
   "cell_type": "code",
   "execution_count": null,
   "metadata": {
    "id": "nUtawB2sWjo6"
   },
   "outputs": [],
   "source": [
    "director_counts = df.groupby('directors').count()['movie']\n",
    "director_counts"
   ]
  },
  {
   "cell_type": "markdown",
   "metadata": {
    "id": "KjZpua8TWjo7"
   },
   "source": [
    "Now, get all directors that have won an Oscar more than once by specifying a conditional operator:"
   ]
  },
  {
   "cell_type": "code",
   "execution_count": null,
   "metadata": {
    "id": "SXHox2feWjo7"
   },
   "outputs": [],
   "source": [
    "director_counts[director_counts > 1]"
   ]
  },
  {
   "cell_type": "code",
   "execution_count": null,
   "metadata": {
    "id": "HlxIajX3Wjo7"
   },
   "outputs": [],
   "source": [
    "list(director_counts.items())"
   ]
  },
  {
   "cell_type": "code",
   "execution_count": null,
   "metadata": {
    "id": "QPhqAJSsWjo7"
   },
   "outputs": [],
   "source": [
    "for i, value in director_counts.items():\n",
    "    print(i, value)"
   ]
  },
  {
   "cell_type": "markdown",
   "metadata": {
    "id": "Wrkro7EtWjo7"
   },
   "source": [
    "### Adding a column"
   ]
  },
  {
   "cell_type": "markdown",
   "metadata": {
    "id": "PVihLONeWjo8"
   },
   "source": [
    "If we want to get the total number of actors per movie, we have to sum the values from the `male_cast` and `female_cast` columns. \n",
    "\n",
    "You can do this in a for loop, by going over every row (like we saw above), but you can also sum the individual columns. Pandas will then add up the values with the same index and will return a new Series of the same length with the values summed. "
   ]
  },
  {
   "cell_type": "code",
   "execution_count": null,
   "metadata": {
    "id": "7CGYHLtdWjo8"
   },
   "outputs": [],
   "source": [
    "df"
   ]
  },
  {
   "cell_type": "code",
   "execution_count": null,
   "metadata": {
    "id": "kgdYTcMkWjo8"
   },
   "outputs": [],
   "source": [
    "df['male_cast'] + df['female_cast']"
   ]
  },
  {
   "cell_type": "code",
   "execution_count": null,
   "metadata": {
    "id": "iZu8HM80Wjo8"
   },
   "outputs": [],
   "source": [
    "total_cast = df['male_cast'] + df['female_cast']\n",
    "total_cast"
   ]
  },
  {
   "cell_type": "markdown",
   "metadata": {
    "id": "LHBoYnnJWjo8"
   },
   "source": [
    "Then, we add it as a column in our original dataframe. The only requirement for adding a column to a DataFrame is that the length of the Series or list is the same as that of the DataFrame. "
   ]
  },
  {
   "cell_type": "code",
   "execution_count": null,
   "metadata": {
    "id": "6to7wyDKWjo8"
   },
   "outputs": [],
   "source": [
    "df['total_cast'] = total_cast\n",
    "df"
   ]
  },
  {
   "cell_type": "markdown",
   "metadata": {
    "id": "vH981_n7Wjo9"
   },
   "source": [
    "Optionally, we can sort the DataFrame by column. For instance, from high to low (`ascending=False`) for the newly created `total_cast` column."
   ]
  },
  {
   "cell_type": "code",
   "execution_count": null,
   "metadata": {
    "id": "3hS0W5q5Wjo9"
   },
   "outputs": [],
   "source": [
    "df_sorted = df.sort_values('total_cast', ascending=False)\n",
    "df_sorted"
   ]
  },
  {
   "cell_type": "markdown",
   "metadata": {
    "id": "NBkSgHX4Wjo9"
   },
   "source": [
    "### Saving back the file"
   ]
  },
  {
   "cell_type": "markdown",
   "metadata": {
    "id": "zhuYIfQOWjo9"
   },
   "source": [
    "Use one of the `.to_csv()` or `.to_excel` functions to save the DataFrame. Again, no `with` statement needed, just a file path (and an encoding)."
   ]
  },
  {
   "cell_type": "code",
   "execution_count": null,
   "metadata": {
    "id": "XhUVyeZnWjo9"
   },
   "outputs": [],
   "source": [
    "df_sorted.to_csv('stuff/academyawards_sum.csv', encoding='utf-8')"
   ]
  },
  {
   "cell_type": "code",
   "execution_count": null,
   "metadata": {
    "id": "IAXnSFHkWjo9"
   },
   "outputs": [],
   "source": [
    "df_sorted.to_excel('stuff/academyawards_sum.xlsx')"
   ]
  },
  {
   "cell_type": "markdown",
   "metadata": {
    "id": "FP13dqU7Wjo-"
   },
   "source": [
    "You need to specify `index=False` if you want to prevent a standard index (0,1,2,3...) to be saved in the file as well. "
   ]
  },
  {
   "cell_type": "code",
   "execution_count": null,
   "metadata": {
    "id": "-eZWRlh7Wjo-"
   },
   "outputs": [],
   "source": [
    "df_sorted.to_csv('stuff/academyawards_sum.csv', encoding='utf-8', index=False)"
   ]
  },
  {
   "cell_type": "markdown",
   "metadata": {
    "id": "IR914S1_Wjo-"
   },
   "source": [
    "Open the contents in Excel, LibreOffice Calc, or another program to read spreadsheets!"
   ]
  },
  {
   "cell_type": "markdown",
   "metadata": {
    "id": "QoyJmpb3Wjo-"
   },
   "source": [
    "---"
   ]
  },
  {
   "cell_type": "markdown",
   "metadata": {
    "id": "rOUj79AmWjo-"
   },
   "source": [
    "# Data wrangling (example)\n",
    "\n",
    "We can take a look at another example. We consider a dataset of tweets from Elon Musk, SpaceX and Tesla founder, and ask the following questions:\n",
    "* When is Elon most actively tweeting?\n",
    "\n",
    "While this question is a bit trivial, it will allow us to learn how to wrangle data."
   ]
  },
  {
   "cell_type": "code",
   "execution_count": null,
   "metadata": {
    "id": "jnR8cCCuWjo-"
   },
   "outputs": [],
   "source": [
    "import pandas as pd"
   ]
  },
  {
   "cell_type": "markdown",
   "metadata": {
    "id": "anjFRsrJWjo-"
   },
   "source": [
    "### Load dataset"
   ]
  },
  {
   "cell_type": "markdown",
   "metadata": {
    "id": "AEkE4d1OWjo_"
   },
   "source": [
    "Let's read in a CSV file containing an export of [Elon Musk's tweets](https://twitter.com/elonmusk), exported from Twitter's API. "
   ]
  },
  {
   "cell_type": "code",
   "execution_count": null,
   "metadata": {
    "id": "zRnIjOf3Wjo_"
   },
   "outputs": [],
   "source": [
    "dataset_path = 'data/elonmusk_tweets.csv'\n",
    "df = pd.read_csv(dataset_path, encoding='utf-8')"
   ]
  },
  {
   "cell_type": "code",
   "execution_count": null,
   "metadata": {
    "id": "yFVsux4FWjo_"
   },
   "outputs": [],
   "source": [
    "df"
   ]
  },
  {
   "cell_type": "code",
   "execution_count": null,
   "metadata": {
    "id": "fqXEcft-WjpA"
   },
   "outputs": [],
   "source": [
    "df.info()"
   ]
  },
  {
   "cell_type": "markdown",
   "metadata": {
    "id": "phSczVrXWjpA"
   },
   "source": [
    "Let's give this dataset a bit more structure:\n",
    "- The `id` column can be transformed into the dataframe's index, thus enabling us e.g. to select a tweet by id;\n",
    "- The column `created_at` contains a timestamp, thus it can easily be converted into a `datetime` value"
   ]
  },
  {
   "cell_type": "code",
   "execution_count": null,
   "metadata": {
    "id": "EQgtlrIVWjpA"
   },
   "outputs": [],
   "source": [
    "df.set_index('id', drop=True, inplace=True)"
   ]
  },
  {
   "cell_type": "code",
   "execution_count": null,
   "metadata": {
    "id": "ItrFglkNWjpB"
   },
   "outputs": [],
   "source": [
    "df"
   ]
  },
  {
   "cell_type": "code",
   "execution_count": null,
   "metadata": {
    "id": "oUmUplYpWjpB"
   },
   "outputs": [],
   "source": [
    "df.created_at = pd.to_datetime(df.created_at)"
   ]
  },
  {
   "cell_type": "code",
   "execution_count": null,
   "metadata": {
    "id": "DjlGsSCKWjpB"
   },
   "outputs": [],
   "source": [
    "df.info()"
   ]
  },
  {
   "cell_type": "code",
   "execution_count": null,
   "metadata": {
    "id": "0DATHvnUWjpB"
   },
   "outputs": [],
   "source": [
    "df"
   ]
  },
  {
   "cell_type": "markdown",
   "metadata": {
    "id": "95sY7ZPfWjpB"
   },
   "source": [
    "---"
   ]
  },
  {
   "cell_type": "markdown",
   "metadata": {
    "id": "fmw2eKvzWjpB"
   },
   "source": [
    "### Selection"
   ]
  },
  {
   "cell_type": "markdown",
   "metadata": {
    "id": "8UfnizmJWjpC"
   },
   "source": [
    "#### Renaming columns"
   ]
  },
  {
   "cell_type": "markdown",
   "metadata": {
    "id": "EZBwFCwuWjpC"
   },
   "source": [
    "An operation on dataframes that you'll find yourself doing very often is to rename the columns. The first way of renaming columns is by manipulating directly the dataframe's index via the `columns` property."
   ]
  },
  {
   "cell_type": "code",
   "execution_count": null,
   "metadata": {
    "id": "WNyjLCyWWjpC"
   },
   "outputs": [],
   "source": [
    "df.columns"
   ]
  },
  {
   "cell_type": "markdown",
   "metadata": {
    "id": "difr2WuLWjpC"
   },
   "source": [
    "We can change the column names by assigning to `columns` a list having as values the new column names.\n",
    "\n",
    "**NB**: the size of the list and new number of colums must match!"
   ]
  },
  {
   "cell_type": "code",
   "execution_count": null,
   "metadata": {
    "id": "U9rk9GMAWjpC"
   },
   "outputs": [],
   "source": [
    "# here we renamed the column `text` => `tweet`\n",
    "df.columns = ['created_at', 'tweet']"
   ]
  },
  {
   "cell_type": "code",
   "execution_count": null,
   "metadata": {
    "id": "0N8Tp9lVWjpC"
   },
   "outputs": [],
   "source": [
    "# let's check that the change did take place\n",
    "df.head()"
   ]
  },
  {
   "cell_type": "markdown",
   "metadata": {
    "id": "bvo42ui6WjpC"
   },
   "source": [
    "The second way of renaming colums is to use the method `rename()` of a dataframe. The `columns` parameter takes a dictionary of mappings between old and new column names.\n",
    "\n",
    "```python\n",
    "mapping_dict = {\n",
    "    \"old_column_name\": \"new_column_name\"\n",
    "}\n",
    "```"
   ]
  },
  {
   "cell_type": "code",
   "execution_count": null,
   "metadata": {
    "id": "uWwroMmuWjpD"
   },
   "outputs": [],
   "source": [
    "# let's change column `tweet` => `text`\n",
    "df = df.rename(columns={\"tweet\": \"text\"})"
   ]
  },
  {
   "cell_type": "code",
   "execution_count": null,
   "metadata": {
    "id": "V9du3B6LWjpD"
   },
   "outputs": [],
   "source": [
    "df.head()"
   ]
  },
  {
   "cell_type": "markdown",
   "metadata": {
    "id": "kX1Clp-LWjpD"
   },
   "source": [
    "**Question**: in which cases is it more convenient to use the second method over the first?"
   ]
  },
  {
   "cell_type": "markdown",
   "metadata": {
    "id": "SSyzgI-KWjpD"
   },
   "source": [
    "#### Selecting columns"
   ]
  },
  {
   "cell_type": "code",
   "execution_count": null,
   "metadata": {
    "id": "xgADy6B_WjpD"
   },
   "outputs": [],
   "source": [
    "# this selects one single column and returns as a Series\n",
    "df[\"created_at\"].head()"
   ]
  },
  {
   "cell_type": "code",
   "execution_count": null,
   "metadata": {
    "id": "2Ts8-demWjpD"
   },
   "outputs": [],
   "source": [
    "type(df[\"created_at\"])"
   ]
  },
  {
   "cell_type": "code",
   "execution_count": null,
   "metadata": {
    "id": "HA8veWZYWjpD"
   },
   "outputs": [],
   "source": [
    "# whereas this syntax selects one single column\n",
    "# but returns a Dataframe\n",
    "df[[\"created_at\"]].head()"
   ]
  },
  {
   "cell_type": "code",
   "execution_count": null,
   "metadata": {
    "id": "VPanFWGVWjpE"
   },
   "outputs": [],
   "source": [
    "type(df[[\"created_at\"]])"
   ]
  },
  {
   "cell_type": "markdown",
   "metadata": {
    "id": "5JVkvqrMWjpF"
   },
   "source": [
    "####  Selecting rows\n",
    "\n",
    "Filtering rows in `pandas` is done by means of `[ ]`, which can contain the row number as well as a condition for the selection."
   ]
  },
  {
   "cell_type": "code",
   "execution_count": null,
   "metadata": {
    "id": "kHmk-0MNWjpF"
   },
   "outputs": [],
   "source": [
    "df[0:2]"
   ]
  },
  {
   "cell_type": "markdown",
   "metadata": {
    "id": "y5WF65O6WjpF"
   },
   "source": [
    "### Transformation\n",
    "\n",
    "\n",
    "The two main functions used to manipulate and transform values in a dataframe are:\n",
    "- `.map()` (on Series only!)\n",
    "- `.apply()`\n",
    "\n",
    "In this section we'll be using both to enrich our datasets with useful information (useful for exploration, for later visualizations, etc.)."
   ]
  },
  {
   "cell_type": "markdown",
   "metadata": {
    "id": "S0vPCd_IWjpF"
   },
   "source": [
    "#### Add link to original tweet"
   ]
  },
  {
   "cell_type": "markdown",
   "metadata": {
    "id": "BOeYNz3uWjpF"
   },
   "source": [
    "The `map()` method can be called on a column, as well as on the dataframe's index.\n",
    "\n",
    "When passed as a parameter to `map`, an 'anonymous' lambda function `lambda` can be used to transform any value from that column into another one.   "
   ]
  },
  {
   "cell_type": "code",
   "execution_count": null,
   "metadata": {
    "id": "WUNAxlZ3WjpF"
   },
   "outputs": [],
   "source": [
    "df['tweet_link'] = df.index.map(lambda x: f'https://twitter.com/i/web/status/{x}')"
   ]
  },
  {
   "cell_type": "markdown",
   "metadata": {
    "id": "DMWT4GB3WjpF"
   },
   "source": [
    "Or, maybe it is easier with a list comprehension:"
   ]
  },
  {
   "cell_type": "code",
   "execution_count": null,
   "metadata": {
    "id": "dFZtLGXPWjpF"
   },
   "outputs": [],
   "source": [
    "df['tweet_link'] = [f'https://twitter.com/i/web/status/{x}' for x in df.index]"
   ]
  },
  {
   "cell_type": "code",
   "execution_count": null,
   "metadata": {
    "id": "qzr3BfiZWjpG"
   },
   "outputs": [],
   "source": [
    "df"
   ]
  },
  {
   "cell_type": "markdown",
   "metadata": {
    "id": "4DGRRkkGWjpG"
   },
   "source": [
    "#### Add colums with mentions"
   ]
  },
  {
   "cell_type": "code",
   "execution_count": null,
   "metadata": {
    "id": "Cn4Hwl_dWjpG"
   },
   "outputs": [],
   "source": [
    "import re\n",
    "\n",
    "def find_mentions(tweet_text):\n",
    "    \"\"\"\n",
    "    Find all @ mentions in a tweet and \n",
    "    return them as a list.\n",
    "    \"\"\"\n",
    "    \n",
    "    regex = r'@[a-zA-Z0-9_]{1,15}'\n",
    "    mentions = re.findall(regex, tweet_text)\n",
    "    \n",
    "    return mentions"
   ]
  },
  {
   "cell_type": "code",
   "execution_count": null,
   "metadata": {
    "id": "i7zFdmncWjpG"
   },
   "outputs": [],
   "source": [
    "df['tweet_mentions'] = df.text.apply(find_mentions)"
   ]
  },
  {
   "cell_type": "code",
   "execution_count": null,
   "metadata": {
    "id": "6S0dTdeCWjpG"
   },
   "outputs": [],
   "source": [
    "df['n_mentions'] = df.tweet_mentions.apply(len)"
   ]
  },
  {
   "cell_type": "code",
   "execution_count": null,
   "metadata": {
    "id": "1n8B7SbfWjpG"
   },
   "outputs": [],
   "source": [
    "df.head()"
   ]
  },
  {
   "cell_type": "markdown",
   "metadata": {
    "id": "SxVP2smVWjpG"
   },
   "source": [
    "#### Add column with week day and hour"
   ]
  },
  {
   "cell_type": "code",
   "execution_count": null,
   "metadata": {
    "id": "YkzyAnI7WjpH"
   },
   "outputs": [],
   "source": [
    "def day_of_week(t):\n",
    "    \"\"\"\n",
    "    Get the week day name from a week day integer.\n",
    "    \"\"\"\n",
    "    \n",
    "    if t == 0:\n",
    "        return \"Monday\"\n",
    "    elif t == 1:\n",
    "        return \"Tuesday\"\n",
    "    elif t == 2:\n",
    "        return \"Wednesday\"\n",
    "    elif t == 3:\n",
    "        return \"Thursday\"\n",
    "    elif t == 4:\n",
    "        return \"Friday\"\n",
    "    elif t == 5:\n",
    "        return \"Saturday\"\n",
    "    elif t == 6:\n",
    "        return \"Sunday\""
   ]
  },
  {
   "cell_type": "code",
   "execution_count": null,
   "metadata": {
    "id": "sWoQi-cTWjpH"
   },
   "outputs": [],
   "source": [
    "df[\"week_day\"] = df.created_at.dt.weekday"
   ]
  },
  {
   "cell_type": "code",
   "execution_count": null,
   "metadata": {
    "id": "zuaqzrMMWjpH"
   },
   "outputs": [],
   "source": [
    "df[\"week_day_name\"] = df[\"week_day\"].apply(day_of_week)"
   ]
  },
  {
   "cell_type": "markdown",
   "metadata": {
    "id": "69U8rYV9WjpH"
   },
   "source": [
    "Or, there is a built-in function in Pandas that gives back the day name:"
   ]
  },
  {
   "cell_type": "code",
   "execution_count": null,
   "metadata": {
    "id": "atR-yXkJWjpH"
   },
   "outputs": [],
   "source": [
    "df[\"week_day_name\"] = df.created_at.dt.day_name()"
   ]
  },
  {
   "cell_type": "code",
   "execution_count": null,
   "metadata": {
    "id": "wEpNKfF_WjpH"
   },
   "outputs": [],
   "source": [
    "df.head(3)"
   ]
  },
  {
   "cell_type": "markdown",
   "metadata": {
    "id": "dNyL9_17WjpH"
   },
   "source": [
    "#### Add column with day hour"
   ]
  },
  {
   "cell_type": "code",
   "execution_count": null,
   "metadata": {
    "id": "9-5fndLAWjpI"
   },
   "outputs": [],
   "source": [
    "df.created_at.dt?"
   ]
  },
  {
   "cell_type": "code",
   "execution_count": null,
   "metadata": {
    "id": "du8-hTt5WjpI"
   },
   "outputs": [],
   "source": [
    "df.created_at.dt.hour.head()"
   ]
  },
  {
   "cell_type": "code",
   "execution_count": null,
   "metadata": {
    "id": "SEa9CxUZWjpI"
   },
   "outputs": [],
   "source": [
    "df[\"day_hour\"] = df.created_at.dt.hour"
   ]
  },
  {
   "cell_type": "code",
   "execution_count": null,
   "metadata": {
    "id": "_d43pcy7WjpI"
   },
   "outputs": [],
   "source": [
    "display_cols = ['created_at', 'week_day', 'day_hour']\n",
    "df[display_cols].head(4)"
   ]
  },
  {
   "cell_type": "markdown",
   "metadata": {
    "id": "TkyG8sbsWjpI"
   },
   "source": [
    "##### Multiple conditions"
   ]
  },
  {
   "cell_type": "code",
   "execution_count": null,
   "metadata": {
    "id": "tVNBk98-WjpJ"
   },
   "outputs": [],
   "source": [
    "# AND condition with `&`\n",
    "\n",
    "df[\n",
    "    (df.week_day_name == 'Saturday') & (df.n_mentions == 0)\n",
    "].shape"
   ]
  },
  {
   "cell_type": "code",
   "execution_count": null,
   "metadata": {
    "id": "P0zJi5oEWjpJ"
   },
   "outputs": [],
   "source": [
    "# Equivalent expression with `query()`\n",
    "\n",
    "df.query(\"week_day_name == 'Saturday' and n_mentions == 0\").shape"
   ]
  },
  {
   "cell_type": "code",
   "execution_count": null,
   "metadata": {
    "id": "CTO1hlNhWjpJ"
   },
   "outputs": [],
   "source": [
    "# OR condition with `|`\n",
    "\n",
    "df[\n",
    "    (df.week_day_name == 'Saturday') | (df.n_mentions == 0)\n",
    "].shape"
   ]
  },
  {
   "cell_type": "markdown",
   "metadata": {
    "id": "kGqH23K5WjpJ"
   },
   "source": [
    "### Aggregation"
   ]
  },
  {
   "cell_type": "code",
   "execution_count": null,
   "metadata": {
    "id": "2JoiqWqnWjpJ"
   },
   "outputs": [],
   "source": [
    "df.agg({'n_mentions': ['min', 'max', 'sum']})"
   ]
  },
  {
   "cell_type": "markdown",
   "metadata": {
    "id": "247FXVzhWjpJ"
   },
   "source": [
    "#### Grouping"
   ]
  },
  {
   "cell_type": "code",
   "execution_count": null,
   "metadata": {
    "id": "qf8jfF1mWjpJ"
   },
   "outputs": [],
   "source": [
    "group_by_day = df.groupby('week_day')"
   ]
  },
  {
   "cell_type": "code",
   "execution_count": null,
   "metadata": {
    "id": "sVDAv-D5WjpK"
   },
   "outputs": [],
   "source": [
    "# The head of a DataFrameGroupBy consists of the first\n",
    "# n records for each group (see `help(grp_by_day.head)`)\n",
    "\n",
    "group_by_day.head(1)"
   ]
  },
  {
   "cell_type": "markdown",
   "metadata": {
    "id": "tWNCOjXtWjpK"
   },
   "source": [
    "`agg` is used to pass an aggregation function to be applied to each group resulting from `groupby`.\n",
    "\n",
    "Here we are interested in how many tweets there are for each group, so we pass `len()` to an 'aggregate'. This is similar to the `.count()` method. "
   ]
  },
  {
   "cell_type": "code",
   "execution_count": null,
   "metadata": {
    "id": "P1ATt8AiWjpK"
   },
   "outputs": [],
   "source": [
    "group_by_day.agg(len)"
   ]
  },
  {
   "cell_type": "markdown",
   "metadata": {
    "id": "wOiN3zPuWjpK"
   },
   "source": [
    "However, we are not interested in having the count for all columns. Rather we want to create a new dataframe with renamed column names."
   ]
  },
  {
   "cell_type": "code",
   "execution_count": null,
   "metadata": {
    "id": "t3avzNHOWjpK"
   },
   "outputs": [],
   "source": [
    "group_by_day.agg({'text': len}).rename({'text': 'tweet_count'}, axis='columns')"
   ]
  },
  {
   "cell_type": "markdown",
   "metadata": {
    "id": "VGArxHedWjpK"
   },
   "source": [
    "##### By label (column)"
   ]
  },
  {
   "cell_type": "markdown",
   "metadata": {
    "id": "HHa_A2Q2WjpK"
   },
   "source": [
    "Previously we've added a column indicating on which day of the week a given tweet appeared."
   ]
  },
  {
   "cell_type": "code",
   "execution_count": null,
   "metadata": {
    "id": "8jZ__JQSWjpL"
   },
   "outputs": [],
   "source": [
    "groupby_result_as_series = df.groupby('day_hour')['text'].count()"
   ]
  },
  {
   "cell_type": "code",
   "execution_count": null,
   "metadata": {
    "id": "BHogxsKsWjpL"
   },
   "outputs": [],
   "source": [
    "groupby_result_as_series"
   ]
  },
  {
   "cell_type": "code",
   "execution_count": null,
   "metadata": {
    "id": "PurAA8tWWjpL"
   },
   "outputs": [],
   "source": [
    "groupby_result_as_df = df.groupby('day_hour')[['text']]\\\n",
    "    .count()\\\n",
    "    .rename({'text': 'count'}, axis='columns')"
   ]
  },
  {
   "cell_type": "code",
   "execution_count": null,
   "metadata": {
    "id": "hHmsRRGrWjpL"
   },
   "outputs": [],
   "source": [
    "groupby_result_as_df.head()"
   ]
  },
  {
   "cell_type": "markdown",
   "metadata": {
    "id": "UUiyZfLJWjpL"
   },
   "source": [
    "##### By series or dict"
   ]
  },
  {
   "cell_type": "code",
   "execution_count": null,
   "metadata": {
    "id": "nl9sj2AHWjpL"
   },
   "outputs": [],
   "source": [
    "df.groupby?"
   ]
  },
  {
   "cell_type": "code",
   "execution_count": null,
   "metadata": {
    "id": "6qh4CJlxWjpL"
   },
   "outputs": [],
   "source": [
    "# here we pass the groups as a series\n",
    "df.groupby(df.created_at.dt.day).agg({'text':len}).head()"
   ]
  },
  {
   "cell_type": "code",
   "execution_count": null,
   "metadata": {
    "id": "_A4snuKTWjpM"
   },
   "outputs": [],
   "source": [
    "# here we pass the groups as a series\n",
    "df.groupby(df.created_at.dt.day)[['text']].count().head()"
   ]
  },
  {
   "cell_type": "code",
   "execution_count": null,
   "metadata": {
    "id": "-0znvZrHWjpM"
   },
   "outputs": [],
   "source": [
    "df.groupby(df.created_at.dt.hour)[['text']].count().head()"
   ]
  },
  {
   "cell_type": "markdown",
   "metadata": {
    "id": "AAeD5HadWjpM"
   },
   "source": [
    "##### By multiple labels (columns)"
   ]
  },
  {
   "cell_type": "code",
   "execution_count": null,
   "metadata": {
    "id": "fT3UrwA3WjpM"
   },
   "outputs": [],
   "source": [
    "# Here we group based on the values of two columns\n",
    "# instead of one\n",
    "\n",
    "x = df.groupby(['week_day', 'day_hour'])[['text']].count()"
   ]
  },
  {
   "cell_type": "code",
   "execution_count": null,
   "metadata": {
    "id": "KpHvHWgWWjpM"
   },
   "outputs": [],
   "source": [
    "x.head()"
   ]
  },
  {
   "cell_type": "markdown",
   "metadata": {
    "id": "z5zgvSBMWjpN"
   },
   "source": [
    "#### Aggregation methods\n",
    "\n",
    "**Summary**:\n",
    "\n",
    "- `count`: Number of non-NA values\n",
    "- `sum`: Sum of non-NA values\n",
    "- `mean`: Mean of non-NA values\n",
    "- `median`: Arithmetic median of non-NA values\n",
    "- `std`, `var`: standard deviation and variance\n",
    "- `min`, `max`: Minimum and maximum of non-NA values"
   ]
  },
  {
   "cell_type": "markdown",
   "metadata": {
    "id": "McaM09oBWjpN"
   },
   "source": [
    "You can also use these in an aggregation functions within a groupby:"
   ]
  },
  {
   "cell_type": "code",
   "execution_count": null,
   "metadata": {
    "id": "Av4JTDaGWjpN"
   },
   "outputs": [],
   "source": [
    "df.groupby('week_day').agg(\n",
    "    {\n",
    "        # each key in this dict specifies\n",
    "        # a given column\n",
    "        'n_mentions':[\n",
    "            # the list contains aggregation functions\n",
    "            # to be applied to this column\n",
    "            'count',\n",
    "            'mean',\n",
    "            'min',\n",
    "            'max',\n",
    "            'std',\n",
    "            'var'\n",
    "        ]\n",
    "    }\n",
    ")"
   ]
  },
  {
   "cell_type": "markdown",
   "metadata": {
    "id": "S03JNmiMWjpN"
   },
   "source": [
    "#### Sorting"
   ]
  },
  {
   "cell_type": "markdown",
   "metadata": {
    "id": "9DS3Y1I_WjpN"
   },
   "source": [
    "To sort the values of  a dataframe we use its `sort_values` method:\n",
    "- `by`: specifies the name of the column to be used for sorting\n",
    "- `ascending` (default = `True`): specifies whether the sorting should be *ascending* (A-Z, 0-9) or `descending` (Z-A, 9-0) "
   ]
  },
  {
   "cell_type": "code",
   "execution_count": null,
   "metadata": {
    "id": "W2xx3qjhWjpN"
   },
   "outputs": [],
   "source": [
    "df.sort_values(by='created_at', ascending=True).head()"
   ]
  },
  {
   "cell_type": "code",
   "execution_count": null,
   "metadata": {
    "id": "Kv9H2D6bWjpO"
   },
   "outputs": [],
   "source": [
    "df.sort_values(by='n_mentions', ascending=False).head()"
   ]
  },
  {
   "cell_type": "markdown",
   "metadata": {
    "id": "kF2g6hKRWjpO"
   },
   "source": [
    "### Save\n",
    "\n",
    "Before continuing with the plotting, let's save our enhanced dataframe, so that we can come back to it without having to redo the same manipulations on it.\n",
    "\n",
    "`pandas` provides a number of handy functions to export dataframes in a variety of formats."
   ]
  },
  {
   "cell_type": "markdown",
   "metadata": {
    "id": "CAXx_eFQWjpO"
   },
   "source": [
    "Here we use `.to_pickle()` to serialize the dataframe into a binary format, by using behind the scenes Python's `pickle` library. "
   ]
  },
  {
   "cell_type": "code",
   "execution_count": null,
   "metadata": {
    "id": "DJcFasz0WjpO"
   },
   "outputs": [],
   "source": [
    "df.to_pickle(\"stuff/musk_tweets_enhanced.pickle\")"
   ]
  },
  {
   "cell_type": "markdown",
   "metadata": {
    "id": "XP15yKiGWjpO"
   },
   "source": [
    "## Part 2"
   ]
  },
  {
   "cell_type": "code",
   "execution_count": null,
   "metadata": {
    "id": "InFDIq1aWjpO"
   },
   "outputs": [],
   "source": [
    "df = pd.read_pickle(\"stuff/musk_tweets_enhanced.pickle\")"
   ]
  },
  {
   "cell_type": "markdown",
   "metadata": {
    "id": "_NV235sBWjpO"
   },
   "source": [
    "### `describe()`"
   ]
  },
  {
   "cell_type": "markdown",
   "metadata": {
    "id": "W8GCeXlrWjpO"
   },
   "source": [
    "The default behavior is to include only column with numerical values"
   ]
  },
  {
   "cell_type": "code",
   "execution_count": null,
   "metadata": {
    "id": "do_rgIRFWjpP"
   },
   "outputs": [],
   "source": [
    "df.describe()"
   ]
  },
  {
   "cell_type": "markdown",
   "metadata": {
    "id": "imeVXNXEWjpP"
   },
   "source": [
    "A trick to include more values is to exclude the datatype on which it breaks, which in our case is `list`. "
   ]
  },
  {
   "cell_type": "code",
   "execution_count": null,
   "metadata": {
    "id": "lWJ-qEuuWjpP"
   },
   "outputs": [],
   "source": [
    "df.describe(exclude=[list])"
   ]
  },
  {
   "cell_type": "code",
   "execution_count": null,
   "metadata": {
    "id": "HVmtrWgAWjpP"
   },
   "outputs": [],
   "source": [
    "df.created_at.describe(datetime_is_numeric=True)"
   ]
  },
  {
   "cell_type": "code",
   "execution_count": null,
   "metadata": {
    "id": "kf56VOrmWjpP"
   },
   "outputs": [],
   "source": [
    "df['week_day_name'] = df['week_day_name'].astype('category')"
   ]
  },
  {
   "cell_type": "code",
   "execution_count": null,
   "metadata": {
    "id": "q9C-ZeKYWjpP"
   },
   "outputs": [],
   "source": [
    "df.describe(exclude=['object'])"
   ]
  },
  {
   "cell_type": "markdown",
   "metadata": {
    "id": "qtuFoYDKWjpP"
   },
   "source": [
    "### Plotting"
   ]
  },
  {
   "cell_type": "code",
   "execution_count": 21,
   "metadata": {
    "id": "Ept3KEdqWjpP"
   },
   "outputs": [
    {
     "ename": "ImportError",
     "evalue": "\n\nIMPORTANT: PLEASE READ THIS FOR ADVICE ON HOW TO SOLVE THIS ISSUE!\n\nImporting the numpy C-extensions failed. This error can happen for\nmany reasons, often due to issues with your setup or how NumPy was\ninstalled.\n\nWe have compiled some common reasons and troubleshooting tips at:\n\n    https://numpy.org/devdocs/user/troubleshooting-importerror.html\n\nPlease note and check the following:\n\n  * The Python version is: Python3.10 from \"/Users/george/Desktop/Uni/Development/georges-2023-coding-the-humanities/venv/bin/python\"\n  * The NumPy version is: \"1.24.2\"\n\nand make sure that they are the versions you expect.\nPlease carefully study the documentation linked above for further help.\n\nOriginal error was: No module named 'numpy.core._multiarray_umath'\n",
     "output_type": "error",
     "traceback": [
      "\u001B[0;31m---------------------------------------------------------------------------\u001B[0m",
      "\u001B[0;31mModuleNotFoundError\u001B[0m                       Traceback (most recent call last)",
      "File \u001B[0;32m~/Desktop/Uni/Development/georges-2023-coding-the-humanities/venv/lib/python3.10/site-packages/numpy/core/__init__.py:23\u001B[0m\n\u001B[1;32m     22\u001B[0m \u001B[38;5;28;01mtry\u001B[39;00m:\n\u001B[0;32m---> 23\u001B[0m     \u001B[38;5;28;01mfrom\u001B[39;00m \u001B[38;5;21;01m.\u001B[39;00m \u001B[38;5;28;01mimport\u001B[39;00m multiarray\n\u001B[1;32m     24\u001B[0m \u001B[38;5;28;01mexcept\u001B[39;00m \u001B[38;5;167;01mImportError\u001B[39;00m \u001B[38;5;28;01mas\u001B[39;00m exc:\n",
      "File \u001B[0;32m~/Desktop/Uni/Development/georges-2023-coding-the-humanities/venv/lib/python3.10/site-packages/numpy/core/multiarray.py:10\u001B[0m\n\u001B[1;32m      9\u001B[0m \u001B[38;5;28;01mimport\u001B[39;00m \u001B[38;5;21;01mfunctools\u001B[39;00m\n\u001B[0;32m---> 10\u001B[0m \u001B[38;5;28;01mfrom\u001B[39;00m \u001B[38;5;21;01m.\u001B[39;00m \u001B[38;5;28;01mimport\u001B[39;00m overrides\n\u001B[1;32m     11\u001B[0m \u001B[38;5;28;01mfrom\u001B[39;00m \u001B[38;5;21;01m.\u001B[39;00m \u001B[38;5;28;01mimport\u001B[39;00m _multiarray_umath\n",
      "File \u001B[0;32m~/Desktop/Uni/Development/georges-2023-coding-the-humanities/venv/lib/python3.10/site-packages/numpy/core/overrides.py:6\u001B[0m\n\u001B[1;32m      4\u001B[0m \u001B[38;5;28;01mimport\u001B[39;00m \u001B[38;5;21;01mos\u001B[39;00m\n\u001B[0;32m----> 6\u001B[0m \u001B[38;5;28;01mfrom\u001B[39;00m \u001B[38;5;21;01mnumpy\u001B[39;00m\u001B[38;5;21;01m.\u001B[39;00m\u001B[38;5;21;01mcore\u001B[39;00m\u001B[38;5;21;01m.\u001B[39;00m\u001B[38;5;21;01m_multiarray_umath\u001B[39;00m \u001B[38;5;28;01mimport\u001B[39;00m (\n\u001B[1;32m      7\u001B[0m     add_docstring, implement_array_function, _get_implementing_args)\n\u001B[1;32m      8\u001B[0m \u001B[38;5;28;01mfrom\u001B[39;00m \u001B[38;5;21;01mnumpy\u001B[39;00m\u001B[38;5;21;01m.\u001B[39;00m\u001B[38;5;21;01mcompat\u001B[39;00m\u001B[38;5;21;01m.\u001B[39;00m\u001B[38;5;21;01m_inspect\u001B[39;00m \u001B[38;5;28;01mimport\u001B[39;00m getargspec\n",
      "\u001B[0;31mModuleNotFoundError\u001B[0m: No module named 'numpy.core._multiarray_umath'",
      "\nDuring handling of the above exception, another exception occurred:\n",
      "\u001B[0;31mImportError\u001B[0m                               Traceback (most recent call last)",
      "Cell \u001B[0;32mIn[21], line 2\u001B[0m\n\u001B[1;32m      1\u001B[0m \u001B[38;5;66;03m# Not needed in newest Pandas version\u001B[39;00m\n\u001B[0;32m----> 2\u001B[0m \u001B[43mget_ipython\u001B[49m\u001B[43m(\u001B[49m\u001B[43m)\u001B[49m\u001B[38;5;241;43m.\u001B[39;49m\u001B[43mrun_line_magic\u001B[49m\u001B[43m(\u001B[49m\u001B[38;5;124;43m'\u001B[39;49m\u001B[38;5;124;43mmatplotlib\u001B[39;49m\u001B[38;5;124;43m'\u001B[39;49m\u001B[43m,\u001B[49m\u001B[43m \u001B[49m\u001B[38;5;124;43m'\u001B[39;49m\u001B[38;5;124;43minline\u001B[39;49m\u001B[38;5;124;43m'\u001B[39;49m\u001B[43m)\u001B[49m\n\u001B[1;32m      4\u001B[0m \u001B[38;5;28;01mimport\u001B[39;00m \u001B[38;5;21;01mmatplotlib\u001B[39;00m\u001B[38;5;21;01m.\u001B[39;00m\u001B[38;5;21;01mpyplot\u001B[39;00m \u001B[38;5;28;01mas\u001B[39;00m \u001B[38;5;21;01mplt\u001B[39;00m\n",
      "File \u001B[0;32m~/Desktop/Uni/Development/georges-2023-coding-the-humanities/venv/lib/python3.10/site-packages/IPython/core/interactiveshell.py:2369\u001B[0m, in \u001B[0;36mInteractiveShell.run_line_magic\u001B[0;34m(self, magic_name, line, _stack_depth)\u001B[0m\n\u001B[1;32m   2367\u001B[0m     kwargs[\u001B[38;5;124m'\u001B[39m\u001B[38;5;124mlocal_ns\u001B[39m\u001B[38;5;124m'\u001B[39m] \u001B[38;5;241m=\u001B[39m \u001B[38;5;28mself\u001B[39m\u001B[38;5;241m.\u001B[39mget_local_scope(stack_depth)\n\u001B[1;32m   2368\u001B[0m \u001B[38;5;28;01mwith\u001B[39;00m \u001B[38;5;28mself\u001B[39m\u001B[38;5;241m.\u001B[39mbuiltin_trap:\n\u001B[0;32m-> 2369\u001B[0m     result \u001B[38;5;241m=\u001B[39m \u001B[43mfn\u001B[49m\u001B[43m(\u001B[49m\u001B[38;5;241;43m*\u001B[39;49m\u001B[43margs\u001B[49m\u001B[43m,\u001B[49m\u001B[43m \u001B[49m\u001B[38;5;241;43m*\u001B[39;49m\u001B[38;5;241;43m*\u001B[39;49m\u001B[43mkwargs\u001B[49m\u001B[43m)\u001B[49m\n\u001B[1;32m   2371\u001B[0m \u001B[38;5;66;03m# The code below prevents the output from being displayed\u001B[39;00m\n\u001B[1;32m   2372\u001B[0m \u001B[38;5;66;03m# when using magics with decodator @output_can_be_silenced\u001B[39;00m\n\u001B[1;32m   2373\u001B[0m \u001B[38;5;66;03m# when the last Python token in the expression is a ';'.\u001B[39;00m\n\u001B[1;32m   2374\u001B[0m \u001B[38;5;28;01mif\u001B[39;00m \u001B[38;5;28mgetattr\u001B[39m(fn, magic\u001B[38;5;241m.\u001B[39mMAGIC_OUTPUT_CAN_BE_SILENCED, \u001B[38;5;28;01mFalse\u001B[39;00m):\n",
      "File \u001B[0;32m~/Desktop/Uni/Development/georges-2023-coding-the-humanities/venv/lib/python3.10/site-packages/IPython/core/magics/pylab.py:99\u001B[0m, in \u001B[0;36mPylabMagics.matplotlib\u001B[0;34m(self, line)\u001B[0m\n\u001B[1;32m     97\u001B[0m     \u001B[38;5;28mprint\u001B[39m(\u001B[38;5;124m\"\u001B[39m\u001B[38;5;124mAvailable matplotlib backends: \u001B[39m\u001B[38;5;132;01m%s\u001B[39;00m\u001B[38;5;124m\"\u001B[39m \u001B[38;5;241m%\u001B[39m backends_list)\n\u001B[1;32m     98\u001B[0m \u001B[38;5;28;01melse\u001B[39;00m:\n\u001B[0;32m---> 99\u001B[0m     gui, backend \u001B[38;5;241m=\u001B[39m \u001B[38;5;28;43mself\u001B[39;49m\u001B[38;5;241;43m.\u001B[39;49m\u001B[43mshell\u001B[49m\u001B[38;5;241;43m.\u001B[39;49m\u001B[43menable_matplotlib\u001B[49m\u001B[43m(\u001B[49m\u001B[43margs\u001B[49m\u001B[38;5;241;43m.\u001B[39;49m\u001B[43mgui\u001B[49m\u001B[38;5;241;43m.\u001B[39;49m\u001B[43mlower\u001B[49m\u001B[43m(\u001B[49m\u001B[43m)\u001B[49m\u001B[43m \u001B[49m\u001B[38;5;28;43;01mif\u001B[39;49;00m\u001B[43m \u001B[49m\u001B[38;5;28;43misinstance\u001B[39;49m\u001B[43m(\u001B[49m\u001B[43margs\u001B[49m\u001B[38;5;241;43m.\u001B[39;49m\u001B[43mgui\u001B[49m\u001B[43m,\u001B[49m\u001B[43m \u001B[49m\u001B[38;5;28;43mstr\u001B[39;49m\u001B[43m)\u001B[49m\u001B[43m \u001B[49m\u001B[38;5;28;43;01melse\u001B[39;49;00m\u001B[43m \u001B[49m\u001B[43margs\u001B[49m\u001B[38;5;241;43m.\u001B[39;49m\u001B[43mgui\u001B[49m\u001B[43m)\u001B[49m\n\u001B[1;32m    100\u001B[0m     \u001B[38;5;28mself\u001B[39m\u001B[38;5;241m.\u001B[39m_show_matplotlib_backend(args\u001B[38;5;241m.\u001B[39mgui, backend)\n",
      "File \u001B[0;32m~/Desktop/Uni/Development/georges-2023-coding-the-humanities/venv/lib/python3.10/site-packages/IPython/core/interactiveshell.py:3540\u001B[0m, in \u001B[0;36mInteractiveShell.enable_matplotlib\u001B[0;34m(self, gui)\u001B[0m\n\u001B[1;32m   3519\u001B[0m \u001B[38;5;28;01mdef\u001B[39;00m \u001B[38;5;21menable_matplotlib\u001B[39m(\u001B[38;5;28mself\u001B[39m, gui\u001B[38;5;241m=\u001B[39m\u001B[38;5;28;01mNone\u001B[39;00m):\n\u001B[1;32m   3520\u001B[0m \u001B[38;5;250m    \u001B[39m\u001B[38;5;124;03m\"\"\"Enable interactive matplotlib and inline figure support.\u001B[39;00m\n\u001B[1;32m   3521\u001B[0m \n\u001B[1;32m   3522\u001B[0m \u001B[38;5;124;03m    This takes the following steps:\u001B[39;00m\n\u001B[0;32m   (...)\u001B[0m\n\u001B[1;32m   3538\u001B[0m \u001B[38;5;124;03m        display figures inline.\u001B[39;00m\n\u001B[1;32m   3539\u001B[0m \u001B[38;5;124;03m    \"\"\"\u001B[39;00m\n\u001B[0;32m-> 3540\u001B[0m     \u001B[38;5;28;01mfrom\u001B[39;00m \u001B[38;5;21;01mmatplotlib_inline\u001B[39;00m\u001B[38;5;21;01m.\u001B[39;00m\u001B[38;5;21;01mbackend_inline\u001B[39;00m \u001B[38;5;28;01mimport\u001B[39;00m configure_inline_support\n\u001B[1;32m   3542\u001B[0m     \u001B[38;5;28;01mfrom\u001B[39;00m \u001B[38;5;21;01mIPython\u001B[39;00m\u001B[38;5;21;01m.\u001B[39;00m\u001B[38;5;21;01mcore\u001B[39;00m \u001B[38;5;28;01mimport\u001B[39;00m pylabtools \u001B[38;5;28;01mas\u001B[39;00m pt\n\u001B[1;32m   3543\u001B[0m     gui, backend \u001B[38;5;241m=\u001B[39m pt\u001B[38;5;241m.\u001B[39mfind_gui_and_backend(gui, \u001B[38;5;28mself\u001B[39m\u001B[38;5;241m.\u001B[39mpylab_gui_select)\n",
      "File \u001B[0;32m~/Desktop/Uni/Development/georges-2023-coding-the-humanities/venv/lib/python3.10/site-packages/matplotlib_inline/__init__.py:1\u001B[0m\n\u001B[0;32m----> 1\u001B[0m \u001B[38;5;28;01mfrom\u001B[39;00m \u001B[38;5;21;01m.\u001B[39;00m \u001B[38;5;28;01mimport\u001B[39;00m backend_inline, config  \u001B[38;5;66;03m# noqa\u001B[39;00m\n\u001B[1;32m      2\u001B[0m __version__ \u001B[38;5;241m=\u001B[39m \u001B[38;5;124m\"\u001B[39m\u001B[38;5;124m0.1.6\u001B[39m\u001B[38;5;124m\"\u001B[39m  \u001B[38;5;66;03m# noqa\u001B[39;00m\n",
      "File \u001B[0;32m~/Desktop/Uni/Development/georges-2023-coding-the-humanities/venv/lib/python3.10/site-packages/matplotlib_inline/backend_inline.py:6\u001B[0m\n\u001B[1;32m      1\u001B[0m \u001B[38;5;124;03m\"\"\"A matplotlib backend for publishing figures via display_data\"\"\"\u001B[39;00m\n\u001B[1;32m      3\u001B[0m \u001B[38;5;66;03m# Copyright (c) IPython Development Team.\u001B[39;00m\n\u001B[1;32m      4\u001B[0m \u001B[38;5;66;03m# Distributed under the terms of the BSD 3-Clause License.\u001B[39;00m\n\u001B[0;32m----> 6\u001B[0m \u001B[38;5;28;01mimport\u001B[39;00m \u001B[38;5;21;01mmatplotlib\u001B[39;00m\n\u001B[1;32m      7\u001B[0m \u001B[38;5;28;01mfrom\u001B[39;00m \u001B[38;5;21;01mmatplotlib\u001B[39;00m \u001B[38;5;28;01mimport\u001B[39;00m colors\n\u001B[1;32m      8\u001B[0m \u001B[38;5;28;01mfrom\u001B[39;00m \u001B[38;5;21;01mmatplotlib\u001B[39;00m\u001B[38;5;21;01m.\u001B[39;00m\u001B[38;5;21;01mbackends\u001B[39;00m \u001B[38;5;28;01mimport\u001B[39;00m backend_agg\n",
      "File \u001B[0;32m~/Desktop/Uni/Development/georges-2023-coding-the-humanities/venv/lib/python3.10/site-packages/matplotlib/__init__.py:126\u001B[0m\n\u001B[1;32m    123\u001B[0m \u001B[38;5;28;01mimport\u001B[39;00m \u001B[38;5;21;01mtempfile\u001B[39;00m\n\u001B[1;32m    124\u001B[0m \u001B[38;5;28;01mimport\u001B[39;00m \u001B[38;5;21;01mwarnings\u001B[39;00m\n\u001B[0;32m--> 126\u001B[0m \u001B[38;5;28;01mimport\u001B[39;00m \u001B[38;5;21;01mnumpy\u001B[39;00m\n\u001B[1;32m    127\u001B[0m \u001B[38;5;28;01mfrom\u001B[39;00m \u001B[38;5;21;01mpackaging\u001B[39;00m\u001B[38;5;21;01m.\u001B[39;00m\u001B[38;5;21;01mversion\u001B[39;00m \u001B[38;5;28;01mimport\u001B[39;00m parse \u001B[38;5;28;01mas\u001B[39;00m parse_version\n\u001B[1;32m    129\u001B[0m \u001B[38;5;66;03m# cbook must import matplotlib only within function\u001B[39;00m\n\u001B[1;32m    130\u001B[0m \u001B[38;5;66;03m# definitions, so it is safe to import from it here.\u001B[39;00m\n",
      "File \u001B[0;32m~/Desktop/Uni/Development/georges-2023-coding-the-humanities/venv/lib/python3.10/site-packages/numpy/__init__.py:141\u001B[0m\n\u001B[1;32m    138\u001B[0m \u001B[38;5;66;03m# Allow distributors to run custom init code\u001B[39;00m\n\u001B[1;32m    139\u001B[0m \u001B[38;5;28;01mfrom\u001B[39;00m \u001B[38;5;21;01m.\u001B[39;00m \u001B[38;5;28;01mimport\u001B[39;00m _distributor_init\n\u001B[0;32m--> 141\u001B[0m \u001B[38;5;28;01mfrom\u001B[39;00m \u001B[38;5;21;01m.\u001B[39;00m \u001B[38;5;28;01mimport\u001B[39;00m core\n\u001B[1;32m    142\u001B[0m \u001B[38;5;28;01mfrom\u001B[39;00m \u001B[38;5;21;01m.\u001B[39;00m\u001B[38;5;21;01mcore\u001B[39;00m \u001B[38;5;28;01mimport\u001B[39;00m \u001B[38;5;241m*\u001B[39m\n\u001B[1;32m    143\u001B[0m \u001B[38;5;28;01mfrom\u001B[39;00m \u001B[38;5;21;01m.\u001B[39;00m \u001B[38;5;28;01mimport\u001B[39;00m compat\n",
      "File \u001B[0;32m~/Desktop/Uni/Development/georges-2023-coding-the-humanities/venv/lib/python3.10/site-packages/numpy/core/__init__.py:49\u001B[0m\n\u001B[1;32m     25\u001B[0m     \u001B[38;5;28;01mimport\u001B[39;00m \u001B[38;5;21;01msys\u001B[39;00m\n\u001B[1;32m     26\u001B[0m     msg \u001B[38;5;241m=\u001B[39m \u001B[38;5;124m\"\"\"\u001B[39m\n\u001B[1;32m     27\u001B[0m \n\u001B[1;32m     28\u001B[0m \u001B[38;5;124mIMPORTANT: PLEASE READ THIS FOR ADVICE ON HOW TO SOLVE THIS ISSUE!\u001B[39m\n\u001B[0;32m   (...)\u001B[0m\n\u001B[1;32m     47\u001B[0m \u001B[38;5;124m\"\"\"\u001B[39m \u001B[38;5;241m%\u001B[39m (sys\u001B[38;5;241m.\u001B[39mversion_info[\u001B[38;5;241m0\u001B[39m], sys\u001B[38;5;241m.\u001B[39mversion_info[\u001B[38;5;241m1\u001B[39m], sys\u001B[38;5;241m.\u001B[39mexecutable,\n\u001B[1;32m     48\u001B[0m         __version__, exc)\n\u001B[0;32m---> 49\u001B[0m     \u001B[38;5;28;01mraise\u001B[39;00m \u001B[38;5;167;01mImportError\u001B[39;00m(msg)\n\u001B[1;32m     50\u001B[0m \u001B[38;5;28;01mfinally\u001B[39;00m:\n\u001B[1;32m     51\u001B[0m     \u001B[38;5;28;01mfor\u001B[39;00m envkey \u001B[38;5;129;01min\u001B[39;00m env_added:\n",
      "\u001B[0;31mImportError\u001B[0m: \n\nIMPORTANT: PLEASE READ THIS FOR ADVICE ON HOW TO SOLVE THIS ISSUE!\n\nImporting the numpy C-extensions failed. This error can happen for\nmany reasons, often due to issues with your setup or how NumPy was\ninstalled.\n\nWe have compiled some common reasons and troubleshooting tips at:\n\n    https://numpy.org/devdocs/user/troubleshooting-importerror.html\n\nPlease note and check the following:\n\n  * The Python version is: Python3.10 from \"/Users/george/Desktop/Uni/Development/georges-2023-coding-the-humanities/venv/bin/python\"\n  * The NumPy version is: \"1.24.2\"\n\nand make sure that they are the versions you expect.\nPlease carefully study the documentation linked above for further help.\n\nOriginal error was: No module named 'numpy.core._multiarray_umath'\n"
     ]
    }
   ],
   "source": [
    "# Not needed in newest Pandas version\n",
    "%matplotlib inline \n",
    "\n",
    "import matplotlib.pyplot as plt"
   ]
  },
  {
   "cell_type": "markdown",
   "metadata": {
    "id": "a6a3V4JnWjpQ"
   },
   "source": [
    "#### Histograms\n",
    "\n",
    "They are useful to see the distribution of a certain variable in your dataset."
   ]
  },
  {
   "cell_type": "code",
   "execution_count": null,
   "metadata": {
    "id": "WSIvsnS2WjpQ"
   },
   "outputs": [],
   "source": [
    "df.groupby(['n_mentions'])[['text']].count()"
   ]
  },
  {
   "cell_type": "code",
   "execution_count": null,
   "metadata": {
    "id": "jf8tZ8zeWjpQ"
   },
   "outputs": [],
   "source": [
    "plt.figure(figsize=(10, 6))\n",
    "plt.hist(df.n_mentions, bins='auto', rwidth=1.0)\n",
    "plt.title('Distribution of the number of mentions per tweet')\n",
    "plt.ylabel(\"Tweets\")\n",
    "plt.xlabel(\"Mentions (per tweet)\")\n",
    "plt.show()"
   ]
  },
  {
   "cell_type": "code",
   "execution_count": null,
   "metadata": {
    "id": "Mw3FT2I1WjpQ"
   },
   "outputs": [],
   "source": [
    "plt.figure(figsize=(10, 6))\n",
    "plt.hist(df.day_hour, bins='auto', rwidth=0.6)\n",
    "plt.title('Distribution of the number of mentions per tweet')\n",
    "plt.ylabel(\"Tweets\")\n",
    "plt.xlabel(\"Hour of the day\")\n",
    "plt.show()"
   ]
  },
  {
   "cell_type": "code",
   "execution_count": null,
   "metadata": {
    "id": "1nhigOF3WjpQ"
   },
   "outputs": [],
   "source": [
    "df_2017 = df[df.created_at.dt.year == 2017]"
   ]
  },
  {
   "cell_type": "code",
   "execution_count": null,
   "metadata": {
    "id": "DL5IrIngWjpQ"
   },
   "outputs": [],
   "source": [
    "plt.figure(figsize=(10, 6))\n",
    "plt.hist(df_2017.day_hour, bins='auto', rwidth=0.6)\n",
    "plt.title('Year 2017')\n",
    "plt.ylabel(\"Tweets\")\n",
    "plt.xlabel(\"Hour of the day\")\n",
    "plt.show()"
   ]
  },
  {
   "cell_type": "markdown",
   "metadata": {
    "id": "lY2JtrzhWjpQ"
   },
   "source": [
    "So far we have used directly `matplotlib` to generate our plots.\n",
    "\n",
    "`pandas`'s dataframes provide some methods that directly call `matplotlib`'s API behind the scenes:\n",
    "- `hist()` for histograms\n",
    "- `boxplot()` for boxplots\n",
    "- `plot()` for other types of plots (specified with e.g. `any='scatter'`)"
   ]
  },
  {
   "cell_type": "markdown",
   "metadata": {
    "id": "p_ctcaYrWjpQ"
   },
   "source": [
    "By passing the `by` parameter to e.g. `hist()` it is possible to produce one histogram plot of a given variable for each value in another column."
   ]
  },
  {
   "cell_type": "markdown",
   "metadata": {
    "id": "h35FvUBrWjpR"
   },
   "source": [
    "Let's see how we can plot the number of mentions by year:"
   ]
  },
  {
   "cell_type": "code",
   "execution_count": null,
   "metadata": {
    "id": "fwDZHZOyWjpR"
   },
   "outputs": [],
   "source": [
    "df['year'] = df.created_at.dt.year"
   ]
  },
  {
   "cell_type": "code",
   "execution_count": null,
   "metadata": {
    "id": "qabk8SHKWjpR"
   },
   "outputs": [],
   "source": [
    "axes = df.hist(column='day_hour', by='year', figsize=(10,10))"
   ]
  },
  {
   "cell_type": "markdown",
   "metadata": {
    "id": "KxZG0diqWjpR"
   },
   "source": [
    "#### Bar charts\n",
    "\n",
    "They are useful to plot categorical data."
   ]
  },
  {
   "cell_type": "code",
   "execution_count": null,
   "metadata": {
    "id": "nazqFakwWjpR"
   },
   "outputs": [],
   "source": [
    "plt.bar?"
   ]
  },
  {
   "cell_type": "code",
   "execution_count": null,
   "metadata": {
    "id": "nROj0KQGWjpR"
   },
   "outputs": [],
   "source": [
    "tweets_by_weekday = df.groupby(df.created_at.dt.weekday)[['text']].count()"
   ]
  },
  {
   "cell_type": "code",
   "execution_count": null,
   "metadata": {
    "id": "pHrTiv6GWjpR"
   },
   "outputs": [],
   "source": [
    "week_days = [\n",
    "    \"Mon\",\n",
    "    \"Tue\",\n",
    "    \"Wed\",\n",
    "    \"Thur\",\n",
    "    \"Fri\",\n",
    "    \"Sat\",\n",
    "    \"Sun\"\n",
    "]"
   ]
  },
  {
   "cell_type": "code",
   "execution_count": null,
   "metadata": {
    "id": "u16bx22pWjpS"
   },
   "outputs": [],
   "source": [
    "plt.figure(figsize=(8, 6))\n",
    "\n",
    "# specify the type of plot and the labels\n",
    "# for the y axis (the bars)\n",
    "plt.bar(\n",
    "    tweets_by_weekday.index,\n",
    "    tweets_by_weekday.text,\n",
    "    tick_label=week_days,\n",
    "    width=0.5\n",
    ")\n",
    "\n",
    "# give a title to the plot\n",
    "plt.title('Elon Musk\\'s week on Twitter')\n",
    "\n",
    "# give a label to the axes\n",
    "plt.ylabel(\"Number of tweets\")\n",
    "plt.xlabel(\"Week day\")\n",
    "plt.show()"
   ]
  },
  {
   "cell_type": "markdown",
   "metadata": {
    "id": "or-3iZHkWjpS"
   },
   "source": [
    "#### Box plots\n",
    "\n",
    "![box plot explained](https://github.com/bloemj/2022-coding-the-humanities/blob/master/notebooks/images/eda-boxplot.png?raw=1)"
   ]
  },
  {
   "cell_type": "markdown",
   "metadata": {
    "id": "8diAjB28WjpS"
   },
   "source": [
    "### Outliers, missing values\n",
    "\n",
    "An *outlier* is an observation far from the center of mass of the distribution. It might be an error or a genuine observation: this distinction requires domain knowledge. Outliers infuence the outcomes of several statistics and machine learning methods: it is important to decide how to deal with them.\n",
    "\n",
    "A *missing value* is an observation without a value. There can be many reasons for a missing value: the value might not exist (hence its absence is informative and it should be left empty) or might not be known (hence the value is existing but missing in the dataset and it should be marked as NA).\n",
    "\n",
    "*One way to think about the difference is with this Zen-like koan: An explicit missing value is the presence of an absence; an implicit missing value is the absence of a presence.*"
   ]
  },
  {
   "cell_type": "code",
   "execution_count": null,
   "metadata": {
    "id": "fqQ9M64yWjpS"
   },
   "outputs": [],
   "source": [
    "tweets_by_weekday"
   ]
  },
  {
   "cell_type": "code",
   "execution_count": null,
   "metadata": {
    "id": "MxF7BC66WjpS"
   },
   "outputs": [],
   "source": [
    "tweets_by_weekday.describe()"
   ]
  },
  {
   "cell_type": "code",
   "execution_count": null,
   "metadata": {
    "id": "TMk9HWgKWjpS"
   },
   "outputs": [],
   "source": [
    "tweets_by_weekday.boxplot()"
   ]
  },
  {
   "cell_type": "code",
   "execution_count": null,
   "metadata": {
    "id": "mQynlW_qWjpS"
   },
   "outputs": [],
   "source": [
    "plt.bar?"
   ]
  },
  {
   "cell_type": "code",
   "execution_count": null,
   "metadata": {
    "id": "pWog_GvdWjpS"
   },
   "outputs": [],
   "source": [
    "df.head(3)"
   ]
  },
  {
   "cell_type": "code",
   "execution_count": null,
   "metadata": {
    "id": "qi9qNbwYWjpS"
   },
   "outputs": [],
   "source": [
    "df[['day_hour']].describe()"
   ]
  },
  {
   "cell_type": "code",
   "execution_count": null,
   "metadata": {
    "id": "Abyiaf0RWjpS"
   },
   "outputs": [],
   "source": [
    "df[['day_hour']].quantile(.25)"
   ]
  },
  {
   "cell_type": "code",
   "execution_count": null,
   "metadata": {
    "id": "gWT70MgBWjpT"
   },
   "outputs": [],
   "source": [
    "df.boxplot?"
   ]
  },
  {
   "cell_type": "code",
   "execution_count": null,
   "metadata": {
    "id": "N4DqfJyuWjpT"
   },
   "outputs": [],
   "source": [
    "df[['day_hour', 'week_day_name']].boxplot(\n",
    "    by='week_day_name',\n",
    "    grid=False,\n",
    "    figsize=(8,6),\n",
    "    fontsize=10\n",
    ")\n",
    "\n",
    "# give a title to the plot\n",
    "plt.title('')\n",
    "\n",
    "# give a label to the axes\n",
    "plt.xlabel(\"Day of the week\")\n",
    "plt.show()"
   ]
  },
  {
   "cell_type": "code",
   "execution_count": null,
   "metadata": {
    "id": "OljB9txHWjpT"
   },
   "outputs": [],
   "source": [
    "df[['day_hour', 'week_day']].boxplot(\n",
    "    by='week_day',\n",
    "    grid=True, # just to show the difference with/without\n",
    "    figsize=(8,6),\n",
    "    fontsize=10\n",
    ")\n",
    "\n",
    "# give a title to the plot\n",
    "plt.title('')\n",
    "\n",
    "# give a label to the axes\n",
    "plt.xlabel(\"Day of the week\")\n",
    "plt.show()"
   ]
  },
  {
   "cell_type": "markdown",
   "metadata": {
    "id": "sybT6sNaWjpT"
   },
   "source": [
    "### Exercise 1.\n",
    "\n",
    "* Create a function that calculates the frequency of hashtags in tweets.\n",
    "* Test it on toy examples, to make sure it works.\n",
    "* Apply it to Elon Musk's tweets.\n",
    "* List the top 10 hashtags in the dataset."
   ]
  },
  {
   "cell_type": "code",
   "execution_count": null,
   "metadata": {
    "id": "mkfqkxeSWjpT"
   },
   "outputs": [],
   "source": [
    "# Your code here."
   ]
  },
  {
   "cell_type": "markdown",
   "metadata": {
    "id": "-vE_Pm5rWjpT"
   },
   "source": [
    "### Exercise 2.\n",
    "\n",
    "Read the file `data/adams-hhgttg.txt` and:\n",
    "\n",
    "- Count the number of occurrences per distinct word in the text.\n",
    "\n",
    "- Create a data frame with two columns: word and counts.\n",
    "\n",
    "- Plot the histogram of the word frequencies and think about what is happening."
   ]
  },
  {
   "cell_type": "code",
   "execution_count": null,
   "metadata": {
    "id": "LuDfR5K4WjpT"
   },
   "outputs": [],
   "source": [
    "# Your code here."
   ]
  },
  {
   "cell_type": "markdown",
   "metadata": {
    "id": "XOOk4v2xWjpT"
   },
   "source": [
    "---\n"
   ]
  }
 ],
 "metadata": {
  "colab": {
   "name": "4_PandasDataWrangling.ipynb",
   "provenance": []
  },
  "kernelspec": {
   "display_name": "Python 3 (ipykernel)",
   "language": "python",
   "name": "python3"
  },
  "language_info": {
   "codemirror_mode": {
    "name": "ipython",
    "version": 3
   },
   "file_extension": ".py",
   "mimetype": "text/x-python",
   "name": "python",
   "nbconvert_exporter": "python",
   "pygments_lexer": "ipython3",
   "version": "3.10.2"
  },
  "toc": {
   "base_numbering": 1,
   "nav_menu": {},
   "number_sections": false,
   "sideBar": true,
   "skip_h1_title": false,
   "title_cell": "Table of Contents",
   "title_sidebar": "Contents",
   "toc_cell": false,
   "toc_position": {
    "height": "calc(100% - 180px)",
    "left": "10px",
    "top": "150px",
    "width": "384px"
   },
   "toc_section_display": true,
   "toc_window_display": true
  }
 },
 "nbformat": 4,
 "nbformat_minor": 1
}
